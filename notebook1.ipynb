{
  "nbformat": 4,
  "nbformat_minor": 0,
  "metadata": {
    "colab": {
      "name": "notebook.ipynb",
      "version": "0.3.2",
      "views": {},
      "default_view": {},
      "provenance": [],
      "toc_visible": true
    },
    "kernelspec": {
      "display_name": "Python 3",
      "language": "python",
      "name": "python3"
    }
  },
  "cells": [
    {
      "metadata": {
        "id": "L3LY3FpwzSqP",
        "colab_type": "text"
      },
      "cell_type": "markdown",
      "source": [
        "# Prediction based on All India Quota Under Graduate Allotment -2017"
      ]
    },
    {
      "metadata": {
        "id": "aICWr7HtzSqR",
        "colab_type": "code",
        "colab": {
          "autoexec": {
            "startup": false,
            "wait_interval": 0
          }
        }
      },
      "cell_type": "code",
      "source": [
        "#importing various libraries needed for our model\n",
        "\n",
        "import numpy as np\n",
        "import pandas as pd\n",
        "from sklearn.model_selection import train_test_split\n",
        "from sklearn.tree import DecisionTreeRegressor\n",
        "from sklearn.metrics import confusion_matrix\n",
        "from sklearn.svm import SVR\n",
        "from sklearn.linear_model import LinearRegression\n",
        "import re"
      ],
      "execution_count": 0,
      "outputs": []
    },
    {
      "metadata": {
        "id": "AHd12H6jzSqX",
        "colab_type": "code",
        "colab": {
          "autoexec": {
            "startup": false,
            "wait_interval": 0
          },
          "base_uri": "https://localhost:8080/",
          "height": 34
        },
        "outputId": "f98a34d2-ee3f-473d-b9b2-6f1c59a20a87",
        "executionInfo": {
          "status": "ok",
          "timestamp": 1527151618158,
          "user_tz": -330,
          "elapsed": 2830,
          "user": {
            "displayName": "Anuj Ratnam",
            "photoUrl": "//lh3.googleusercontent.com/-G7VrGRjl-1A/AAAAAAAAAAI/AAAAAAAAAHo/qZTBxEwayiU/s50-c-k-no/photo.jpg",
            "userId": "106856249305336310963"
          }
        }
      },
      "cell_type": "code",
      "source": [
        "ls"
      ],
      "execution_count": 11,
      "outputs": [
        {
          "output_type": "stream",
          "text": [
            "\u001b[0m\u001b[01;34mdatalab\u001b[0m/\r\n"
          ],
          "name": "stdout"
        }
      ]
    },
    {
      "metadata": {
        "id": "vH30mr1-zSqe",
        "colab_type": "code",
        "colab": {
          "autoexec": {
            "startup": false,
            "wait_interval": 0
          },
          "base_uri": "https://localhost:8080/",
          "height": 863
        },
        "outputId": "9aba16b9-7c60-4d56-e654-2be3ebaaa0c6",
        "executionInfo": {
          "status": "error",
          "timestamp": 1527151625729,
          "user_tz": -330,
          "elapsed": 1781,
          "user": {
            "displayName": "Anuj Ratnam",
            "photoUrl": "//lh3.googleusercontent.com/-G7VrGRjl-1A/AAAAAAAAAAI/AAAAAAAAAHo/qZTBxEwayiU/s50-c-k-no/photo.jpg",
            "userId": "106856249305336310963"
          }
        }
      },
      "cell_type": "code",
      "source": [
        "# read csv\n",
        "\n",
        "data = pd.read_csv('round_1_alloted.csv',header=None)"
      ],
      "execution_count": 12,
      "outputs": [
        {
          "output_type": "error",
          "ename": "FileNotFoundError",
          "evalue": "ignored",
          "traceback": [
            "\u001b[0;31m---------------------------------------------------------------------------\u001b[0m",
            "\u001b[0;31mFileNotFoundError\u001b[0m                         Traceback (most recent call last)",
            "\u001b[0;32m<ipython-input-12-026fb359b4bd>\u001b[0m in \u001b[0;36m<module>\u001b[0;34m()\u001b[0m\n\u001b[1;32m      1\u001b[0m \u001b[0;34m\u001b[0m\u001b[0m\n\u001b[0;32m----> 2\u001b[0;31m \u001b[0mdata\u001b[0m \u001b[0;34m=\u001b[0m \u001b[0mpd\u001b[0m\u001b[0;34m.\u001b[0m\u001b[0mread_csv\u001b[0m\u001b[0;34m(\u001b[0m\u001b[0;34m'round_1_alloted.csv'\u001b[0m\u001b[0;34m,\u001b[0m\u001b[0mheader\u001b[0m\u001b[0;34m=\u001b[0m\u001b[0;32mNone\u001b[0m\u001b[0;34m)\u001b[0m\u001b[0;34m\u001b[0m\u001b[0m\n\u001b[0m",
            "\u001b[0;32m/usr/local/lib/python3.6/dist-packages/pandas/io/parsers.py\u001b[0m in \u001b[0;36mparser_f\u001b[0;34m(filepath_or_buffer, sep, delimiter, header, names, index_col, usecols, squeeze, prefix, mangle_dupe_cols, dtype, engine, converters, true_values, false_values, skipinitialspace, skiprows, nrows, na_values, keep_default_na, na_filter, verbose, skip_blank_lines, parse_dates, infer_datetime_format, keep_date_col, date_parser, dayfirst, iterator, chunksize, compression, thousands, decimal, lineterminator, quotechar, quoting, escapechar, comment, encoding, dialect, tupleize_cols, error_bad_lines, warn_bad_lines, skipfooter, skip_footer, doublequote, delim_whitespace, as_recarray, compact_ints, use_unsigned, low_memory, buffer_lines, memory_map, float_precision)\u001b[0m\n\u001b[1;32m    707\u001b[0m                     skip_blank_lines=skip_blank_lines)\n\u001b[1;32m    708\u001b[0m \u001b[0;34m\u001b[0m\u001b[0m\n\u001b[0;32m--> 709\u001b[0;31m         \u001b[0;32mreturn\u001b[0m \u001b[0m_read\u001b[0m\u001b[0;34m(\u001b[0m\u001b[0mfilepath_or_buffer\u001b[0m\u001b[0;34m,\u001b[0m \u001b[0mkwds\u001b[0m\u001b[0;34m)\u001b[0m\u001b[0;34m\u001b[0m\u001b[0m\n\u001b[0m\u001b[1;32m    710\u001b[0m \u001b[0;34m\u001b[0m\u001b[0m\n\u001b[1;32m    711\u001b[0m     \u001b[0mparser_f\u001b[0m\u001b[0;34m.\u001b[0m\u001b[0m__name__\u001b[0m \u001b[0;34m=\u001b[0m \u001b[0mname\u001b[0m\u001b[0;34m\u001b[0m\u001b[0m\n",
            "\u001b[0;32m/usr/local/lib/python3.6/dist-packages/pandas/io/parsers.py\u001b[0m in \u001b[0;36m_read\u001b[0;34m(filepath_or_buffer, kwds)\u001b[0m\n\u001b[1;32m    447\u001b[0m \u001b[0;34m\u001b[0m\u001b[0m\n\u001b[1;32m    448\u001b[0m     \u001b[0;31m# Create the parser.\u001b[0m\u001b[0;34m\u001b[0m\u001b[0;34m\u001b[0m\u001b[0m\n\u001b[0;32m--> 449\u001b[0;31m     \u001b[0mparser\u001b[0m \u001b[0;34m=\u001b[0m \u001b[0mTextFileReader\u001b[0m\u001b[0;34m(\u001b[0m\u001b[0mfilepath_or_buffer\u001b[0m\u001b[0;34m,\u001b[0m \u001b[0;34m**\u001b[0m\u001b[0mkwds\u001b[0m\u001b[0;34m)\u001b[0m\u001b[0;34m\u001b[0m\u001b[0m\n\u001b[0m\u001b[1;32m    450\u001b[0m \u001b[0;34m\u001b[0m\u001b[0m\n\u001b[1;32m    451\u001b[0m     \u001b[0;32mif\u001b[0m \u001b[0mchunksize\u001b[0m \u001b[0;32mor\u001b[0m \u001b[0miterator\u001b[0m\u001b[0;34m:\u001b[0m\u001b[0;34m\u001b[0m\u001b[0m\n",
            "\u001b[0;32m/usr/local/lib/python3.6/dist-packages/pandas/io/parsers.py\u001b[0m in \u001b[0;36m__init__\u001b[0;34m(self, f, engine, **kwds)\u001b[0m\n\u001b[1;32m    816\u001b[0m             \u001b[0mself\u001b[0m\u001b[0;34m.\u001b[0m\u001b[0moptions\u001b[0m\u001b[0;34m[\u001b[0m\u001b[0;34m'has_index_names'\u001b[0m\u001b[0;34m]\u001b[0m \u001b[0;34m=\u001b[0m \u001b[0mkwds\u001b[0m\u001b[0;34m[\u001b[0m\u001b[0;34m'has_index_names'\u001b[0m\u001b[0;34m]\u001b[0m\u001b[0;34m\u001b[0m\u001b[0m\n\u001b[1;32m    817\u001b[0m \u001b[0;34m\u001b[0m\u001b[0m\n\u001b[0;32m--> 818\u001b[0;31m         \u001b[0mself\u001b[0m\u001b[0;34m.\u001b[0m\u001b[0m_make_engine\u001b[0m\u001b[0;34m(\u001b[0m\u001b[0mself\u001b[0m\u001b[0;34m.\u001b[0m\u001b[0mengine\u001b[0m\u001b[0;34m)\u001b[0m\u001b[0;34m\u001b[0m\u001b[0m\n\u001b[0m\u001b[1;32m    819\u001b[0m \u001b[0;34m\u001b[0m\u001b[0m\n\u001b[1;32m    820\u001b[0m     \u001b[0;32mdef\u001b[0m \u001b[0mclose\u001b[0m\u001b[0;34m(\u001b[0m\u001b[0mself\u001b[0m\u001b[0;34m)\u001b[0m\u001b[0;34m:\u001b[0m\u001b[0;34m\u001b[0m\u001b[0m\n",
            "\u001b[0;32m/usr/local/lib/python3.6/dist-packages/pandas/io/parsers.py\u001b[0m in \u001b[0;36m_make_engine\u001b[0;34m(self, engine)\u001b[0m\n\u001b[1;32m   1047\u001b[0m     \u001b[0;32mdef\u001b[0m \u001b[0m_make_engine\u001b[0m\u001b[0;34m(\u001b[0m\u001b[0mself\u001b[0m\u001b[0;34m,\u001b[0m \u001b[0mengine\u001b[0m\u001b[0;34m=\u001b[0m\u001b[0;34m'c'\u001b[0m\u001b[0;34m)\u001b[0m\u001b[0;34m:\u001b[0m\u001b[0;34m\u001b[0m\u001b[0m\n\u001b[1;32m   1048\u001b[0m         \u001b[0;32mif\u001b[0m \u001b[0mengine\u001b[0m \u001b[0;34m==\u001b[0m \u001b[0;34m'c'\u001b[0m\u001b[0;34m:\u001b[0m\u001b[0;34m\u001b[0m\u001b[0m\n\u001b[0;32m-> 1049\u001b[0;31m             \u001b[0mself\u001b[0m\u001b[0;34m.\u001b[0m\u001b[0m_engine\u001b[0m \u001b[0;34m=\u001b[0m \u001b[0mCParserWrapper\u001b[0m\u001b[0;34m(\u001b[0m\u001b[0mself\u001b[0m\u001b[0;34m.\u001b[0m\u001b[0mf\u001b[0m\u001b[0;34m,\u001b[0m \u001b[0;34m**\u001b[0m\u001b[0mself\u001b[0m\u001b[0;34m.\u001b[0m\u001b[0moptions\u001b[0m\u001b[0;34m)\u001b[0m\u001b[0;34m\u001b[0m\u001b[0m\n\u001b[0m\u001b[1;32m   1050\u001b[0m         \u001b[0;32melse\u001b[0m\u001b[0;34m:\u001b[0m\u001b[0;34m\u001b[0m\u001b[0m\n\u001b[1;32m   1051\u001b[0m             \u001b[0;32mif\u001b[0m \u001b[0mengine\u001b[0m \u001b[0;34m==\u001b[0m \u001b[0;34m'python'\u001b[0m\u001b[0;34m:\u001b[0m\u001b[0;34m\u001b[0m\u001b[0m\n",
            "\u001b[0;32m/usr/local/lib/python3.6/dist-packages/pandas/io/parsers.py\u001b[0m in \u001b[0;36m__init__\u001b[0;34m(self, src, **kwds)\u001b[0m\n\u001b[1;32m   1693\u001b[0m         \u001b[0mkwds\u001b[0m\u001b[0;34m[\u001b[0m\u001b[0;34m'allow_leading_cols'\u001b[0m\u001b[0;34m]\u001b[0m \u001b[0;34m=\u001b[0m \u001b[0mself\u001b[0m\u001b[0;34m.\u001b[0m\u001b[0mindex_col\u001b[0m \u001b[0;32mis\u001b[0m \u001b[0;32mnot\u001b[0m \u001b[0;32mFalse\u001b[0m\u001b[0;34m\u001b[0m\u001b[0m\n\u001b[1;32m   1694\u001b[0m \u001b[0;34m\u001b[0m\u001b[0m\n\u001b[0;32m-> 1695\u001b[0;31m         \u001b[0mself\u001b[0m\u001b[0;34m.\u001b[0m\u001b[0m_reader\u001b[0m \u001b[0;34m=\u001b[0m \u001b[0mparsers\u001b[0m\u001b[0;34m.\u001b[0m\u001b[0mTextReader\u001b[0m\u001b[0;34m(\u001b[0m\u001b[0msrc\u001b[0m\u001b[0;34m,\u001b[0m \u001b[0;34m**\u001b[0m\u001b[0mkwds\u001b[0m\u001b[0;34m)\u001b[0m\u001b[0;34m\u001b[0m\u001b[0m\n\u001b[0m\u001b[1;32m   1696\u001b[0m \u001b[0;34m\u001b[0m\u001b[0m\n\u001b[1;32m   1697\u001b[0m         \u001b[0;31m# XXX\u001b[0m\u001b[0;34m\u001b[0m\u001b[0;34m\u001b[0m\u001b[0m\n",
            "\u001b[0;32mpandas/_libs/parsers.pyx\u001b[0m in \u001b[0;36mpandas._libs.parsers.TextReader.__cinit__\u001b[0;34m()\u001b[0m\n",
            "\u001b[0;32mpandas/_libs/parsers.pyx\u001b[0m in \u001b[0;36mpandas._libs.parsers.TextReader._setup_parser_source\u001b[0;34m()\u001b[0m\n",
            "\u001b[0;31mFileNotFoundError\u001b[0m: File b'round_1_alloted.csv' does not exist"
          ]
        }
      ]
    },
    {
      "metadata": {
        "id": "znliyQoJ404d",
        "colab_type": "code",
        "colab": {
          "autoexec": {
            "startup": false,
            "wait_interval": 0
          },
          "base_uri": "https://localhost:8080/",
          "height": 204
        },
        "outputId": "03893cd0-84ae-4bfb-fee1-fc7b589aa8ec",
        "executionInfo": {
          "status": "ok",
          "timestamp": 1527149364565,
          "user_tz": -330,
          "elapsed": 825,
          "user": {
            "displayName": "kunal goyal",
            "photoUrl": "//lh5.googleusercontent.com/-rcLjThBigII/AAAAAAAAAAI/AAAAAAAAATw/VeIoSWBx26c/s50-c-k-no/photo.jpg",
            "userId": "115961755730533780132"
          }
        }
      },
      "cell_type": "code",
      "source": [
        "data.head()"
      ],
      "execution_count": 133,
      "outputs": [
        {
          "output_type": "execute_result",
          "data": {
            "text/html": [
              "<div>\n",
              "<style scoped>\n",
              "    .dataframe tbody tr th:only-of-type {\n",
              "        vertical-align: middle;\n",
              "    }\n",
              "\n",
              "    .dataframe tbody tr th {\n",
              "        vertical-align: top;\n",
              "    }\n",
              "\n",
              "    .dataframe thead th {\n",
              "        text-align: right;\n",
              "    }\n",
              "</style>\n",
              "<table border=\"1\" class=\"dataframe\">\n",
              "  <thead>\n",
              "    <tr style=\"text-align: right;\">\n",
              "      <th></th>\n",
              "      <th>0</th>\n",
              "      <th>1</th>\n",
              "      <th>2</th>\n",
              "      <th>3</th>\n",
              "      <th>4</th>\n",
              "      <th>5</th>\n",
              "      <th>6</th>\n",
              "    </tr>\n",
              "  </thead>\n",
              "  <tbody>\n",
              "    <tr>\n",
              "      <th>0</th>\n",
              "      <td>1</td>\n",
              "      <td>1</td>\n",
              "      <td>MAULANA AZAD MEDICAL COLLEGE, NEW\\rDELHI</td>\n",
              "      <td>MBBS</td>\n",
              "      <td>UR</td>\n",
              "      <td>UR</td>\n",
              "      <td>Allotted</td>\n",
              "    </tr>\n",
              "    <tr>\n",
              "      <th>1</th>\n",
              "      <td>2</td>\n",
              "      <td>4</td>\n",
              "      <td>BANGALORE MED. COLLEGE,BANGALORE</td>\n",
              "      <td>MBBS</td>\n",
              "      <td>UR</td>\n",
              "      <td>UR</td>\n",
              "      <td>Allotted</td>\n",
              "    </tr>\n",
              "    <tr>\n",
              "      <th>2</th>\n",
              "      <td>3</td>\n",
              "      <td>7</td>\n",
              "      <td>MAULANA AZAD MEDICAL COLLEGE, NEW\\rDELHI</td>\n",
              "      <td>MBBS</td>\n",
              "      <td>UR</td>\n",
              "      <td>UR</td>\n",
              "      <td>Allotted</td>\n",
              "    </tr>\n",
              "    <tr>\n",
              "      <th>3</th>\n",
              "      <td>4</td>\n",
              "      <td>8</td>\n",
              "      <td>MAULANA AZAD MEDICAL COLLEGE, NEW\\rDELHI</td>\n",
              "      <td>MBBS</td>\n",
              "      <td>UR</td>\n",
              "      <td>UR</td>\n",
              "      <td>Allotted</td>\n",
              "    </tr>\n",
              "    <tr>\n",
              "      <th>4</th>\n",
              "      <td>5</td>\n",
              "      <td>10</td>\n",
              "      <td>MAULANA AZAD MEDICAL COLLEGE, NEW\\rDELHI</td>\n",
              "      <td>MBBS</td>\n",
              "      <td>UR</td>\n",
              "      <td>UR</td>\n",
              "      <td>Allotted</td>\n",
              "    </tr>\n",
              "  </tbody>\n",
              "</table>\n",
              "</div>"
            ],
            "text/plain": [
              "   0   1                                         2     3   4   5         6\n",
              "0  1   1  MAULANA AZAD MEDICAL COLLEGE, NEW\\rDELHI  MBBS  UR  UR  Allotted\n",
              "1  2   4          BANGALORE MED. COLLEGE,BANGALORE  MBBS  UR  UR  Allotted\n",
              "2  3   7  MAULANA AZAD MEDICAL COLLEGE, NEW\\rDELHI  MBBS  UR  UR  Allotted\n",
              "3  4   8  MAULANA AZAD MEDICAL COLLEGE, NEW\\rDELHI  MBBS  UR  UR  Allotted\n",
              "4  5  10  MAULANA AZAD MEDICAL COLLEGE, NEW\\rDELHI  MBBS  UR  UR  Allotted"
            ]
          },
          "metadata": {
            "tags": []
          },
          "execution_count": 133
        }
      ]
    },
    {
      "metadata": {
        "id": "y4lTiHBRzSqi",
        "colab_type": "code",
        "colab": {
          "autoexec": {
            "startup": false,
            "wait_interval": 0
          }
        }
      },
      "cell_type": "code",
      "source": [
        "data = data.set_index(0)\n",
        "#print(data)"
      ],
      "execution_count": 0,
      "outputs": []
    },
    {
      "metadata": {
        "id": "mWAHJwPazSql",
        "colab_type": "code",
        "colab": {
          "autoexec": {
            "startup": false,
            "wait_interval": 0
          },
          "base_uri": "https://localhost:8080/",
          "height": 235
        },
        "outputId": "b011bfa6-974d-4a5e-966e-ddaee69b9e6f",
        "executionInfo": {
          "status": "ok",
          "timestamp": 1527149366780,
          "user_tz": -330,
          "elapsed": 833,
          "user": {
            "displayName": "kunal goyal",
            "photoUrl": "//lh5.googleusercontent.com/-rcLjThBigII/AAAAAAAAAAI/AAAAAAAAATw/VeIoSWBx26c/s50-c-k-no/photo.jpg",
            "userId": "115961755730533780132"
          }
        }
      },
      "cell_type": "code",
      "source": [
        "data.head()\n"
      ],
      "execution_count": 135,
      "outputs": [
        {
          "output_type": "execute_result",
          "data": {
            "text/html": [
              "<div>\n",
              "<style scoped>\n",
              "    .dataframe tbody tr th:only-of-type {\n",
              "        vertical-align: middle;\n",
              "    }\n",
              "\n",
              "    .dataframe tbody tr th {\n",
              "        vertical-align: top;\n",
              "    }\n",
              "\n",
              "    .dataframe thead th {\n",
              "        text-align: right;\n",
              "    }\n",
              "</style>\n",
              "<table border=\"1\" class=\"dataframe\">\n",
              "  <thead>\n",
              "    <tr style=\"text-align: right;\">\n",
              "      <th></th>\n",
              "      <th>1</th>\n",
              "      <th>2</th>\n",
              "      <th>3</th>\n",
              "      <th>4</th>\n",
              "      <th>5</th>\n",
              "      <th>6</th>\n",
              "    </tr>\n",
              "    <tr>\n",
              "      <th>0</th>\n",
              "      <th></th>\n",
              "      <th></th>\n",
              "      <th></th>\n",
              "      <th></th>\n",
              "      <th></th>\n",
              "      <th></th>\n",
              "    </tr>\n",
              "  </thead>\n",
              "  <tbody>\n",
              "    <tr>\n",
              "      <th>1</th>\n",
              "      <td>1</td>\n",
              "      <td>MAULANA AZAD MEDICAL COLLEGE, NEW\\rDELHI</td>\n",
              "      <td>MBBS</td>\n",
              "      <td>UR</td>\n",
              "      <td>UR</td>\n",
              "      <td>Allotted</td>\n",
              "    </tr>\n",
              "    <tr>\n",
              "      <th>2</th>\n",
              "      <td>4</td>\n",
              "      <td>BANGALORE MED. COLLEGE,BANGALORE</td>\n",
              "      <td>MBBS</td>\n",
              "      <td>UR</td>\n",
              "      <td>UR</td>\n",
              "      <td>Allotted</td>\n",
              "    </tr>\n",
              "    <tr>\n",
              "      <th>3</th>\n",
              "      <td>7</td>\n",
              "      <td>MAULANA AZAD MEDICAL COLLEGE, NEW\\rDELHI</td>\n",
              "      <td>MBBS</td>\n",
              "      <td>UR</td>\n",
              "      <td>UR</td>\n",
              "      <td>Allotted</td>\n",
              "    </tr>\n",
              "    <tr>\n",
              "      <th>4</th>\n",
              "      <td>8</td>\n",
              "      <td>MAULANA AZAD MEDICAL COLLEGE, NEW\\rDELHI</td>\n",
              "      <td>MBBS</td>\n",
              "      <td>UR</td>\n",
              "      <td>UR</td>\n",
              "      <td>Allotted</td>\n",
              "    </tr>\n",
              "    <tr>\n",
              "      <th>5</th>\n",
              "      <td>10</td>\n",
              "      <td>MAULANA AZAD MEDICAL COLLEGE, NEW\\rDELHI</td>\n",
              "      <td>MBBS</td>\n",
              "      <td>UR</td>\n",
              "      <td>UR</td>\n",
              "      <td>Allotted</td>\n",
              "    </tr>\n",
              "  </tbody>\n",
              "</table>\n",
              "</div>"
            ],
            "text/plain": [
              "    1                                         2     3   4   5         6\n",
              "0                                                                      \n",
              "1   1  MAULANA AZAD MEDICAL COLLEGE, NEW\\rDELHI  MBBS  UR  UR  Allotted\n",
              "2   4          BANGALORE MED. COLLEGE,BANGALORE  MBBS  UR  UR  Allotted\n",
              "3   7  MAULANA AZAD MEDICAL COLLEGE, NEW\\rDELHI  MBBS  UR  UR  Allotted\n",
              "4   8  MAULANA AZAD MEDICAL COLLEGE, NEW\\rDELHI  MBBS  UR  UR  Allotted\n",
              "5  10  MAULANA AZAD MEDICAL COLLEGE, NEW\\rDELHI  MBBS  UR  UR  Allotted"
            ]
          },
          "metadata": {
            "tags": []
          },
          "execution_count": 135
        }
      ]
    },
    {
      "metadata": {
        "id": "UwwEAciPzSqr",
        "colab_type": "code",
        "colab": {
          "autoexec": {
            "startup": false,
            "wait_interval": 0
          },
          "base_uri": "https://localhost:8080/",
          "height": 547
        },
        "outputId": "e5d70d66-5c38-49cd-a42c-178f1bf97371",
        "executionInfo": {
          "status": "ok",
          "timestamp": 1527149380197,
          "user_tz": -330,
          "elapsed": 13262,
          "user": {
            "displayName": "kunal goyal",
            "photoUrl": "//lh5.googleusercontent.com/-rcLjThBigII/AAAAAAAAAAI/AAAAAAAAATw/VeIoSWBx26c/s50-c-k-no/photo.jpg",
            "userId": "115961755730533780132"
          }
        }
      },
      "cell_type": "code",
      "source": [
        "for idx,row in data.iterrows():\n",
        "    if(row[5] == 'UR PH1'):\n",
        "        data[5][idx] = 'UR PH'\n",
        "    if(row[5] == 'OBC PH1'):\n",
        "        data[5][idx] = 'OBC PH'\n",
        "    if(row[5] == 'SC PH1'):\n",
        "        data[5][idx] = 'SC PH'\n",
        "    if(row[5] == 'UR PH2'):\n",
        "        data[5][idx] = 'UR PH'\n",
        "    if(row[5] == 'OBC PH2'):\n",
        "        data[5][idx] = 'OBC PH'\n",
        "    if(row[5] == 'SC PH2'):\n",
        "        data[5][idx] = 'SC PH'\n",
        "    if(row[5] == 'ST PH1' or row[5] == 'ST PH2'):\n",
        "        data[5][idx] = 'ST PH'"
      ],
      "execution_count": 136,
      "outputs": [
        {
          "output_type": "stream",
          "text": [
            "/usr/local/lib/python3.6/dist-packages/ipykernel_launcher.py:11: SettingWithCopyWarning: \n",
            "A value is trying to be set on a copy of a slice from a DataFrame\n",
            "\n",
            "See the caveats in the documentation: http://pandas.pydata.org/pandas-docs/stable/indexing.html#indexing-view-versus-copy\n",
            "  # This is added back by InteractiveShellApp.init_path()\n",
            "/usr/local/lib/python3.6/dist-packages/ipykernel_launcher.py:3: SettingWithCopyWarning: \n",
            "A value is trying to be set on a copy of a slice from a DataFrame\n",
            "\n",
            "See the caveats in the documentation: http://pandas.pydata.org/pandas-docs/stable/indexing.html#indexing-view-versus-copy\n",
            "  This is separate from the ipykernel package so we can avoid doing imports until\n",
            "/usr/local/lib/python3.6/dist-packages/ipykernel_launcher.py:5: SettingWithCopyWarning: \n",
            "A value is trying to be set on a copy of a slice from a DataFrame\n",
            "\n",
            "See the caveats in the documentation: http://pandas.pydata.org/pandas-docs/stable/indexing.html#indexing-view-versus-copy\n",
            "  \"\"\"\n",
            "/usr/local/lib/python3.6/dist-packages/ipykernel_launcher.py:13: SettingWithCopyWarning: \n",
            "A value is trying to be set on a copy of a slice from a DataFrame\n",
            "\n",
            "See the caveats in the documentation: http://pandas.pydata.org/pandas-docs/stable/indexing.html#indexing-view-versus-copy\n",
            "  del sys.path[0]\n",
            "/usr/local/lib/python3.6/dist-packages/ipykernel_launcher.py:7: SettingWithCopyWarning: \n",
            "A value is trying to be set on a copy of a slice from a DataFrame\n",
            "\n",
            "See the caveats in the documentation: http://pandas.pydata.org/pandas-docs/stable/indexing.html#indexing-view-versus-copy\n",
            "  import sys\n",
            "/usr/local/lib/python3.6/dist-packages/ipykernel_launcher.py:15: SettingWithCopyWarning: \n",
            "A value is trying to be set on a copy of a slice from a DataFrame\n",
            "\n",
            "See the caveats in the documentation: http://pandas.pydata.org/pandas-docs/stable/indexing.html#indexing-view-versus-copy\n",
            "  from ipykernel import kernelapp as app\n"
          ],
          "name": "stderr"
        }
      ]
    },
    {
      "metadata": {
        "id": "oIES6pu0zSq2",
        "colab_type": "code",
        "colab": {
          "autoexec": {
            "startup": false,
            "wait_interval": 0
          }
        }
      },
      "cell_type": "code",
      "source": [
        "# drop 6th coloumn as it only has 'Allotted' value.\n",
        "\n",
        "data = data.drop(6,axis=1)"
      ],
      "execution_count": 0,
      "outputs": []
    },
    {
      "metadata": {
        "id": "xz180M2_zSq5",
        "colab_type": "code",
        "colab": {
          "autoexec": {
            "startup": false,
            "wait_interval": 0
          }
        }
      },
      "cell_type": "code",
      "source": [
        "# dictionary to map college to integer value\n",
        "\n",
        "from collections import defaultdict\n",
        "clg_to_int = defaultdict(str)\n",
        "idx = 0\n",
        "for i in data[2]:\n",
        "    if(i not in clg_to_int):\n",
        "        clg_to_int[i] = idx\n",
        "        idx+=1"
      ],
      "execution_count": 0,
      "outputs": []
    },
    {
      "metadata": {
        "id": "PX6wtcD3zSq9",
        "colab_type": "code",
        "colab": {
          "autoexec": {
            "startup": false,
            "wait_interval": 0
          }
        }
      },
      "cell_type": "code",
      "source": [
        "#clg_to_int\n",
        "#int_to_clg\n",
        "# there are 217 colleges from 0 to 216 :-)"
      ],
      "execution_count": 0,
      "outputs": []
    },
    {
      "metadata": {
        "id": "GIC1erS5zSrC",
        "colab_type": "code",
        "colab": {
          "autoexec": {
            "startup": false,
            "wait_interval": 0
          }
        }
      },
      "cell_type": "code",
      "source": [
        "# map int to college through previous clg_to_int mapping\n",
        "\n",
        "int_to_clg = ['str']*218\n",
        "for value in clg_to_int:\n",
        "    #print(value)\n",
        "    int_to_clg[clg_to_int[value]] = value"
      ],
      "execution_count": 0,
      "outputs": []
    },
    {
      "metadata": {
        "id": "vDABgTjmLGT4",
        "colab_type": "code",
        "colab": {
          "autoexec": {
            "startup": false,
            "wait_interval": 0
          }
        }
      },
      "cell_type": "code",
      "source": [
        "for i in range(len(int_to_clg)):\n",
        "  int_to_clg[i]=re.sub('\\r',' ',int_to_clg[i])\n",
        "  int_to_clg[i]=re.sub('\\n',' ',int_to_clg[i])"
      ],
      "execution_count": 0,
      "outputs": []
    },
    {
      "metadata": {
        "id": "2RJf0jHdzSrH",
        "colab_type": "code",
        "colab": {
          "autoexec": {
            "startup": false,
            "wait_interval": 0
          },
          "base_uri": "https://localhost:8080/",
          "height": 235
        },
        "outputId": "7eb2bfde-59b1-48b0-b5e2-37d2d8593da2",
        "executionInfo": {
          "status": "ok",
          "timestamp": 1527149390596,
          "user_tz": -330,
          "elapsed": 3598,
          "user": {
            "displayName": "kunal goyal",
            "photoUrl": "//lh5.googleusercontent.com/-rcLjThBigII/AAAAAAAAAAI/AAAAAAAAATw/VeIoSWBx26c/s50-c-k-no/photo.jpg",
            "userId": "115961755730533780132"
          }
        }
      },
      "cell_type": "code",
      "source": [
        "# add extra coloumn to convert college name to previously mapped value\n",
        "\n",
        "data[7] = pd.Series(np.random.randint(len(data)), index=data.index)\n",
        "\n",
        "for i in range(len(data)):\n",
        "    #print(datar)\n",
        "    data.iloc[i,5]=int(clg_to_int[data.iloc[i,1]])\n",
        "data.head()"
      ],
      "execution_count": 142,
      "outputs": [
        {
          "output_type": "execute_result",
          "data": {
            "text/html": [
              "<div>\n",
              "<style scoped>\n",
              "    .dataframe tbody tr th:only-of-type {\n",
              "        vertical-align: middle;\n",
              "    }\n",
              "\n",
              "    .dataframe tbody tr th {\n",
              "        vertical-align: top;\n",
              "    }\n",
              "\n",
              "    .dataframe thead th {\n",
              "        text-align: right;\n",
              "    }\n",
              "</style>\n",
              "<table border=\"1\" class=\"dataframe\">\n",
              "  <thead>\n",
              "    <tr style=\"text-align: right;\">\n",
              "      <th></th>\n",
              "      <th>1</th>\n",
              "      <th>2</th>\n",
              "      <th>3</th>\n",
              "      <th>4</th>\n",
              "      <th>5</th>\n",
              "      <th>7</th>\n",
              "    </tr>\n",
              "    <tr>\n",
              "      <th>0</th>\n",
              "      <th></th>\n",
              "      <th></th>\n",
              "      <th></th>\n",
              "      <th></th>\n",
              "      <th></th>\n",
              "      <th></th>\n",
              "    </tr>\n",
              "  </thead>\n",
              "  <tbody>\n",
              "    <tr>\n",
              "      <th>1</th>\n",
              "      <td>1</td>\n",
              "      <td>MAULANA AZAD MEDICAL COLLEGE, NEW\\rDELHI</td>\n",
              "      <td>MBBS</td>\n",
              "      <td>UR</td>\n",
              "      <td>UR</td>\n",
              "      <td>0</td>\n",
              "    </tr>\n",
              "    <tr>\n",
              "      <th>2</th>\n",
              "      <td>4</td>\n",
              "      <td>BANGALORE MED. COLLEGE,BANGALORE</td>\n",
              "      <td>MBBS</td>\n",
              "      <td>UR</td>\n",
              "      <td>UR</td>\n",
              "      <td>1</td>\n",
              "    </tr>\n",
              "    <tr>\n",
              "      <th>3</th>\n",
              "      <td>7</td>\n",
              "      <td>MAULANA AZAD MEDICAL COLLEGE, NEW\\rDELHI</td>\n",
              "      <td>MBBS</td>\n",
              "      <td>UR</td>\n",
              "      <td>UR</td>\n",
              "      <td>0</td>\n",
              "    </tr>\n",
              "    <tr>\n",
              "      <th>4</th>\n",
              "      <td>8</td>\n",
              "      <td>MAULANA AZAD MEDICAL COLLEGE, NEW\\rDELHI</td>\n",
              "      <td>MBBS</td>\n",
              "      <td>UR</td>\n",
              "      <td>UR</td>\n",
              "      <td>0</td>\n",
              "    </tr>\n",
              "    <tr>\n",
              "      <th>5</th>\n",
              "      <td>10</td>\n",
              "      <td>MAULANA AZAD MEDICAL COLLEGE, NEW\\rDELHI</td>\n",
              "      <td>MBBS</td>\n",
              "      <td>UR</td>\n",
              "      <td>UR</td>\n",
              "      <td>0</td>\n",
              "    </tr>\n",
              "  </tbody>\n",
              "</table>\n",
              "</div>"
            ],
            "text/plain": [
              "    1                                         2     3   4   5  7\n",
              "0                                                               \n",
              "1   1  MAULANA AZAD MEDICAL COLLEGE, NEW\\rDELHI  MBBS  UR  UR  0\n",
              "2   4          BANGALORE MED. COLLEGE,BANGALORE  MBBS  UR  UR  1\n",
              "3   7  MAULANA AZAD MEDICAL COLLEGE, NEW\\rDELHI  MBBS  UR  UR  0\n",
              "4   8  MAULANA AZAD MEDICAL COLLEGE, NEW\\rDELHI  MBBS  UR  UR  0\n",
              "5  10  MAULANA AZAD MEDICAL COLLEGE, NEW\\rDELHI  MBBS  UR  UR  0"
            ]
          },
          "metadata": {
            "tags": []
          },
          "execution_count": 142
        }
      ]
    },
    {
      "metadata": {
        "id": "75rfTvTwzSrO",
        "colab_type": "code",
        "colab": {
          "autoexec": {
            "startup": false,
            "wait_interval": 0
          },
          "base_uri": "https://localhost:8080/",
          "height": 235
        },
        "outputId": "f8eb4787-c8e1-4da2-8210-c1f1b4b7996e",
        "executionInfo": {
          "status": "ok",
          "timestamp": 1527149391580,
          "user_tz": -330,
          "elapsed": 933,
          "user": {
            "displayName": "kunal goyal",
            "photoUrl": "//lh5.googleusercontent.com/-rcLjThBigII/AAAAAAAAAAI/AAAAAAAAATw/VeIoSWBx26c/s50-c-k-no/photo.jpg",
            "userId": "115961755730533780132"
          }
        }
      },
      "cell_type": "code",
      "source": [
        "# now we can drop college name \n",
        "\n",
        "data = data.drop(2,axis = 1)\n",
        "data.head()"
      ],
      "execution_count": 143,
      "outputs": [
        {
          "output_type": "execute_result",
          "data": {
            "text/html": [
              "<div>\n",
              "<style scoped>\n",
              "    .dataframe tbody tr th:only-of-type {\n",
              "        vertical-align: middle;\n",
              "    }\n",
              "\n",
              "    .dataframe tbody tr th {\n",
              "        vertical-align: top;\n",
              "    }\n",
              "\n",
              "    .dataframe thead th {\n",
              "        text-align: right;\n",
              "    }\n",
              "</style>\n",
              "<table border=\"1\" class=\"dataframe\">\n",
              "  <thead>\n",
              "    <tr style=\"text-align: right;\">\n",
              "      <th></th>\n",
              "      <th>1</th>\n",
              "      <th>3</th>\n",
              "      <th>4</th>\n",
              "      <th>5</th>\n",
              "      <th>7</th>\n",
              "    </tr>\n",
              "    <tr>\n",
              "      <th>0</th>\n",
              "      <th></th>\n",
              "      <th></th>\n",
              "      <th></th>\n",
              "      <th></th>\n",
              "      <th></th>\n",
              "    </tr>\n",
              "  </thead>\n",
              "  <tbody>\n",
              "    <tr>\n",
              "      <th>1</th>\n",
              "      <td>1</td>\n",
              "      <td>MBBS</td>\n",
              "      <td>UR</td>\n",
              "      <td>UR</td>\n",
              "      <td>0</td>\n",
              "    </tr>\n",
              "    <tr>\n",
              "      <th>2</th>\n",
              "      <td>4</td>\n",
              "      <td>MBBS</td>\n",
              "      <td>UR</td>\n",
              "      <td>UR</td>\n",
              "      <td>1</td>\n",
              "    </tr>\n",
              "    <tr>\n",
              "      <th>3</th>\n",
              "      <td>7</td>\n",
              "      <td>MBBS</td>\n",
              "      <td>UR</td>\n",
              "      <td>UR</td>\n",
              "      <td>0</td>\n",
              "    </tr>\n",
              "    <tr>\n",
              "      <th>4</th>\n",
              "      <td>8</td>\n",
              "      <td>MBBS</td>\n",
              "      <td>UR</td>\n",
              "      <td>UR</td>\n",
              "      <td>0</td>\n",
              "    </tr>\n",
              "    <tr>\n",
              "      <th>5</th>\n",
              "      <td>10</td>\n",
              "      <td>MBBS</td>\n",
              "      <td>UR</td>\n",
              "      <td>UR</td>\n",
              "      <td>0</td>\n",
              "    </tr>\n",
              "  </tbody>\n",
              "</table>\n",
              "</div>"
            ],
            "text/plain": [
              "    1     3   4   5  7\n",
              "0                     \n",
              "1   1  MBBS  UR  UR  0\n",
              "2   4  MBBS  UR  UR  1\n",
              "3   7  MBBS  UR  UR  0\n",
              "4   8  MBBS  UR  UR  0\n",
              "5  10  MBBS  UR  UR  0"
            ]
          },
          "metadata": {
            "tags": []
          },
          "execution_count": 143
        }
      ]
    },
    {
      "metadata": {
        "id": "co_rnQ9bzSrT",
        "colab_type": "code",
        "colab": {
          "autoexec": {
            "startup": false,
            "wait_interval": 0
          }
        }
      },
      "cell_type": "code",
      "source": [
        "# partition X and Y \n",
        "\n",
        "X = data[[1,3,4,5]]\n",
        "Y = data[7]\n",
        "Y = pd.DataFrame(Y)"
      ],
      "execution_count": 0,
      "outputs": []
    },
    {
      "metadata": {
        "id": "e2psOoTbzSrX",
        "colab_type": "code",
        "colab": {
          "autoexec": {
            "startup": false,
            "wait_interval": 0
          },
          "base_uri": "https://localhost:8080/",
          "height": 235
        },
        "outputId": "1138fe2d-c9b4-4f02-f3e9-832a04ad9c3e",
        "executionInfo": {
          "status": "ok",
          "timestamp": 1527149393670,
          "user_tz": -330,
          "elapsed": 966,
          "user": {
            "displayName": "kunal goyal",
            "photoUrl": "//lh5.googleusercontent.com/-rcLjThBigII/AAAAAAAAAAI/AAAAAAAAATw/VeIoSWBx26c/s50-c-k-no/photo.jpg",
            "userId": "115961755730533780132"
          }
        }
      },
      "cell_type": "code",
      "source": [
        "X.head()"
      ],
      "execution_count": 145,
      "outputs": [
        {
          "output_type": "execute_result",
          "data": {
            "text/html": [
              "<div>\n",
              "<style scoped>\n",
              "    .dataframe tbody tr th:only-of-type {\n",
              "        vertical-align: middle;\n",
              "    }\n",
              "\n",
              "    .dataframe tbody tr th {\n",
              "        vertical-align: top;\n",
              "    }\n",
              "\n",
              "    .dataframe thead th {\n",
              "        text-align: right;\n",
              "    }\n",
              "</style>\n",
              "<table border=\"1\" class=\"dataframe\">\n",
              "  <thead>\n",
              "    <tr style=\"text-align: right;\">\n",
              "      <th></th>\n",
              "      <th>1</th>\n",
              "      <th>3</th>\n",
              "      <th>4</th>\n",
              "      <th>5</th>\n",
              "    </tr>\n",
              "    <tr>\n",
              "      <th>0</th>\n",
              "      <th></th>\n",
              "      <th></th>\n",
              "      <th></th>\n",
              "      <th></th>\n",
              "    </tr>\n",
              "  </thead>\n",
              "  <tbody>\n",
              "    <tr>\n",
              "      <th>1</th>\n",
              "      <td>1</td>\n",
              "      <td>MBBS</td>\n",
              "      <td>UR</td>\n",
              "      <td>UR</td>\n",
              "    </tr>\n",
              "    <tr>\n",
              "      <th>2</th>\n",
              "      <td>4</td>\n",
              "      <td>MBBS</td>\n",
              "      <td>UR</td>\n",
              "      <td>UR</td>\n",
              "    </tr>\n",
              "    <tr>\n",
              "      <th>3</th>\n",
              "      <td>7</td>\n",
              "      <td>MBBS</td>\n",
              "      <td>UR</td>\n",
              "      <td>UR</td>\n",
              "    </tr>\n",
              "    <tr>\n",
              "      <th>4</th>\n",
              "      <td>8</td>\n",
              "      <td>MBBS</td>\n",
              "      <td>UR</td>\n",
              "      <td>UR</td>\n",
              "    </tr>\n",
              "    <tr>\n",
              "      <th>5</th>\n",
              "      <td>10</td>\n",
              "      <td>MBBS</td>\n",
              "      <td>UR</td>\n",
              "      <td>UR</td>\n",
              "    </tr>\n",
              "  </tbody>\n",
              "</table>\n",
              "</div>"
            ],
            "text/plain": [
              "    1     3   4   5\n",
              "0                  \n",
              "1   1  MBBS  UR  UR\n",
              "2   4  MBBS  UR  UR\n",
              "3   7  MBBS  UR  UR\n",
              "4   8  MBBS  UR  UR\n",
              "5  10  MBBS  UR  UR"
            ]
          },
          "metadata": {
            "tags": []
          },
          "execution_count": 145
        }
      ]
    },
    {
      "metadata": {
        "id": "vi97BXDBzSrd",
        "colab_type": "code",
        "colab": {
          "autoexec": {
            "startup": false,
            "wait_interval": 0
          },
          "base_uri": "https://localhost:8080/",
          "height": 390
        },
        "outputId": "94d6e57e-0063-4733-d70d-465a5a92c779",
        "executionInfo": {
          "status": "ok",
          "timestamp": 1527149394669,
          "user_tz": -330,
          "elapsed": 833,
          "user": {
            "displayName": "kunal goyal",
            "photoUrl": "//lh5.googleusercontent.com/-rcLjThBigII/AAAAAAAAAAI/AAAAAAAAATw/VeIoSWBx26c/s50-c-k-no/photo.jpg",
            "userId": "115961755730533780132"
          }
        }
      },
      "cell_type": "code",
      "source": [
        "Y.head(10)"
      ],
      "execution_count": 146,
      "outputs": [
        {
          "output_type": "execute_result",
          "data": {
            "text/html": [
              "<div>\n",
              "<style scoped>\n",
              "    .dataframe tbody tr th:only-of-type {\n",
              "        vertical-align: middle;\n",
              "    }\n",
              "\n",
              "    .dataframe tbody tr th {\n",
              "        vertical-align: top;\n",
              "    }\n",
              "\n",
              "    .dataframe thead th {\n",
              "        text-align: right;\n",
              "    }\n",
              "</style>\n",
              "<table border=\"1\" class=\"dataframe\">\n",
              "  <thead>\n",
              "    <tr style=\"text-align: right;\">\n",
              "      <th></th>\n",
              "      <th>7</th>\n",
              "    </tr>\n",
              "    <tr>\n",
              "      <th>0</th>\n",
              "      <th></th>\n",
              "    </tr>\n",
              "  </thead>\n",
              "  <tbody>\n",
              "    <tr>\n",
              "      <th>1</th>\n",
              "      <td>0</td>\n",
              "    </tr>\n",
              "    <tr>\n",
              "      <th>2</th>\n",
              "      <td>1</td>\n",
              "    </tr>\n",
              "    <tr>\n",
              "      <th>3</th>\n",
              "      <td>0</td>\n",
              "    </tr>\n",
              "    <tr>\n",
              "      <th>4</th>\n",
              "      <td>0</td>\n",
              "    </tr>\n",
              "    <tr>\n",
              "      <th>5</th>\n",
              "      <td>0</td>\n",
              "    </tr>\n",
              "    <tr>\n",
              "      <th>6</th>\n",
              "      <td>0</td>\n",
              "    </tr>\n",
              "    <tr>\n",
              "      <th>7</th>\n",
              "      <td>0</td>\n",
              "    </tr>\n",
              "    <tr>\n",
              "      <th>8</th>\n",
              "      <td>0</td>\n",
              "    </tr>\n",
              "    <tr>\n",
              "      <th>9</th>\n",
              "      <td>0</td>\n",
              "    </tr>\n",
              "    <tr>\n",
              "      <th>10</th>\n",
              "      <td>2</td>\n",
              "    </tr>\n",
              "  </tbody>\n",
              "</table>\n",
              "</div>"
            ],
            "text/plain": [
              "    7\n",
              "0    \n",
              "1   0\n",
              "2   1\n",
              "3   0\n",
              "4   0\n",
              "5   0\n",
              "6   0\n",
              "7   0\n",
              "8   0\n",
              "9   0\n",
              "10  2"
            ]
          },
          "metadata": {
            "tags": []
          },
          "execution_count": 146
        }
      ]
    },
    {
      "metadata": {
        "id": "8CGhzPjJzSrh",
        "colab_type": "code",
        "colab": {
          "autoexec": {
            "startup": false,
            "wait_interval": 0
          }
        }
      },
      "cell_type": "code",
      "source": [
        "# creating category of X\n",
        "\n",
        "category = [3,4,5]\n",
        "for cat in category:\n",
        "    dumm = pd.get_dummies(X[cat],prefix=cat)\n",
        "    X = pd.concat([X,dumm],axis=1)\n",
        "    X.drop(cat,axis=1,inplace = True)\n"
      ],
      "execution_count": 0,
      "outputs": []
    },
    {
      "metadata": {
        "id": "LhcsdK02zSrl",
        "colab_type": "code",
        "colab": {
          "autoexec": {
            "startup": false,
            "wait_interval": 0
          },
          "base_uri": "https://localhost:8080/",
          "height": 272
        },
        "outputId": "6d81eed9-a7cb-470d-8dba-289578dd4000",
        "executionInfo": {
          "status": "ok",
          "timestamp": 1527149396936,
          "user_tz": -330,
          "elapsed": 857,
          "user": {
            "displayName": "kunal goyal",
            "photoUrl": "//lh5.googleusercontent.com/-rcLjThBigII/AAAAAAAAAAI/AAAAAAAAATw/VeIoSWBx26c/s50-c-k-no/photo.jpg",
            "userId": "115961755730533780132"
          }
        }
      },
      "cell_type": "code",
      "source": [
        "# after category \n",
        "X.head()"
      ],
      "execution_count": 148,
      "outputs": [
        {
          "output_type": "execute_result",
          "data": {
            "text/html": [
              "<div>\n",
              "<style scoped>\n",
              "    .dataframe tbody tr th:only-of-type {\n",
              "        vertical-align: middle;\n",
              "    }\n",
              "\n",
              "    .dataframe tbody tr th {\n",
              "        vertical-align: top;\n",
              "    }\n",
              "\n",
              "    .dataframe thead th {\n",
              "        text-align: right;\n",
              "    }\n",
              "</style>\n",
              "<table border=\"1\" class=\"dataframe\">\n",
              "  <thead>\n",
              "    <tr style=\"text-align: right;\">\n",
              "      <th></th>\n",
              "      <th>1</th>\n",
              "      <th>3_BDS</th>\n",
              "      <th>3_MBBS</th>\n",
              "      <th>4_OBC</th>\n",
              "      <th>4_OBC PH</th>\n",
              "      <th>4_SC</th>\n",
              "      <th>4_SC PH</th>\n",
              "      <th>4_ST</th>\n",
              "      <th>4_ST PH</th>\n",
              "      <th>4_UR</th>\n",
              "      <th>4_UR PH</th>\n",
              "      <th>5_OBC</th>\n",
              "      <th>5_OBC PH</th>\n",
              "      <th>5_SC</th>\n",
              "      <th>5_SC PH</th>\n",
              "      <th>5_ST</th>\n",
              "      <th>5_ST PH</th>\n",
              "      <th>5_UR</th>\n",
              "      <th>5_UR PH</th>\n",
              "    </tr>\n",
              "    <tr>\n",
              "      <th>0</th>\n",
              "      <th></th>\n",
              "      <th></th>\n",
              "      <th></th>\n",
              "      <th></th>\n",
              "      <th></th>\n",
              "      <th></th>\n",
              "      <th></th>\n",
              "      <th></th>\n",
              "      <th></th>\n",
              "      <th></th>\n",
              "      <th></th>\n",
              "      <th></th>\n",
              "      <th></th>\n",
              "      <th></th>\n",
              "      <th></th>\n",
              "      <th></th>\n",
              "      <th></th>\n",
              "      <th></th>\n",
              "      <th></th>\n",
              "    </tr>\n",
              "  </thead>\n",
              "  <tbody>\n",
              "    <tr>\n",
              "      <th>1</th>\n",
              "      <td>1</td>\n",
              "      <td>0</td>\n",
              "      <td>1</td>\n",
              "      <td>0</td>\n",
              "      <td>0</td>\n",
              "      <td>0</td>\n",
              "      <td>0</td>\n",
              "      <td>0</td>\n",
              "      <td>0</td>\n",
              "      <td>1</td>\n",
              "      <td>0</td>\n",
              "      <td>0</td>\n",
              "      <td>0</td>\n",
              "      <td>0</td>\n",
              "      <td>0</td>\n",
              "      <td>0</td>\n",
              "      <td>0</td>\n",
              "      <td>1</td>\n",
              "      <td>0</td>\n",
              "    </tr>\n",
              "    <tr>\n",
              "      <th>2</th>\n",
              "      <td>4</td>\n",
              "      <td>0</td>\n",
              "      <td>1</td>\n",
              "      <td>0</td>\n",
              "      <td>0</td>\n",
              "      <td>0</td>\n",
              "      <td>0</td>\n",
              "      <td>0</td>\n",
              "      <td>0</td>\n",
              "      <td>1</td>\n",
              "      <td>0</td>\n",
              "      <td>0</td>\n",
              "      <td>0</td>\n",
              "      <td>0</td>\n",
              "      <td>0</td>\n",
              "      <td>0</td>\n",
              "      <td>0</td>\n",
              "      <td>1</td>\n",
              "      <td>0</td>\n",
              "    </tr>\n",
              "    <tr>\n",
              "      <th>3</th>\n",
              "      <td>7</td>\n",
              "      <td>0</td>\n",
              "      <td>1</td>\n",
              "      <td>0</td>\n",
              "      <td>0</td>\n",
              "      <td>0</td>\n",
              "      <td>0</td>\n",
              "      <td>0</td>\n",
              "      <td>0</td>\n",
              "      <td>1</td>\n",
              "      <td>0</td>\n",
              "      <td>0</td>\n",
              "      <td>0</td>\n",
              "      <td>0</td>\n",
              "      <td>0</td>\n",
              "      <td>0</td>\n",
              "      <td>0</td>\n",
              "      <td>1</td>\n",
              "      <td>0</td>\n",
              "    </tr>\n",
              "    <tr>\n",
              "      <th>4</th>\n",
              "      <td>8</td>\n",
              "      <td>0</td>\n",
              "      <td>1</td>\n",
              "      <td>0</td>\n",
              "      <td>0</td>\n",
              "      <td>0</td>\n",
              "      <td>0</td>\n",
              "      <td>0</td>\n",
              "      <td>0</td>\n",
              "      <td>1</td>\n",
              "      <td>0</td>\n",
              "      <td>0</td>\n",
              "      <td>0</td>\n",
              "      <td>0</td>\n",
              "      <td>0</td>\n",
              "      <td>0</td>\n",
              "      <td>0</td>\n",
              "      <td>1</td>\n",
              "      <td>0</td>\n",
              "    </tr>\n",
              "    <tr>\n",
              "      <th>5</th>\n",
              "      <td>10</td>\n",
              "      <td>0</td>\n",
              "      <td>1</td>\n",
              "      <td>0</td>\n",
              "      <td>0</td>\n",
              "      <td>0</td>\n",
              "      <td>0</td>\n",
              "      <td>0</td>\n",
              "      <td>0</td>\n",
              "      <td>1</td>\n",
              "      <td>0</td>\n",
              "      <td>0</td>\n",
              "      <td>0</td>\n",
              "      <td>0</td>\n",
              "      <td>0</td>\n",
              "      <td>0</td>\n",
              "      <td>0</td>\n",
              "      <td>1</td>\n",
              "      <td>0</td>\n",
              "    </tr>\n",
              "  </tbody>\n",
              "</table>\n",
              "</div>"
            ],
            "text/plain": [
              "    1  3_BDS  3_MBBS  4_OBC  4_OBC PH  4_SC  4_SC PH  4_ST  4_ST PH  4_UR  \\\n",
              "0                                                                           \n",
              "1   1      0       1      0         0     0        0     0        0     1   \n",
              "2   4      0       1      0         0     0        0     0        0     1   \n",
              "3   7      0       1      0         0     0        0     0        0     1   \n",
              "4   8      0       1      0         0     0        0     0        0     1   \n",
              "5  10      0       1      0         0     0        0     0        0     1   \n",
              "\n",
              "   4_UR PH  5_OBC  5_OBC PH  5_SC  5_SC PH  5_ST  5_ST PH  5_UR  5_UR PH  \n",
              "0                                                                         \n",
              "1        0      0         0     0        0     0        0     1        0  \n",
              "2        0      0         0     0        0     0        0     1        0  \n",
              "3        0      0         0     0        0     0        0     1        0  \n",
              "4        0      0         0     0        0     0        0     1        0  \n",
              "5        0      0         0     0        0     0        0     1        0  "
            ]
          },
          "metadata": {
            "tags": []
          },
          "execution_count": 148
        }
      ]
    },
    {
      "metadata": {
        "id": "xpH-FZv-zSrr",
        "colab_type": "code",
        "colab": {
          "autoexec": {
            "startup": false,
            "wait_interval": 0
          }
        }
      },
      "cell_type": "code",
      "source": [
        "# categorizing Y\n",
        "\n",
        "#dumm = pd.get_dummies(Y,prefix=None)"
      ],
      "execution_count": 0,
      "outputs": []
    },
    {
      "metadata": {
        "id": "gT9ftBUszSru",
        "colab_type": "code",
        "colab": {
          "autoexec": {
            "startup": false,
            "wait_interval": 0
          },
          "base_uri": "https://localhost:8080/",
          "height": 390
        },
        "outputId": "ba8d82ea-4139-473e-dd32-ce77248776c8",
        "executionInfo": {
          "status": "ok",
          "timestamp": 1527149398993,
          "user_tz": -330,
          "elapsed": 928,
          "user": {
            "displayName": "kunal goyal",
            "photoUrl": "//lh5.googleusercontent.com/-rcLjThBigII/AAAAAAAAAAI/AAAAAAAAATw/VeIoSWBx26c/s50-c-k-no/photo.jpg",
            "userId": "115961755730533780132"
          }
        }
      },
      "cell_type": "code",
      "source": [
        "Y.head(10)"
      ],
      "execution_count": 150,
      "outputs": [
        {
          "output_type": "execute_result",
          "data": {
            "text/html": [
              "<div>\n",
              "<style scoped>\n",
              "    .dataframe tbody tr th:only-of-type {\n",
              "        vertical-align: middle;\n",
              "    }\n",
              "\n",
              "    .dataframe tbody tr th {\n",
              "        vertical-align: top;\n",
              "    }\n",
              "\n",
              "    .dataframe thead th {\n",
              "        text-align: right;\n",
              "    }\n",
              "</style>\n",
              "<table border=\"1\" class=\"dataframe\">\n",
              "  <thead>\n",
              "    <tr style=\"text-align: right;\">\n",
              "      <th></th>\n",
              "      <th>7</th>\n",
              "    </tr>\n",
              "    <tr>\n",
              "      <th>0</th>\n",
              "      <th></th>\n",
              "    </tr>\n",
              "  </thead>\n",
              "  <tbody>\n",
              "    <tr>\n",
              "      <th>1</th>\n",
              "      <td>0</td>\n",
              "    </tr>\n",
              "    <tr>\n",
              "      <th>2</th>\n",
              "      <td>1</td>\n",
              "    </tr>\n",
              "    <tr>\n",
              "      <th>3</th>\n",
              "      <td>0</td>\n",
              "    </tr>\n",
              "    <tr>\n",
              "      <th>4</th>\n",
              "      <td>0</td>\n",
              "    </tr>\n",
              "    <tr>\n",
              "      <th>5</th>\n",
              "      <td>0</td>\n",
              "    </tr>\n",
              "    <tr>\n",
              "      <th>6</th>\n",
              "      <td>0</td>\n",
              "    </tr>\n",
              "    <tr>\n",
              "      <th>7</th>\n",
              "      <td>0</td>\n",
              "    </tr>\n",
              "    <tr>\n",
              "      <th>8</th>\n",
              "      <td>0</td>\n",
              "    </tr>\n",
              "    <tr>\n",
              "      <th>9</th>\n",
              "      <td>0</td>\n",
              "    </tr>\n",
              "    <tr>\n",
              "      <th>10</th>\n",
              "      <td>2</td>\n",
              "    </tr>\n",
              "  </tbody>\n",
              "</table>\n",
              "</div>"
            ],
            "text/plain": [
              "    7\n",
              "0    \n",
              "1   0\n",
              "2   1\n",
              "3   0\n",
              "4   0\n",
              "5   0\n",
              "6   0\n",
              "7   0\n",
              "8   0\n",
              "9   0\n",
              "10  2"
            ]
          },
          "metadata": {
            "tags": []
          },
          "execution_count": 150
        }
      ]
    },
    {
      "metadata": {
        "id": "NGNY1mj-zSrx",
        "colab_type": "code",
        "colab": {
          "autoexec": {
            "startup": false,
            "wait_interval": 0
          }
        }
      },
      "cell_type": "code",
      "source": [
        "# spliting X and Y in crossvalidation and traing set\n",
        "\n",
        "X_train, X_test, y_train, y_test = train_test_split(X, Y, test_size=0.1, random_state=42)"
      ],
      "execution_count": 0,
      "outputs": []
    },
    {
      "metadata": {
        "id": "uxly9OVizSr0",
        "colab_type": "code",
        "colab": {
          "autoexec": {
            "startup": false,
            "wait_interval": 0
          },
          "base_uri": "https://localhost:8080/",
          "height": 374
        },
        "outputId": "73b4a661-cdba-4ebc-f479-3ba80fc65636",
        "executionInfo": {
          "status": "ok",
          "timestamp": 1527149401114,
          "user_tz": -330,
          "elapsed": 766,
          "user": {
            "displayName": "kunal goyal",
            "photoUrl": "//lh5.googleusercontent.com/-rcLjThBigII/AAAAAAAAAAI/AAAAAAAAATw/VeIoSWBx26c/s50-c-k-no/photo.jpg",
            "userId": "115961755730533780132"
          }
        }
      },
      "cell_type": "code",
      "source": [
        "print(X.shape)\n",
        "print(Y.shape)\n",
        "print(X_train.shape)\n",
        "print(X_test.shape)\n",
        "print(y_train.shape)\n",
        "print(y_test.shape)\n",
        "X_test.head()"
      ],
      "execution_count": 152,
      "outputs": [
        {
          "output_type": "stream",
          "text": [
            "(4018, 19)\n",
            "(4018, 1)\n",
            "(3616, 19)\n",
            "(402, 19)\n",
            "(3616, 1)\n",
            "(402, 1)\n"
          ],
          "name": "stdout"
        },
        {
          "output_type": "execute_result",
          "data": {
            "text/html": [
              "<div>\n",
              "<style scoped>\n",
              "    .dataframe tbody tr th:only-of-type {\n",
              "        vertical-align: middle;\n",
              "    }\n",
              "\n",
              "    .dataframe tbody tr th {\n",
              "        vertical-align: top;\n",
              "    }\n",
              "\n",
              "    .dataframe thead th {\n",
              "        text-align: right;\n",
              "    }\n",
              "</style>\n",
              "<table border=\"1\" class=\"dataframe\">\n",
              "  <thead>\n",
              "    <tr style=\"text-align: right;\">\n",
              "      <th></th>\n",
              "      <th>1</th>\n",
              "      <th>3_BDS</th>\n",
              "      <th>3_MBBS</th>\n",
              "      <th>4_OBC</th>\n",
              "      <th>4_OBC PH</th>\n",
              "      <th>4_SC</th>\n",
              "      <th>4_SC PH</th>\n",
              "      <th>4_ST</th>\n",
              "      <th>4_ST PH</th>\n",
              "      <th>4_UR</th>\n",
              "      <th>4_UR PH</th>\n",
              "      <th>5_OBC</th>\n",
              "      <th>5_OBC PH</th>\n",
              "      <th>5_SC</th>\n",
              "      <th>5_SC PH</th>\n",
              "      <th>5_ST</th>\n",
              "      <th>5_ST PH</th>\n",
              "      <th>5_UR</th>\n",
              "      <th>5_UR PH</th>\n",
              "    </tr>\n",
              "    <tr>\n",
              "      <th>0</th>\n",
              "      <th></th>\n",
              "      <th></th>\n",
              "      <th></th>\n",
              "      <th></th>\n",
              "      <th></th>\n",
              "      <th></th>\n",
              "      <th></th>\n",
              "      <th></th>\n",
              "      <th></th>\n",
              "      <th></th>\n",
              "      <th></th>\n",
              "      <th></th>\n",
              "      <th></th>\n",
              "      <th></th>\n",
              "      <th></th>\n",
              "      <th></th>\n",
              "      <th></th>\n",
              "      <th></th>\n",
              "      <th></th>\n",
              "    </tr>\n",
              "  </thead>\n",
              "  <tbody>\n",
              "    <tr>\n",
              "      <th>1072</th>\n",
              "      <td>1714</td>\n",
              "      <td>0</td>\n",
              "      <td>1</td>\n",
              "      <td>0</td>\n",
              "      <td>0</td>\n",
              "      <td>0</td>\n",
              "      <td>0</td>\n",
              "      <td>0</td>\n",
              "      <td>0</td>\n",
              "      <td>1</td>\n",
              "      <td>0</td>\n",
              "      <td>0</td>\n",
              "      <td>0</td>\n",
              "      <td>0</td>\n",
              "      <td>0</td>\n",
              "      <td>0</td>\n",
              "      <td>0</td>\n",
              "      <td>1</td>\n",
              "      <td>0</td>\n",
              "    </tr>\n",
              "    <tr>\n",
              "      <th>1201</th>\n",
              "      <td>1961</td>\n",
              "      <td>0</td>\n",
              "      <td>1</td>\n",
              "      <td>0</td>\n",
              "      <td>0</td>\n",
              "      <td>0</td>\n",
              "      <td>0</td>\n",
              "      <td>0</td>\n",
              "      <td>0</td>\n",
              "      <td>1</td>\n",
              "      <td>0</td>\n",
              "      <td>0</td>\n",
              "      <td>0</td>\n",
              "      <td>0</td>\n",
              "      <td>0</td>\n",
              "      <td>0</td>\n",
              "      <td>0</td>\n",
              "      <td>1</td>\n",
              "      <td>0</td>\n",
              "    </tr>\n",
              "    <tr>\n",
              "      <th>2719</th>\n",
              "      <td>5522</td>\n",
              "      <td>0</td>\n",
              "      <td>1</td>\n",
              "      <td>0</td>\n",
              "      <td>0</td>\n",
              "      <td>0</td>\n",
              "      <td>0</td>\n",
              "      <td>0</td>\n",
              "      <td>0</td>\n",
              "      <td>1</td>\n",
              "      <td>0</td>\n",
              "      <td>0</td>\n",
              "      <td>0</td>\n",
              "      <td>0</td>\n",
              "      <td>0</td>\n",
              "      <td>0</td>\n",
              "      <td>0</td>\n",
              "      <td>1</td>\n",
              "      <td>0</td>\n",
              "    </tr>\n",
              "    <tr>\n",
              "      <th>1290</th>\n",
              "      <td>2156</td>\n",
              "      <td>0</td>\n",
              "      <td>1</td>\n",
              "      <td>0</td>\n",
              "      <td>0</td>\n",
              "      <td>0</td>\n",
              "      <td>0</td>\n",
              "      <td>0</td>\n",
              "      <td>0</td>\n",
              "      <td>1</td>\n",
              "      <td>0</td>\n",
              "      <td>0</td>\n",
              "      <td>0</td>\n",
              "      <td>0</td>\n",
              "      <td>0</td>\n",
              "      <td>0</td>\n",
              "      <td>0</td>\n",
              "      <td>1</td>\n",
              "      <td>0</td>\n",
              "    </tr>\n",
              "    <tr>\n",
              "      <th>3221</th>\n",
              "      <td>19631</td>\n",
              "      <td>0</td>\n",
              "      <td>1</td>\n",
              "      <td>0</td>\n",
              "      <td>0</td>\n",
              "      <td>1</td>\n",
              "      <td>0</td>\n",
              "      <td>0</td>\n",
              "      <td>0</td>\n",
              "      <td>0</td>\n",
              "      <td>0</td>\n",
              "      <td>0</td>\n",
              "      <td>0</td>\n",
              "      <td>1</td>\n",
              "      <td>0</td>\n",
              "      <td>0</td>\n",
              "      <td>0</td>\n",
              "      <td>0</td>\n",
              "      <td>0</td>\n",
              "    </tr>\n",
              "  </tbody>\n",
              "</table>\n",
              "</div>"
            ],
            "text/plain": [
              "          1  3_BDS  3_MBBS  4_OBC  4_OBC PH  4_SC  4_SC PH  4_ST  4_ST PH  \\\n",
              "0                                                                           \n",
              "1072   1714      0       1      0         0     0        0     0        0   \n",
              "1201   1961      0       1      0         0     0        0     0        0   \n",
              "2719   5522      0       1      0         0     0        0     0        0   \n",
              "1290   2156      0       1      0         0     0        0     0        0   \n",
              "3221  19631      0       1      0         0     1        0     0        0   \n",
              "\n",
              "      4_UR  4_UR PH  5_OBC  5_OBC PH  5_SC  5_SC PH  5_ST  5_ST PH  5_UR  \\\n",
              "0                                                                          \n",
              "1072     1        0      0         0     0        0     0        0     1   \n",
              "1201     1        0      0         0     0        0     0        0     1   \n",
              "2719     1        0      0         0     0        0     0        0     1   \n",
              "1290     1        0      0         0     0        0     0        0     1   \n",
              "3221     0        0      0         0     1        0     0        0     0   \n",
              "\n",
              "      5_UR PH  \n",
              "0              \n",
              "1072        0  \n",
              "1201        0  \n",
              "2719        0  \n",
              "1290        0  \n",
              "3221        0  "
            ]
          },
          "metadata": {
            "tags": []
          },
          "execution_count": 152
        }
      ]
    },
    {
      "metadata": {
        "id": "K8Uv4H50zSr3",
        "colab_type": "code",
        "colab": {
          "autoexec": {
            "startup": false,
            "wait_interval": 0
          }
        }
      },
      "cell_type": "code",
      "source": [
        "# decision tree model\n",
        "dtree_model = DecisionTreeRegressor(random_state=42).fit(X_train, y_train)\n",
        "#linear_model = LinearRegression().fit(X_train,y_train)\n",
        "#svr_model = SVR().fit(X_train,y_train)"
      ],
      "execution_count": 0,
      "outputs": []
    },
    {
      "metadata": {
        "id": "8gXfuFUEzSr7",
        "colab_type": "code",
        "colab": {
          "autoexec": {
            "startup": false,
            "wait_interval": 0
          }
        }
      },
      "cell_type": "code",
      "source": [
        "# predicting values for crossvalidation 'y_test' set\n",
        "\n",
        "y_pred = dtree_model.predict(X_test)\n",
        "y_pred = pd.DataFrame(y_pred, index = y_test.index, columns=[7])\n",
        "#y_pred_linear = pd.DataFrame(linear_model.predict(X_test),index=y_test.index,columns=[7])\n",
        "#y_pred_svr = pd.DataFrame(svr_model.predict(X_test),index=y_test.index,columns=[7])\n",
        "#y_pred.rename(columns = )\n",
        "#y_test.iloc[7][7]"
      ],
      "execution_count": 0,
      "outputs": []
    },
    {
      "metadata": {
        "id": "PH8mhwnqzSr_",
        "colab_type": "code",
        "colab": {
          "autoexec": {
            "startup": false,
            "wait_interval": 0
          },
          "base_uri": "https://localhost:8080/",
          "height": 34
        },
        "outputId": "af2f7c54-9c78-42a7-db7c-262207e9b7a5",
        "executionInfo": {
          "status": "ok",
          "timestamp": 1527149404319,
          "user_tz": -330,
          "elapsed": 933,
          "user": {
            "displayName": "kunal goyal",
            "photoUrl": "//lh5.googleusercontent.com/-rcLjThBigII/AAAAAAAAAAI/AAAAAAAAATw/VeIoSWBx26c/s50-c-k-no/photo.jpg",
            "userId": "115961755730533780132"
          }
        }
      },
      "cell_type": "code",
      "source": [
        "summ = 0\n",
        "for i in range (len(y_test)):\n",
        "    if(abs(y_pred.iloc[i][7]-y_test.iloc[i][7])<=3):\n",
        "        summ+=1\n",
        "summ"
      ],
      "execution_count": 155,
      "outputs": [
        {
          "output_type": "execute_result",
          "data": {
            "text/plain": [
              "86"
            ]
          },
          "metadata": {
            "tags": []
          },
          "execution_count": 155
        }
      ]
    },
    {
      "metadata": {
        "id": "AKADRhyvzSsC",
        "colab_type": "code",
        "colab": {
          "autoexec": {
            "startup": false,
            "wait_interval": 0
          },
          "base_uri": "https://localhost:8080/",
          "height": 51
        },
        "outputId": "a40fdf94-cd1f-4195-f74a-978c7a5cc556",
        "executionInfo": {
          "status": "ok",
          "timestamp": 1527149415283,
          "user_tz": -330,
          "elapsed": 10793,
          "user": {
            "displayName": "kunal goyal",
            "photoUrl": "//lh5.googleusercontent.com/-rcLjThBigII/AAAAAAAAAAI/AAAAAAAAATw/VeIoSWBx26c/s50-c-k-no/photo.jpg",
            "userId": "115961755730533780132"
          }
        }
      },
      "cell_type": "code",
      "source": [
        "# now we can make prediction according to rank, Alloted_category, course, candidate category.\n",
        "print('What is your rank?')\n",
        "rank = input()\n"
      ],
      "execution_count": 156,
      "outputs": [
        {
          "output_type": "stream",
          "text": [
            "What is your rank?\n",
            "4\n"
          ],
          "name": "stdout"
        }
      ]
    },
    {
      "metadata": {
        "id": "l0E7b5-YzSsF",
        "colab_type": "code",
        "colab": {
          "autoexec": {
            "startup": false,
            "wait_interval": 0
          },
          "base_uri": "https://localhost:8080/",
          "height": 187
        },
        "outputId": "a7036051-5370-43b9-ba07-dabe72e49b7d",
        "executionInfo": {
          "status": "ok",
          "timestamp": 1527149426911,
          "user_tz": -330,
          "elapsed": 11544,
          "user": {
            "displayName": "kunal goyal",
            "photoUrl": "//lh5.googleusercontent.com/-rcLjThBigII/AAAAAAAAAAI/AAAAAAAAATw/VeIoSWBx26c/s50-c-k-no/photo.jpg",
            "userId": "115961755730533780132"
          }
        }
      },
      "cell_type": "code",
      "source": [
        "print('Select the category which you want to be alloted(from options below)?')\n",
        "print('1. UR \\n2. UR PH\\n3. OBC \\n4. OBC PH\\n5. SC\\n6. SC PH\\n7. ST\\n8. ST PH')\n",
        "alloted_cat = input()"
      ],
      "execution_count": 157,
      "outputs": [
        {
          "output_type": "stream",
          "text": [
            "Select the category which you want to be alloted(from options below)?\n",
            "1. UR \n",
            "2. UR PH\n",
            "3. OBC \n",
            "4. OBC PH\n",
            "5. SC\n",
            "6. SC PH\n",
            "7. ST\n",
            "8. ST PH\n",
            "UR\n"
          ],
          "name": "stdout"
        }
      ]
    },
    {
      "metadata": {
        "id": "Akiw19SDEQBm",
        "colab_type": "text"
      },
      "cell_type": "markdown",
      "source": [
        ""
      ]
    },
    {
      "metadata": {
        "id": "22OJ7Yw31r2g",
        "colab_type": "code",
        "colab": {
          "autoexec": {
            "startup": false,
            "wait_interval": 0
          },
          "base_uri": "https://localhost:8080/",
          "height": 187
        },
        "outputId": "6218a9e7-b184-452e-d63a-385a477923b2",
        "executionInfo": {
          "status": "ok",
          "timestamp": 1527149432994,
          "user_tz": -330,
          "elapsed": 6015,
          "user": {
            "displayName": "kunal goyal",
            "photoUrl": "//lh5.googleusercontent.com/-rcLjThBigII/AAAAAAAAAAI/AAAAAAAAATw/VeIoSWBx26c/s50-c-k-no/photo.jpg",
            "userId": "115961755730533780132"
          }
        }
      },
      "cell_type": "code",
      "source": [
        "print('Select the category which you belong to (from options below)?')\n",
        "print('1. UR \\n2. UR PH\\n3. OBC \\n4. OBC PH\\n5. SC\\n6. SC PH\\n7. ST\\n8. ST PH')\n",
        "candidate_cat = input()"
      ],
      "execution_count": 158,
      "outputs": [
        {
          "output_type": "stream",
          "text": [
            "Select the category which you belong to (from options below)?\n",
            "1. UR \n",
            "2. UR PH\n",
            "3. OBC \n",
            "4. OBC PH\n",
            "5. SC\n",
            "6. SC PH\n",
            "7. ST\n",
            "8. ST PH\n",
            "UR\n"
          ],
          "name": "stdout"
        }
      ]
    },
    {
      "metadata": {
        "id": "bpX4xvE11z5O",
        "colab_type": "code",
        "colab": {
          "autoexec": {
            "startup": false,
            "wait_interval": 0
          },
          "base_uri": "https://localhost:8080/",
          "height": 85
        },
        "outputId": "e4ed9718-9394-44be-a0e1-daeea25039a4",
        "executionInfo": {
          "status": "ok",
          "timestamp": 1527149437911,
          "user_tz": -330,
          "elapsed": 4857,
          "user": {
            "displayName": "kunal goyal",
            "photoUrl": "//lh5.googleusercontent.com/-rcLjThBigII/AAAAAAAAAAI/AAAAAAAAATw/VeIoSWBx26c/s50-c-k-no/photo.jpg",
            "userId": "115961755730533780132"
          }
        }
      },
      "cell_type": "code",
      "source": [
        "print('Select the course which you wana to take from options below)?')\n",
        "print('1. MBBS \\n2. BDS')\n",
        "course = input()"
      ],
      "execution_count": 159,
      "outputs": [
        {
          "output_type": "stream",
          "text": [
            "Select the course which you wana to take from options below)?\n",
            "1. MBBS \n",
            "2. BDS\n",
            "MBBS\n"
          ],
          "name": "stdout"
        }
      ]
    },
    {
      "metadata": {
        "id": "7owwy0gW6NUg",
        "colab_type": "code",
        "colab": {
          "autoexec": {
            "startup": false,
            "wait_interval": 0
          },
          "base_uri": "https://localhost:8080/",
          "height": 117
        },
        "outputId": "4bf4b45f-a444-46cd-dc41-f2a69a875478",
        "executionInfo": {
          "status": "ok",
          "timestamp": 1527149438920,
          "user_tz": -330,
          "elapsed": 928,
          "user": {
            "displayName": "kunal goyal",
            "photoUrl": "//lh5.googleusercontent.com/-rcLjThBigII/AAAAAAAAAAI/AAAAAAAAATw/VeIoSWBx26c/s50-c-k-no/photo.jpg",
            "userId": "115961755730533780132"
          }
        }
      },
      "cell_type": "code",
      "source": [
        "clmns = ['3_BDS','3_MBBS','4_OBC','4_OBC PH','4_SC','4_SC PH','4_ST','4_ST PH','4_UR','4_UR PH','5_OBC','5_OBC PH','5_SC','5_SC PH','5_ST','5_ST PH','5_UR','5_UR PH']\n",
        "test = pd.DataFrame({0:[1],1:[rank]})\n",
        "for i in clmns:\n",
        "  test[i] = pd.Series(np.random.randint(1))\n",
        "test"
      ],
      "execution_count": 160,
      "outputs": [
        {
          "output_type": "execute_result",
          "data": {
            "text/html": [
              "<div>\n",
              "<style scoped>\n",
              "    .dataframe tbody tr th:only-of-type {\n",
              "        vertical-align: middle;\n",
              "    }\n",
              "\n",
              "    .dataframe tbody tr th {\n",
              "        vertical-align: top;\n",
              "    }\n",
              "\n",
              "    .dataframe thead th {\n",
              "        text-align: right;\n",
              "    }\n",
              "</style>\n",
              "<table border=\"1\" class=\"dataframe\">\n",
              "  <thead>\n",
              "    <tr style=\"text-align: right;\">\n",
              "      <th></th>\n",
              "      <th>0</th>\n",
              "      <th>1</th>\n",
              "      <th>3_BDS</th>\n",
              "      <th>3_MBBS</th>\n",
              "      <th>4_OBC</th>\n",
              "      <th>4_OBC PH</th>\n",
              "      <th>4_SC</th>\n",
              "      <th>4_SC PH</th>\n",
              "      <th>4_ST</th>\n",
              "      <th>4_ST PH</th>\n",
              "      <th>4_UR</th>\n",
              "      <th>4_UR PH</th>\n",
              "      <th>5_OBC</th>\n",
              "      <th>5_OBC PH</th>\n",
              "      <th>5_SC</th>\n",
              "      <th>5_SC PH</th>\n",
              "      <th>5_ST</th>\n",
              "      <th>5_ST PH</th>\n",
              "      <th>5_UR</th>\n",
              "      <th>5_UR PH</th>\n",
              "    </tr>\n",
              "  </thead>\n",
              "  <tbody>\n",
              "    <tr>\n",
              "      <th>0</th>\n",
              "      <td>1</td>\n",
              "      <td>4</td>\n",
              "      <td>0</td>\n",
              "      <td>0</td>\n",
              "      <td>0</td>\n",
              "      <td>0</td>\n",
              "      <td>0</td>\n",
              "      <td>0</td>\n",
              "      <td>0</td>\n",
              "      <td>0</td>\n",
              "      <td>0</td>\n",
              "      <td>0</td>\n",
              "      <td>0</td>\n",
              "      <td>0</td>\n",
              "      <td>0</td>\n",
              "      <td>0</td>\n",
              "      <td>0</td>\n",
              "      <td>0</td>\n",
              "      <td>0</td>\n",
              "      <td>0</td>\n",
              "    </tr>\n",
              "  </tbody>\n",
              "</table>\n",
              "</div>"
            ],
            "text/plain": [
              "   0  1  3_BDS  3_MBBS  4_OBC  4_OBC PH  4_SC  4_SC PH  4_ST  4_ST PH  4_UR  \\\n",
              "0  1  4      0       0      0         0     0        0     0        0     0   \n",
              "\n",
              "   4_UR PH  5_OBC  5_OBC PH  5_SC  5_SC PH  5_ST  5_ST PH  5_UR  5_UR PH  \n",
              "0        0      0         0     0        0     0        0     0        0  "
            ]
          },
          "metadata": {
            "tags": []
          },
          "execution_count": 160
        }
      ]
    },
    {
      "metadata": {
        "id": "Gg9m65RjETnV",
        "colab_type": "code",
        "colab": {
          "autoexec": {
            "startup": false,
            "wait_interval": 0
          }
        }
      },
      "cell_type": "code",
      "source": [
        "test = test.set_index(0)"
      ],
      "execution_count": 0,
      "outputs": []
    },
    {
      "metadata": {
        "id": "CCPBpFRjEZ-t",
        "colab_type": "code",
        "colab": {
          "autoexec": {
            "startup": false,
            "wait_interval": 0
          },
          "base_uri": "https://localhost:8080/",
          "height": 148
        },
        "outputId": "791dfbe0-2750-44b6-9ff7-e1e1ca76a53b",
        "executionInfo": {
          "status": "ok",
          "timestamp": 1527149441465,
          "user_tz": -330,
          "elapsed": 766,
          "user": {
            "displayName": "kunal goyal",
            "photoUrl": "//lh5.googleusercontent.com/-rcLjThBigII/AAAAAAAAAAI/AAAAAAAAATw/VeIoSWBx26c/s50-c-k-no/photo.jpg",
            "userId": "115961755730533780132"
          }
        }
      },
      "cell_type": "code",
      "source": [
        "test['3_'+course] = 1\n",
        "test['4_'+alloted_cat] = 1\n",
        "test['5_'+candidate_cat] = 1\n",
        "test"
      ],
      "execution_count": 162,
      "outputs": [
        {
          "output_type": "execute_result",
          "data": {
            "text/html": [
              "<div>\n",
              "<style scoped>\n",
              "    .dataframe tbody tr th:only-of-type {\n",
              "        vertical-align: middle;\n",
              "    }\n",
              "\n",
              "    .dataframe tbody tr th {\n",
              "        vertical-align: top;\n",
              "    }\n",
              "\n",
              "    .dataframe thead th {\n",
              "        text-align: right;\n",
              "    }\n",
              "</style>\n",
              "<table border=\"1\" class=\"dataframe\">\n",
              "  <thead>\n",
              "    <tr style=\"text-align: right;\">\n",
              "      <th></th>\n",
              "      <th>1</th>\n",
              "      <th>3_BDS</th>\n",
              "      <th>3_MBBS</th>\n",
              "      <th>4_OBC</th>\n",
              "      <th>4_OBC PH</th>\n",
              "      <th>4_SC</th>\n",
              "      <th>4_SC PH</th>\n",
              "      <th>4_ST</th>\n",
              "      <th>4_ST PH</th>\n",
              "      <th>4_UR</th>\n",
              "      <th>4_UR PH</th>\n",
              "      <th>5_OBC</th>\n",
              "      <th>5_OBC PH</th>\n",
              "      <th>5_SC</th>\n",
              "      <th>5_SC PH</th>\n",
              "      <th>5_ST</th>\n",
              "      <th>5_ST PH</th>\n",
              "      <th>5_UR</th>\n",
              "      <th>5_UR PH</th>\n",
              "    </tr>\n",
              "    <tr>\n",
              "      <th>0</th>\n",
              "      <th></th>\n",
              "      <th></th>\n",
              "      <th></th>\n",
              "      <th></th>\n",
              "      <th></th>\n",
              "      <th></th>\n",
              "      <th></th>\n",
              "      <th></th>\n",
              "      <th></th>\n",
              "      <th></th>\n",
              "      <th></th>\n",
              "      <th></th>\n",
              "      <th></th>\n",
              "      <th></th>\n",
              "      <th></th>\n",
              "      <th></th>\n",
              "      <th></th>\n",
              "      <th></th>\n",
              "      <th></th>\n",
              "    </tr>\n",
              "  </thead>\n",
              "  <tbody>\n",
              "    <tr>\n",
              "      <th>1</th>\n",
              "      <td>4</td>\n",
              "      <td>0</td>\n",
              "      <td>1</td>\n",
              "      <td>0</td>\n",
              "      <td>0</td>\n",
              "      <td>0</td>\n",
              "      <td>0</td>\n",
              "      <td>0</td>\n",
              "      <td>0</td>\n",
              "      <td>1</td>\n",
              "      <td>0</td>\n",
              "      <td>0</td>\n",
              "      <td>0</td>\n",
              "      <td>0</td>\n",
              "      <td>0</td>\n",
              "      <td>0</td>\n",
              "      <td>0</td>\n",
              "      <td>1</td>\n",
              "      <td>0</td>\n",
              "    </tr>\n",
              "  </tbody>\n",
              "</table>\n",
              "</div>"
            ],
            "text/plain": [
              "   1  3_BDS  3_MBBS  4_OBC  4_OBC PH  4_SC  4_SC PH  4_ST  4_ST PH  4_UR  \\\n",
              "0                                                                          \n",
              "1  4      0       1      0         0     0        0     0        0     1   \n",
              "\n",
              "   4_UR PH  5_OBC  5_OBC PH  5_SC  5_SC PH  5_ST  5_ST PH  5_UR  5_UR PH  \n",
              "0                                                                         \n",
              "1        0      0         0     0        0     0        0     1        0  "
            ]
          },
          "metadata": {
            "tags": []
          },
          "execution_count": 162
        }
      ]
    },
    {
      "metadata": {
        "id": "luu7QRJrE7Bi",
        "colab_type": "code",
        "colab": {
          "autoexec": {
            "startup": false,
            "wait_interval": 0
          }
        }
      },
      "cell_type": "code",
      "source": [
        "dtree_model = DecisionTreeRegressor(random_state=42).fit(X, Y)"
      ],
      "execution_count": 0,
      "outputs": []
    },
    {
      "metadata": {
        "id": "1fS7AHojFJBu",
        "colab_type": "code",
        "colab": {
          "autoexec": {
            "startup": false,
            "wait_interval": 0
          }
        }
      },
      "cell_type": "code",
      "source": [
        "ans = dtree_model.predict(test)\n"
      ],
      "execution_count": 0,
      "outputs": []
    },
    {
      "metadata": {
        "id": "7wmMyKX3FS97",
        "colab_type": "code",
        "colab": {
          "autoexec": {
            "startup": false,
            "wait_interval": 0
          },
          "base_uri": "https://localhost:8080/",
          "height": 170
        },
        "outputId": "80130dda-2544-4ce4-b97c-909bed76377c",
        "executionInfo": {
          "status": "ok",
          "timestamp": 1527149478765,
          "user_tz": -330,
          "elapsed": 797,
          "user": {
            "displayName": "kunal goyal",
            "photoUrl": "//lh5.googleusercontent.com/-rcLjThBigII/AAAAAAAAAAI/AAAAAAAAATw/VeIoSWBx26c/s50-c-k-no/photo.jpg",
            "userId": "115961755730533780132"
          }
        }
      },
      "cell_type": "code",
      "source": [
        "print('Model predicted colleges:\\n\\n')\n",
        "\n",
        "if int(ans[0])<3:\n",
        "  for i in range(6):\n",
        "    print(int_to_clg[i])\n",
        "elif int(ans[0])>213:\n",
        "  for i in range(211,216):\n",
        "    print(int_to_clg[i])\n",
        "else:\n",
        "  for i in range(int(ans[0]),int(ans[0])+3):\n",
        "    print(int_to_clg[i])\n",
        "  for i in range(int(ans[0])-3,int(ans[0])):\n",
        "    print(int_to_clg[i])\n",
        "  "
      ],
      "execution_count": 167,
      "outputs": [
        {
          "output_type": "stream",
          "text": [
            "Model predicted colleges:\n",
            "\n",
            "\n",
            "MAULANA AZAD MEDICAL COLLEGE, NEWDELHI\n",
            "BANGALORE MED. COLLEGE,BANGALORE\n",
            "GOVT. MEDICAL COLLEGE, KOTTAYAM\n",
            "GOVERNMENT MEDICAL COLLEGE, SURAT\n",
            "SETH G.S. MEDICAL COLLEGE, MUMBAI\n",
            "GOVT.MEDICALCOLLEGE,THIRUVANANTHAPURAM\n"
          ],
          "name": "stdout"
        }
      ]
    }
  ]
}