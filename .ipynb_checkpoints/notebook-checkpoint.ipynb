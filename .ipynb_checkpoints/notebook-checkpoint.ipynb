{
  "cells": [
    {
      "metadata": {
        "id": "L3LY3FpwzSqP",
        "colab_type": "text",
        "_uuid": "28cd7d4f25f019b3424319fa74562ab56c2dadb6"
      },
      "cell_type": "markdown",
      "source": "# Prediction based on All India Quota Under Graduate Allotment -2017"
    },
    {
      "metadata": {
        "id": "aICWr7HtzSqR",
        "colab_type": "code",
        "colab": {
          "autoexec": {
            "startup": false,
            "wait_interval": 0
          }
        },
        "trusted": true,
        "collapsed": true,
        "_uuid": "2557bd4bdb6e542560fb2fdac3252722a8579141"
      },
      "cell_type": "code",
      "source": "#importing various libraries needed for our model\n\nimport numpy as np\nimport pandas as pd\nfrom sklearn.model_selection import train_test_split\nfrom sklearn.tree import DecisionTreeRegressor\nfrom sklearn.metrics import confusion_matrix\nfrom sklearn.svm import SVR\nfrom sklearn.linear_model import LinearRegression\nimport re",
      "execution_count": 87,
      "outputs": []
    },
    {
      "metadata": {
        "id": "AHd12H6jzSqX",
        "colab_type": "code",
        "colab": {
          "autoexec": {
            "startup": false,
            "wait_interval": 0
          },
          "base_uri": "https://localhost:8080/",
          "height": 34
        },
        "outputId": "f98a34d2-ee3f-473d-b9b2-6f1c59a20a87",
        "executionInfo": {
          "status": "ok",
          "timestamp": 1527151618158,
          "user_tz": -330,
          "elapsed": 2830,
          "user": {
            "displayName": "Anuj Ratnam",
            "photoUrl": "//lh3.googleusercontent.com/-G7VrGRjl-1A/AAAAAAAAAAI/AAAAAAAAAHo/qZTBxEwayiU/s50-c-k-no/photo.jpg",
            "userId": "106856249305336310963"
          }
        },
        "trusted": true,
        "_uuid": "fc4efb6914e0e2ffb958270ac0ddb68b7c5aaeb1"
      },
      "cell_type": "code",
      "source": "ls",
      "execution_count": 88,
      "outputs": [
        {
          "output_type": "stream",
          "text": "__notebook_source__.ipynb\r\n",
          "name": "stdout"
        }
      ]
    },
    {
      "metadata": {
        "id": "vH30mr1-zSqe",
        "colab_type": "code",
        "colab": {
          "autoexec": {
            "startup": false,
            "wait_interval": 0
          },
          "base_uri": "https://localhost:8080/",
          "height": 863
        },
        "outputId": "9aba16b9-7c60-4d56-e654-2be3ebaaa0c6",
        "executionInfo": {
          "status": "error",
          "timestamp": 1527151625729,
          "user_tz": -330,
          "elapsed": 1781,
          "user": {
            "displayName": "Anuj Ratnam",
            "photoUrl": "//lh3.googleusercontent.com/-G7VrGRjl-1A/AAAAAAAAAAI/AAAAAAAAAHo/qZTBxEwayiU/s50-c-k-no/photo.jpg",
            "userId": "106856249305336310963"
          }
        },
        "trusted": true,
        "_uuid": "dc09ccd9585f6135298ef7d3153ec30998e7bc63",
        "collapsed": true
      },
      "cell_type": "code",
      "source": "# read csv\n\ndata = pd.read_csv('../input/round_1_alloted.csv',header=None)",
      "execution_count": 89,
      "outputs": []
    },
    {
      "metadata": {
        "id": "znliyQoJ404d",
        "colab_type": "code",
        "colab": {
          "autoexec": {
            "startup": false,
            "wait_interval": 0
          },
          "base_uri": "https://localhost:8080/",
          "height": 204
        },
        "outputId": "03893cd0-84ae-4bfb-fee1-fc7b589aa8ec",
        "executionInfo": {
          "status": "ok",
          "timestamp": 1527149364565,
          "user_tz": -330,
          "elapsed": 825,
          "user": {
            "displayName": "kunal goyal",
            "photoUrl": "//lh5.googleusercontent.com/-rcLjThBigII/AAAAAAAAAAI/AAAAAAAAATw/VeIoSWBx26c/s50-c-k-no/photo.jpg",
            "userId": "115961755730533780132"
          }
        },
        "trusted": true,
        "_uuid": "2d947294618594c52c758a6d5ca5b5b6b7a07945"
      },
      "cell_type": "code",
      "source": "data.head()",
      "execution_count": 90,
      "outputs": [
        {
          "output_type": "execute_result",
          "execution_count": 90,
          "data": {
            "text/plain": "   0   1                                         2    ...      4   5         6\n0  1   1  MAULANA AZAD MEDICAL COLLEGE, NEW\\rDELHI    ...     UR  UR  Allotted\n1  2   4          BANGALORE MED. COLLEGE,BANGALORE    ...     UR  UR  Allotted\n2  3   7  MAULANA AZAD MEDICAL COLLEGE, NEW\\rDELHI    ...     UR  UR  Allotted\n3  4   8  MAULANA AZAD MEDICAL COLLEGE, NEW\\rDELHI    ...     UR  UR  Allotted\n4  5  10  MAULANA AZAD MEDICAL COLLEGE, NEW\\rDELHI    ...     UR  UR  Allotted\n\n[5 rows x 7 columns]",
            "text/html": "<div>\n<style scoped>\n    .dataframe tbody tr th:only-of-type {\n        vertical-align: middle;\n    }\n\n    .dataframe tbody tr th {\n        vertical-align: top;\n    }\n\n    .dataframe thead th {\n        text-align: right;\n    }\n</style>\n<table border=\"1\" class=\"dataframe\">\n  <thead>\n    <tr style=\"text-align: right;\">\n      <th></th>\n      <th>0</th>\n      <th>1</th>\n      <th>2</th>\n      <th>3</th>\n      <th>4</th>\n      <th>5</th>\n      <th>6</th>\n    </tr>\n  </thead>\n  <tbody>\n    <tr>\n      <th>0</th>\n      <td>1</td>\n      <td>1</td>\n      <td>MAULANA AZAD MEDICAL COLLEGE, NEW\\rDELHI</td>\n      <td>MBBS</td>\n      <td>UR</td>\n      <td>UR</td>\n      <td>Allotted</td>\n    </tr>\n    <tr>\n      <th>1</th>\n      <td>2</td>\n      <td>4</td>\n      <td>BANGALORE MED. COLLEGE,BANGALORE</td>\n      <td>MBBS</td>\n      <td>UR</td>\n      <td>UR</td>\n      <td>Allotted</td>\n    </tr>\n    <tr>\n      <th>2</th>\n      <td>3</td>\n      <td>7</td>\n      <td>MAULANA AZAD MEDICAL COLLEGE, NEW\\rDELHI</td>\n      <td>MBBS</td>\n      <td>UR</td>\n      <td>UR</td>\n      <td>Allotted</td>\n    </tr>\n    <tr>\n      <th>3</th>\n      <td>4</td>\n      <td>8</td>\n      <td>MAULANA AZAD MEDICAL COLLEGE, NEW\\rDELHI</td>\n      <td>MBBS</td>\n      <td>UR</td>\n      <td>UR</td>\n      <td>Allotted</td>\n    </tr>\n    <tr>\n      <th>4</th>\n      <td>5</td>\n      <td>10</td>\n      <td>MAULANA AZAD MEDICAL COLLEGE, NEW\\rDELHI</td>\n      <td>MBBS</td>\n      <td>UR</td>\n      <td>UR</td>\n      <td>Allotted</td>\n    </tr>\n  </tbody>\n</table>\n</div>"
          },
          "metadata": {}
        }
      ]
    },
    {
      "metadata": {
        "id": "y4lTiHBRzSqi",
        "colab_type": "code",
        "colab": {
          "autoexec": {
            "startup": false,
            "wait_interval": 0
          }
        },
        "trusted": true,
        "collapsed": true,
        "_uuid": "d988035395f94298f044112c323871536d006c68"
      },
      "cell_type": "code",
      "source": "data = data.set_index(0)\n#print(data)",
      "execution_count": 91,
      "outputs": []
    },
    {
      "metadata": {
        "id": "mWAHJwPazSql",
        "colab_type": "code",
        "colab": {
          "autoexec": {
            "startup": false,
            "wait_interval": 0
          },
          "base_uri": "https://localhost:8080/",
          "height": 235
        },
        "outputId": "b011bfa6-974d-4a5e-966e-ddaee69b9e6f",
        "executionInfo": {
          "status": "ok",
          "timestamp": 1527149366780,
          "user_tz": -330,
          "elapsed": 833,
          "user": {
            "displayName": "kunal goyal",
            "photoUrl": "//lh5.googleusercontent.com/-rcLjThBigII/AAAAAAAAAAI/AAAAAAAAATw/VeIoSWBx26c/s50-c-k-no/photo.jpg",
            "userId": "115961755730533780132"
          }
        },
        "trusted": true,
        "_uuid": "3d022a474ebd93b18bdcae12708acbc3315a704e"
      },
      "cell_type": "code",
      "source": "data.head()\n",
      "execution_count": 92,
      "outputs": [
        {
          "output_type": "execute_result",
          "execution_count": 92,
          "data": {
            "text/plain": "    1                                         2    ...      5         6\n0                                                  ...                 \n1   1  MAULANA AZAD MEDICAL COLLEGE, NEW\\rDELHI    ...     UR  Allotted\n2   4          BANGALORE MED. COLLEGE,BANGALORE    ...     UR  Allotted\n3   7  MAULANA AZAD MEDICAL COLLEGE, NEW\\rDELHI    ...     UR  Allotted\n4   8  MAULANA AZAD MEDICAL COLLEGE, NEW\\rDELHI    ...     UR  Allotted\n5  10  MAULANA AZAD MEDICAL COLLEGE, NEW\\rDELHI    ...     UR  Allotted\n\n[5 rows x 6 columns]",
            "text/html": "<div>\n<style scoped>\n    .dataframe tbody tr th:only-of-type {\n        vertical-align: middle;\n    }\n\n    .dataframe tbody tr th {\n        vertical-align: top;\n    }\n\n    .dataframe thead th {\n        text-align: right;\n    }\n</style>\n<table border=\"1\" class=\"dataframe\">\n  <thead>\n    <tr style=\"text-align: right;\">\n      <th></th>\n      <th>1</th>\n      <th>2</th>\n      <th>3</th>\n      <th>4</th>\n      <th>5</th>\n      <th>6</th>\n    </tr>\n    <tr>\n      <th>0</th>\n      <th></th>\n      <th></th>\n      <th></th>\n      <th></th>\n      <th></th>\n      <th></th>\n    </tr>\n  </thead>\n  <tbody>\n    <tr>\n      <th>1</th>\n      <td>1</td>\n      <td>MAULANA AZAD MEDICAL COLLEGE, NEW\\rDELHI</td>\n      <td>MBBS</td>\n      <td>UR</td>\n      <td>UR</td>\n      <td>Allotted</td>\n    </tr>\n    <tr>\n      <th>2</th>\n      <td>4</td>\n      <td>BANGALORE MED. COLLEGE,BANGALORE</td>\n      <td>MBBS</td>\n      <td>UR</td>\n      <td>UR</td>\n      <td>Allotted</td>\n    </tr>\n    <tr>\n      <th>3</th>\n      <td>7</td>\n      <td>MAULANA AZAD MEDICAL COLLEGE, NEW\\rDELHI</td>\n      <td>MBBS</td>\n      <td>UR</td>\n      <td>UR</td>\n      <td>Allotted</td>\n    </tr>\n    <tr>\n      <th>4</th>\n      <td>8</td>\n      <td>MAULANA AZAD MEDICAL COLLEGE, NEW\\rDELHI</td>\n      <td>MBBS</td>\n      <td>UR</td>\n      <td>UR</td>\n      <td>Allotted</td>\n    </tr>\n    <tr>\n      <th>5</th>\n      <td>10</td>\n      <td>MAULANA AZAD MEDICAL COLLEGE, NEW\\rDELHI</td>\n      <td>MBBS</td>\n      <td>UR</td>\n      <td>UR</td>\n      <td>Allotted</td>\n    </tr>\n  </tbody>\n</table>\n</div>"
          },
          "metadata": {}
        }
      ]
    },
    {
      "metadata": {
        "id": "UwwEAciPzSqr",
        "colab_type": "code",
        "colab": {
          "autoexec": {
            "startup": false,
            "wait_interval": 0
          },
          "base_uri": "https://localhost:8080/",
          "height": 547
        },
        "outputId": "e5d70d66-5c38-49cd-a42c-178f1bf97371",
        "executionInfo": {
          "status": "ok",
          "timestamp": 1527149380197,
          "user_tz": -330,
          "elapsed": 13262,
          "user": {
            "displayName": "kunal goyal",
            "photoUrl": "//lh5.googleusercontent.com/-rcLjThBigII/AAAAAAAAAAI/AAAAAAAAATw/VeIoSWBx26c/s50-c-k-no/photo.jpg",
            "userId": "115961755730533780132"
          }
        },
        "trusted": true,
        "_uuid": "964fcb05c7be30b57a7bf1d2ed169146be4278e6"
      },
      "cell_type": "code",
      "source": "for idx,row in data.iterrows():\n    if(row[5] == 'UR PH1'):\n        data[5][idx] = 'UR PH'\n    if(row[5] == 'OBC PH1'):\n        data[5][idx] = 'OBC PH'\n    if(row[5] == 'SC PH1'):\n        data[5][idx] = 'SC PH'\n    if(row[5] == 'UR PH2'):\n        data[5][idx] = 'UR PH'\n    if(row[5] == 'OBC PH2'):\n        data[5][idx] = 'OBC PH'\n    if(row[5] == 'SC PH2'):\n        data[5][idx] = 'SC PH'\n    if(row[5] == 'ST PH1' or row[5] == 'ST PH2'):\n        data[5][idx] = 'ST PH'",
      "execution_count": 93,
      "outputs": [
        {
          "output_type": "stream",
          "text": "/opt/conda/lib/python3.6/site-packages/ipykernel_launcher.py:11: SettingWithCopyWarning: \nA value is trying to be set on a copy of a slice from a DataFrame\n\nSee the caveats in the documentation: http://pandas.pydata.org/pandas-docs/stable/indexing.html#indexing-view-versus-copy\n  # This is added back by InteractiveShellApp.init_path()\n/opt/conda/lib/python3.6/site-packages/ipykernel_launcher.py:3: SettingWithCopyWarning: \nA value is trying to be set on a copy of a slice from a DataFrame\n\nSee the caveats in the documentation: http://pandas.pydata.org/pandas-docs/stable/indexing.html#indexing-view-versus-copy\n  This is separate from the ipykernel package so we can avoid doing imports until\n/opt/conda/lib/python3.6/site-packages/ipykernel_launcher.py:5: SettingWithCopyWarning: \nA value is trying to be set on a copy of a slice from a DataFrame\n\nSee the caveats in the documentation: http://pandas.pydata.org/pandas-docs/stable/indexing.html#indexing-view-versus-copy\n  \"\"\"\n/opt/conda/lib/python3.6/site-packages/ipykernel_launcher.py:13: SettingWithCopyWarning: \nA value is trying to be set on a copy of a slice from a DataFrame\n\nSee the caveats in the documentation: http://pandas.pydata.org/pandas-docs/stable/indexing.html#indexing-view-versus-copy\n  del sys.path[0]\n/opt/conda/lib/python3.6/site-packages/ipykernel_launcher.py:7: SettingWithCopyWarning: \nA value is trying to be set on a copy of a slice from a DataFrame\n\nSee the caveats in the documentation: http://pandas.pydata.org/pandas-docs/stable/indexing.html#indexing-view-versus-copy\n  import sys\n/opt/conda/lib/python3.6/site-packages/ipykernel_launcher.py:15: SettingWithCopyWarning: \nA value is trying to be set on a copy of a slice from a DataFrame\n\nSee the caveats in the documentation: http://pandas.pydata.org/pandas-docs/stable/indexing.html#indexing-view-versus-copy\n  from ipykernel import kernelapp as app\n",
          "name": "stderr"
        }
      ]
    },
    {
      "metadata": {
        "id": "oIES6pu0zSq2",
        "colab_type": "code",
        "colab": {
          "autoexec": {
            "startup": false,
            "wait_interval": 0
          }
        },
        "trusted": true,
        "collapsed": true,
        "_uuid": "f1ab37450210147abd451bd74fa874e4eb2932be"
      },
      "cell_type": "code",
      "source": "# drop 6th coloumn as it only has 'Allotted' value.\n\ndata = data.drop(6,axis=1)",
      "execution_count": 94,
      "outputs": []
    },
    {
      "metadata": {
        "id": "xz180M2_zSq5",
        "colab_type": "code",
        "colab": {
          "autoexec": {
            "startup": false,
            "wait_interval": 0
          }
        },
        "trusted": true,
        "collapsed": true,
        "_uuid": "a9b10c398fa243a68a49252eb58a5fb2e46addbb"
      },
      "cell_type": "code",
      "source": "# dictionary to map college to integer value\n\nfrom collections import defaultdict\nclg_to_int = defaultdict(str)\nidx = 0\nfor i in data[2]:\n    if(i not in clg_to_int):\n        clg_to_int[i] = idx\n        idx+=1",
      "execution_count": 95,
      "outputs": []
    },
    {
      "metadata": {
        "id": "PX6wtcD3zSq9",
        "colab_type": "code",
        "colab": {
          "autoexec": {
            "startup": false,
            "wait_interval": 0
          }
        },
        "trusted": true,
        "collapsed": true,
        "_uuid": "90937a768789a49f8a9cec2503bd8761f91fecef"
      },
      "cell_type": "code",
      "source": "#clg_to_int\n#int_to_clg\n# there are 217 colleges from 0 to 216 :-)",
      "execution_count": 96,
      "outputs": []
    },
    {
      "metadata": {
        "id": "GIC1erS5zSrC",
        "colab_type": "code",
        "colab": {
          "autoexec": {
            "startup": false,
            "wait_interval": 0
          }
        },
        "trusted": true,
        "collapsed": true,
        "_uuid": "e0f6c70768d3406b5cbbcb29bade2f7e7f5f1dd9"
      },
      "cell_type": "code",
      "source": "# map int to college through previous clg_to_int mapping\n\nint_to_clg = ['str']*218\nfor value in clg_to_int:\n    #print(value)\n    int_to_clg[clg_to_int[value]] = value",
      "execution_count": 97,
      "outputs": []
    },
    {
      "metadata": {
        "id": "vDABgTjmLGT4",
        "colab_type": "code",
        "colab": {
          "autoexec": {
            "startup": false,
            "wait_interval": 0
          }
        },
        "trusted": true,
        "collapsed": true,
        "_uuid": "f438c182e2e50ed246ba70faed68c24612a9ccae"
      },
      "cell_type": "code",
      "source": "for i in range(len(int_to_clg)):\n  int_to_clg[i]=re.sub('\\r',' ',int_to_clg[i])\n  int_to_clg[i]=re.sub('\\n',' ',int_to_clg[i])",
      "execution_count": 98,
      "outputs": []
    },
    {
      "metadata": {
        "id": "2RJf0jHdzSrH",
        "colab_type": "code",
        "colab": {
          "autoexec": {
            "startup": false,
            "wait_interval": 0
          },
          "base_uri": "https://localhost:8080/",
          "height": 235
        },
        "outputId": "7eb2bfde-59b1-48b0-b5e2-37d2d8593da2",
        "executionInfo": {
          "status": "ok",
          "timestamp": 1527149390596,
          "user_tz": -330,
          "elapsed": 3598,
          "user": {
            "displayName": "kunal goyal",
            "photoUrl": "//lh5.googleusercontent.com/-rcLjThBigII/AAAAAAAAAAI/AAAAAAAAATw/VeIoSWBx26c/s50-c-k-no/photo.jpg",
            "userId": "115961755730533780132"
          }
        },
        "trusted": true,
        "_uuid": "625c55bee7a0b5f9927971baf04cf984ee20c595"
      },
      "cell_type": "code",
      "source": "# add extra coloumn to convert college name to previously mapped value\n\ndata[7] = pd.Series(np.random.randint(len(data)), index=data.index)\n\nfor i in range(len(data)):\n    #print(datar)\n    data.iloc[i,5]=int(clg_to_int[data.iloc[i,1]])\ndata.head()",
      "execution_count": 99,
      "outputs": [
        {
          "output_type": "execute_result",
          "execution_count": 99,
          "data": {
            "text/plain": "    1                                         2     3   4   5  7\n0                                                               \n1   1  MAULANA AZAD MEDICAL COLLEGE, NEW\\rDELHI  MBBS  UR  UR  0\n2   4          BANGALORE MED. COLLEGE,BANGALORE  MBBS  UR  UR  1\n3   7  MAULANA AZAD MEDICAL COLLEGE, NEW\\rDELHI  MBBS  UR  UR  0\n4   8  MAULANA AZAD MEDICAL COLLEGE, NEW\\rDELHI  MBBS  UR  UR  0\n5  10  MAULANA AZAD MEDICAL COLLEGE, NEW\\rDELHI  MBBS  UR  UR  0",
            "text/html": "<div>\n<style scoped>\n    .dataframe tbody tr th:only-of-type {\n        vertical-align: middle;\n    }\n\n    .dataframe tbody tr th {\n        vertical-align: top;\n    }\n\n    .dataframe thead th {\n        text-align: right;\n    }\n</style>\n<table border=\"1\" class=\"dataframe\">\n  <thead>\n    <tr style=\"text-align: right;\">\n      <th></th>\n      <th>1</th>\n      <th>2</th>\n      <th>3</th>\n      <th>4</th>\n      <th>5</th>\n      <th>7</th>\n    </tr>\n    <tr>\n      <th>0</th>\n      <th></th>\n      <th></th>\n      <th></th>\n      <th></th>\n      <th></th>\n      <th></th>\n    </tr>\n  </thead>\n  <tbody>\n    <tr>\n      <th>1</th>\n      <td>1</td>\n      <td>MAULANA AZAD MEDICAL COLLEGE, NEW\\rDELHI</td>\n      <td>MBBS</td>\n      <td>UR</td>\n      <td>UR</td>\n      <td>0</td>\n    </tr>\n    <tr>\n      <th>2</th>\n      <td>4</td>\n      <td>BANGALORE MED. COLLEGE,BANGALORE</td>\n      <td>MBBS</td>\n      <td>UR</td>\n      <td>UR</td>\n      <td>1</td>\n    </tr>\n    <tr>\n      <th>3</th>\n      <td>7</td>\n      <td>MAULANA AZAD MEDICAL COLLEGE, NEW\\rDELHI</td>\n      <td>MBBS</td>\n      <td>UR</td>\n      <td>UR</td>\n      <td>0</td>\n    </tr>\n    <tr>\n      <th>4</th>\n      <td>8</td>\n      <td>MAULANA AZAD MEDICAL COLLEGE, NEW\\rDELHI</td>\n      <td>MBBS</td>\n      <td>UR</td>\n      <td>UR</td>\n      <td>0</td>\n    </tr>\n    <tr>\n      <th>5</th>\n      <td>10</td>\n      <td>MAULANA AZAD MEDICAL COLLEGE, NEW\\rDELHI</td>\n      <td>MBBS</td>\n      <td>UR</td>\n      <td>UR</td>\n      <td>0</td>\n    </tr>\n  </tbody>\n</table>\n</div>"
          },
          "metadata": {}
        }
      ]
    },
    {
      "metadata": {
        "id": "75rfTvTwzSrO",
        "colab_type": "code",
        "colab": {
          "autoexec": {
            "startup": false,
            "wait_interval": 0
          },
          "base_uri": "https://localhost:8080/",
          "height": 235
        },
        "outputId": "f8eb4787-c8e1-4da2-8210-c1f1b4b7996e",
        "executionInfo": {
          "status": "ok",
          "timestamp": 1527149391580,
          "user_tz": -330,
          "elapsed": 933,
          "user": {
            "displayName": "kunal goyal",
            "photoUrl": "//lh5.googleusercontent.com/-rcLjThBigII/AAAAAAAAAAI/AAAAAAAAATw/VeIoSWBx26c/s50-c-k-no/photo.jpg",
            "userId": "115961755730533780132"
          }
        },
        "trusted": true,
        "_uuid": "7b953ab71368f4ffdcd65c1eb14dfeeef05a7940"
      },
      "cell_type": "code",
      "source": "# now we can drop college name \n\ndata = data.drop(2,axis = 1)\ndata.head()",
      "execution_count": 100,
      "outputs": [
        {
          "output_type": "execute_result",
          "execution_count": 100,
          "data": {
            "text/plain": "    1     3   4   5  7\n0                     \n1   1  MBBS  UR  UR  0\n2   4  MBBS  UR  UR  1\n3   7  MBBS  UR  UR  0\n4   8  MBBS  UR  UR  0\n5  10  MBBS  UR  UR  0",
            "text/html": "<div>\n<style scoped>\n    .dataframe tbody tr th:only-of-type {\n        vertical-align: middle;\n    }\n\n    .dataframe tbody tr th {\n        vertical-align: top;\n    }\n\n    .dataframe thead th {\n        text-align: right;\n    }\n</style>\n<table border=\"1\" class=\"dataframe\">\n  <thead>\n    <tr style=\"text-align: right;\">\n      <th></th>\n      <th>1</th>\n      <th>3</th>\n      <th>4</th>\n      <th>5</th>\n      <th>7</th>\n    </tr>\n    <tr>\n      <th>0</th>\n      <th></th>\n      <th></th>\n      <th></th>\n      <th></th>\n      <th></th>\n    </tr>\n  </thead>\n  <tbody>\n    <tr>\n      <th>1</th>\n      <td>1</td>\n      <td>MBBS</td>\n      <td>UR</td>\n      <td>UR</td>\n      <td>0</td>\n    </tr>\n    <tr>\n      <th>2</th>\n      <td>4</td>\n      <td>MBBS</td>\n      <td>UR</td>\n      <td>UR</td>\n      <td>1</td>\n    </tr>\n    <tr>\n      <th>3</th>\n      <td>7</td>\n      <td>MBBS</td>\n      <td>UR</td>\n      <td>UR</td>\n      <td>0</td>\n    </tr>\n    <tr>\n      <th>4</th>\n      <td>8</td>\n      <td>MBBS</td>\n      <td>UR</td>\n      <td>UR</td>\n      <td>0</td>\n    </tr>\n    <tr>\n      <th>5</th>\n      <td>10</td>\n      <td>MBBS</td>\n      <td>UR</td>\n      <td>UR</td>\n      <td>0</td>\n    </tr>\n  </tbody>\n</table>\n</div>"
          },
          "metadata": {}
        }
      ]
    },
    {
      "metadata": {
        "id": "co_rnQ9bzSrT",
        "colab_type": "code",
        "colab": {
          "autoexec": {
            "startup": false,
            "wait_interval": 0
          }
        },
        "trusted": true,
        "collapsed": true,
        "_uuid": "80e6cc67a34cba99030f09db465b19507456e1cd"
      },
      "cell_type": "code",
      "source": "# partition X and Y \n\nX = data[[1,3,4,5]]\nY = data[7]\nY = pd.DataFrame(Y)",
      "execution_count": 101,
      "outputs": []
    },
    {
      "metadata": {
        "id": "e2psOoTbzSrX",
        "colab_type": "code",
        "colab": {
          "autoexec": {
            "startup": false,
            "wait_interval": 0
          },
          "base_uri": "https://localhost:8080/",
          "height": 235
        },
        "outputId": "1138fe2d-c9b4-4f02-f3e9-832a04ad9c3e",
        "executionInfo": {
          "status": "ok",
          "timestamp": 1527149393670,
          "user_tz": -330,
          "elapsed": 966,
          "user": {
            "displayName": "kunal goyal",
            "photoUrl": "//lh5.googleusercontent.com/-rcLjThBigII/AAAAAAAAAAI/AAAAAAAAATw/VeIoSWBx26c/s50-c-k-no/photo.jpg",
            "userId": "115961755730533780132"
          }
        },
        "trusted": true,
        "_uuid": "5058edbe9a3fe5f114823758dacd24e20002acf7"
      },
      "cell_type": "code",
      "source": "X.head()",
      "execution_count": 102,
      "outputs": [
        {
          "output_type": "execute_result",
          "execution_count": 102,
          "data": {
            "text/plain": "    1     3   4   5\n0                  \n1   1  MBBS  UR  UR\n2   4  MBBS  UR  UR\n3   7  MBBS  UR  UR\n4   8  MBBS  UR  UR\n5  10  MBBS  UR  UR",
            "text/html": "<div>\n<style scoped>\n    .dataframe tbody tr th:only-of-type {\n        vertical-align: middle;\n    }\n\n    .dataframe tbody tr th {\n        vertical-align: top;\n    }\n\n    .dataframe thead th {\n        text-align: right;\n    }\n</style>\n<table border=\"1\" class=\"dataframe\">\n  <thead>\n    <tr style=\"text-align: right;\">\n      <th></th>\n      <th>1</th>\n      <th>3</th>\n      <th>4</th>\n      <th>5</th>\n    </tr>\n    <tr>\n      <th>0</th>\n      <th></th>\n      <th></th>\n      <th></th>\n      <th></th>\n    </tr>\n  </thead>\n  <tbody>\n    <tr>\n      <th>1</th>\n      <td>1</td>\n      <td>MBBS</td>\n      <td>UR</td>\n      <td>UR</td>\n    </tr>\n    <tr>\n      <th>2</th>\n      <td>4</td>\n      <td>MBBS</td>\n      <td>UR</td>\n      <td>UR</td>\n    </tr>\n    <tr>\n      <th>3</th>\n      <td>7</td>\n      <td>MBBS</td>\n      <td>UR</td>\n      <td>UR</td>\n    </tr>\n    <tr>\n      <th>4</th>\n      <td>8</td>\n      <td>MBBS</td>\n      <td>UR</td>\n      <td>UR</td>\n    </tr>\n    <tr>\n      <th>5</th>\n      <td>10</td>\n      <td>MBBS</td>\n      <td>UR</td>\n      <td>UR</td>\n    </tr>\n  </tbody>\n</table>\n</div>"
          },
          "metadata": {}
        }
      ]
    },
    {
      "metadata": {
        "id": "vi97BXDBzSrd",
        "colab_type": "code",
        "colab": {
          "autoexec": {
            "startup": false,
            "wait_interval": 0
          },
          "base_uri": "https://localhost:8080/",
          "height": 390
        },
        "outputId": "94d6e57e-0063-4733-d70d-465a5a92c779",
        "executionInfo": {
          "status": "ok",
          "timestamp": 1527149394669,
          "user_tz": -330,
          "elapsed": 833,
          "user": {
            "displayName": "kunal goyal",
            "photoUrl": "//lh5.googleusercontent.com/-rcLjThBigII/AAAAAAAAAAI/AAAAAAAAATw/VeIoSWBx26c/s50-c-k-no/photo.jpg",
            "userId": "115961755730533780132"
          }
        },
        "trusted": true,
        "_uuid": "01eb0ae7936d4a0997d4e9cee1674f22d845aa6e"
      },
      "cell_type": "code",
      "source": "Y.head(10)",
      "execution_count": 103,
      "outputs": [
        {
          "output_type": "execute_result",
          "execution_count": 103,
          "data": {
            "text/plain": "    7\n0    \n1   0\n2   1\n3   0\n4   0\n5   0\n6   0\n7   0\n8   0\n9   0\n10  2",
            "text/html": "<div>\n<style scoped>\n    .dataframe tbody tr th:only-of-type {\n        vertical-align: middle;\n    }\n\n    .dataframe tbody tr th {\n        vertical-align: top;\n    }\n\n    .dataframe thead th {\n        text-align: right;\n    }\n</style>\n<table border=\"1\" class=\"dataframe\">\n  <thead>\n    <tr style=\"text-align: right;\">\n      <th></th>\n      <th>7</th>\n    </tr>\n    <tr>\n      <th>0</th>\n      <th></th>\n    </tr>\n  </thead>\n  <tbody>\n    <tr>\n      <th>1</th>\n      <td>0</td>\n    </tr>\n    <tr>\n      <th>2</th>\n      <td>1</td>\n    </tr>\n    <tr>\n      <th>3</th>\n      <td>0</td>\n    </tr>\n    <tr>\n      <th>4</th>\n      <td>0</td>\n    </tr>\n    <tr>\n      <th>5</th>\n      <td>0</td>\n    </tr>\n    <tr>\n      <th>6</th>\n      <td>0</td>\n    </tr>\n    <tr>\n      <th>7</th>\n      <td>0</td>\n    </tr>\n    <tr>\n      <th>8</th>\n      <td>0</td>\n    </tr>\n    <tr>\n      <th>9</th>\n      <td>0</td>\n    </tr>\n    <tr>\n      <th>10</th>\n      <td>2</td>\n    </tr>\n  </tbody>\n</table>\n</div>"
          },
          "metadata": {}
        }
      ]
    },
    {
      "metadata": {
        "id": "8CGhzPjJzSrh",
        "colab_type": "code",
        "colab": {
          "autoexec": {
            "startup": false,
            "wait_interval": 0
          }
        },
        "trusted": true,
        "collapsed": true,
        "_uuid": "b556c5607b50ca2cab150d68b9b0e596b0bd9954"
      },
      "cell_type": "code",
      "source": "# creating category of X\n\ncategory = [3,4,5]\nfor cat in category:\n    dumm = pd.get_dummies(X[cat],prefix=cat)\n    X = pd.concat([X,dumm],axis=1)\n    X.drop(cat,axis=1,inplace = True)\n",
      "execution_count": 104,
      "outputs": []
    },
    {
      "metadata": {
        "id": "LhcsdK02zSrl",
        "colab_type": "code",
        "colab": {
          "autoexec": {
            "startup": false,
            "wait_interval": 0
          },
          "base_uri": "https://localhost:8080/",
          "height": 272
        },
        "outputId": "6d81eed9-a7cb-470d-8dba-289578dd4000",
        "executionInfo": {
          "status": "ok",
          "timestamp": 1527149396936,
          "user_tz": -330,
          "elapsed": 857,
          "user": {
            "displayName": "kunal goyal",
            "photoUrl": "//lh5.googleusercontent.com/-rcLjThBigII/AAAAAAAAAAI/AAAAAAAAATw/VeIoSWBx26c/s50-c-k-no/photo.jpg",
            "userId": "115961755730533780132"
          }
        },
        "trusted": true,
        "_uuid": "5cbc9cb703103e3f0357768e0cdae7b0f51e3904"
      },
      "cell_type": "code",
      "source": "# after category \nX.head()",
      "execution_count": 105,
      "outputs": [
        {
          "output_type": "execute_result",
          "execution_count": 105,
          "data": {
            "text/plain": "    1  3_BDS  3_MBBS  4_OBC   ...     5_ST  5_ST PH  5_UR  5_UR PH\n0                             ...                                 \n1   1      0       1      0   ...        0        0     1        0\n2   4      0       1      0   ...        0        0     1        0\n3   7      0       1      0   ...        0        0     1        0\n4   8      0       1      0   ...        0        0     1        0\n5  10      0       1      0   ...        0        0     1        0\n\n[5 rows x 19 columns]",
            "text/html": "<div>\n<style scoped>\n    .dataframe tbody tr th:only-of-type {\n        vertical-align: middle;\n    }\n\n    .dataframe tbody tr th {\n        vertical-align: top;\n    }\n\n    .dataframe thead th {\n        text-align: right;\n    }\n</style>\n<table border=\"1\" class=\"dataframe\">\n  <thead>\n    <tr style=\"text-align: right;\">\n      <th></th>\n      <th>1</th>\n      <th>3_BDS</th>\n      <th>3_MBBS</th>\n      <th>4_OBC</th>\n      <th>4_OBC PH</th>\n      <th>4_SC</th>\n      <th>4_SC PH</th>\n      <th>4_ST</th>\n      <th>4_ST PH</th>\n      <th>4_UR</th>\n      <th>4_UR PH</th>\n      <th>5_OBC</th>\n      <th>5_OBC PH</th>\n      <th>5_SC</th>\n      <th>5_SC PH</th>\n      <th>5_ST</th>\n      <th>5_ST PH</th>\n      <th>5_UR</th>\n      <th>5_UR PH</th>\n    </tr>\n    <tr>\n      <th>0</th>\n      <th></th>\n      <th></th>\n      <th></th>\n      <th></th>\n      <th></th>\n      <th></th>\n      <th></th>\n      <th></th>\n      <th></th>\n      <th></th>\n      <th></th>\n      <th></th>\n      <th></th>\n      <th></th>\n      <th></th>\n      <th></th>\n      <th></th>\n      <th></th>\n      <th></th>\n    </tr>\n  </thead>\n  <tbody>\n    <tr>\n      <th>1</th>\n      <td>1</td>\n      <td>0</td>\n      <td>1</td>\n      <td>0</td>\n      <td>0</td>\n      <td>0</td>\n      <td>0</td>\n      <td>0</td>\n      <td>0</td>\n      <td>1</td>\n      <td>0</td>\n      <td>0</td>\n      <td>0</td>\n      <td>0</td>\n      <td>0</td>\n      <td>0</td>\n      <td>0</td>\n      <td>1</td>\n      <td>0</td>\n    </tr>\n    <tr>\n      <th>2</th>\n      <td>4</td>\n      <td>0</td>\n      <td>1</td>\n      <td>0</td>\n      <td>0</td>\n      <td>0</td>\n      <td>0</td>\n      <td>0</td>\n      <td>0</td>\n      <td>1</td>\n      <td>0</td>\n      <td>0</td>\n      <td>0</td>\n      <td>0</td>\n      <td>0</td>\n      <td>0</td>\n      <td>0</td>\n      <td>1</td>\n      <td>0</td>\n    </tr>\n    <tr>\n      <th>3</th>\n      <td>7</td>\n      <td>0</td>\n      <td>1</td>\n      <td>0</td>\n      <td>0</td>\n      <td>0</td>\n      <td>0</td>\n      <td>0</td>\n      <td>0</td>\n      <td>1</td>\n      <td>0</td>\n      <td>0</td>\n      <td>0</td>\n      <td>0</td>\n      <td>0</td>\n      <td>0</td>\n      <td>0</td>\n      <td>1</td>\n      <td>0</td>\n    </tr>\n    <tr>\n      <th>4</th>\n      <td>8</td>\n      <td>0</td>\n      <td>1</td>\n      <td>0</td>\n      <td>0</td>\n      <td>0</td>\n      <td>0</td>\n      <td>0</td>\n      <td>0</td>\n      <td>1</td>\n      <td>0</td>\n      <td>0</td>\n      <td>0</td>\n      <td>0</td>\n      <td>0</td>\n      <td>0</td>\n      <td>0</td>\n      <td>1</td>\n      <td>0</td>\n    </tr>\n    <tr>\n      <th>5</th>\n      <td>10</td>\n      <td>0</td>\n      <td>1</td>\n      <td>0</td>\n      <td>0</td>\n      <td>0</td>\n      <td>0</td>\n      <td>0</td>\n      <td>0</td>\n      <td>1</td>\n      <td>0</td>\n      <td>0</td>\n      <td>0</td>\n      <td>0</td>\n      <td>0</td>\n      <td>0</td>\n      <td>0</td>\n      <td>1</td>\n      <td>0</td>\n    </tr>\n  </tbody>\n</table>\n</div>"
          },
          "metadata": {}
        }
      ]
    },
    {
      "metadata": {
        "id": "xpH-FZv-zSrr",
        "colab_type": "code",
        "colab": {
          "autoexec": {
            "startup": false,
            "wait_interval": 0
          }
        },
        "trusted": true,
        "collapsed": true,
        "_uuid": "dcfa4467093420156774f62944a2f70da44572d2"
      },
      "cell_type": "code",
      "source": "# categorizing Y\n\n#dumm = pd.get_dummies(Y,prefix=None)",
      "execution_count": 106,
      "outputs": []
    },
    {
      "metadata": {
        "id": "gT9ftBUszSru",
        "colab_type": "code",
        "colab": {
          "autoexec": {
            "startup": false,
            "wait_interval": 0
          },
          "base_uri": "https://localhost:8080/",
          "height": 390
        },
        "outputId": "ba8d82ea-4139-473e-dd32-ce77248776c8",
        "executionInfo": {
          "status": "ok",
          "timestamp": 1527149398993,
          "user_tz": -330,
          "elapsed": 928,
          "user": {
            "displayName": "kunal goyal",
            "photoUrl": "//lh5.googleusercontent.com/-rcLjThBigII/AAAAAAAAAAI/AAAAAAAAATw/VeIoSWBx26c/s50-c-k-no/photo.jpg",
            "userId": "115961755730533780132"
          }
        },
        "trusted": true,
        "_uuid": "3449bac66c46a4e522a023be1adbc38fd22bb521"
      },
      "cell_type": "code",
      "source": "Y.head(10)",
      "execution_count": 107,
      "outputs": [
        {
          "output_type": "execute_result",
          "execution_count": 107,
          "data": {
            "text/plain": "    7\n0    \n1   0\n2   1\n3   0\n4   0\n5   0\n6   0\n7   0\n8   0\n9   0\n10  2",
            "text/html": "<div>\n<style scoped>\n    .dataframe tbody tr th:only-of-type {\n        vertical-align: middle;\n    }\n\n    .dataframe tbody tr th {\n        vertical-align: top;\n    }\n\n    .dataframe thead th {\n        text-align: right;\n    }\n</style>\n<table border=\"1\" class=\"dataframe\">\n  <thead>\n    <tr style=\"text-align: right;\">\n      <th></th>\n      <th>7</th>\n    </tr>\n    <tr>\n      <th>0</th>\n      <th></th>\n    </tr>\n  </thead>\n  <tbody>\n    <tr>\n      <th>1</th>\n      <td>0</td>\n    </tr>\n    <tr>\n      <th>2</th>\n      <td>1</td>\n    </tr>\n    <tr>\n      <th>3</th>\n      <td>0</td>\n    </tr>\n    <tr>\n      <th>4</th>\n      <td>0</td>\n    </tr>\n    <tr>\n      <th>5</th>\n      <td>0</td>\n    </tr>\n    <tr>\n      <th>6</th>\n      <td>0</td>\n    </tr>\n    <tr>\n      <th>7</th>\n      <td>0</td>\n    </tr>\n    <tr>\n      <th>8</th>\n      <td>0</td>\n    </tr>\n    <tr>\n      <th>9</th>\n      <td>0</td>\n    </tr>\n    <tr>\n      <th>10</th>\n      <td>2</td>\n    </tr>\n  </tbody>\n</table>\n</div>"
          },
          "metadata": {}
        }
      ]
    },
    {
      "metadata": {
        "id": "NGNY1mj-zSrx",
        "colab_type": "code",
        "colab": {
          "autoexec": {
            "startup": false,
            "wait_interval": 0
          }
        },
        "trusted": true,
        "collapsed": true,
        "_uuid": "3ad1c53df7960db52333378ef395cc1cdebceb72"
      },
      "cell_type": "code",
      "source": "# spliting X and Y in crossvalidation and traing set\n\nX_train, X_test, y_train, y_test = train_test_split(X, Y, test_size=0.1, random_state=42)",
      "execution_count": 108,
      "outputs": []
    },
    {
      "metadata": {
        "id": "uxly9OVizSr0",
        "colab_type": "code",
        "colab": {
          "autoexec": {
            "startup": false,
            "wait_interval": 0
          },
          "base_uri": "https://localhost:8080/",
          "height": 374
        },
        "outputId": "73b4a661-cdba-4ebc-f479-3ba80fc65636",
        "executionInfo": {
          "status": "ok",
          "timestamp": 1527149401114,
          "user_tz": -330,
          "elapsed": 766,
          "user": {
            "displayName": "kunal goyal",
            "photoUrl": "//lh5.googleusercontent.com/-rcLjThBigII/AAAAAAAAAAI/AAAAAAAAATw/VeIoSWBx26c/s50-c-k-no/photo.jpg",
            "userId": "115961755730533780132"
          }
        },
        "trusted": true,
        "_uuid": "0aa052ab0458b94db2a4a2bb36d212309abfa913"
      },
      "cell_type": "code",
      "source": "print(X.shape)\nprint(Y.shape)\nprint(X_train.shape)\nprint(X_test.shape)\nprint(y_train.shape)\nprint(y_test.shape)\nX_test.head()",
      "execution_count": 109,
      "outputs": [
        {
          "output_type": "stream",
          "text": "(4018, 19)\n(4018, 1)\n(3616, 19)\n(402, 19)\n(3616, 1)\n(402, 1)\n",
          "name": "stdout"
        },
        {
          "output_type": "execute_result",
          "execution_count": 109,
          "data": {
            "text/plain": "          1  3_BDS  3_MBBS  4_OBC   ...     5_ST  5_ST PH  5_UR  5_UR PH\n0                                   ...                                 \n1072   1714      0       1      0   ...        0        0     1        0\n1201   1961      0       1      0   ...        0        0     1        0\n2719   5522      0       1      0   ...        0        0     1        0\n1290   2156      0       1      0   ...        0        0     1        0\n3221  19631      0       1      0   ...        0        0     0        0\n\n[5 rows x 19 columns]",
            "text/html": "<div>\n<style scoped>\n    .dataframe tbody tr th:only-of-type {\n        vertical-align: middle;\n    }\n\n    .dataframe tbody tr th {\n        vertical-align: top;\n    }\n\n    .dataframe thead th {\n        text-align: right;\n    }\n</style>\n<table border=\"1\" class=\"dataframe\">\n  <thead>\n    <tr style=\"text-align: right;\">\n      <th></th>\n      <th>1</th>\n      <th>3_BDS</th>\n      <th>3_MBBS</th>\n      <th>4_OBC</th>\n      <th>4_OBC PH</th>\n      <th>4_SC</th>\n      <th>4_SC PH</th>\n      <th>4_ST</th>\n      <th>4_ST PH</th>\n      <th>4_UR</th>\n      <th>4_UR PH</th>\n      <th>5_OBC</th>\n      <th>5_OBC PH</th>\n      <th>5_SC</th>\n      <th>5_SC PH</th>\n      <th>5_ST</th>\n      <th>5_ST PH</th>\n      <th>5_UR</th>\n      <th>5_UR PH</th>\n    </tr>\n    <tr>\n      <th>0</th>\n      <th></th>\n      <th></th>\n      <th></th>\n      <th></th>\n      <th></th>\n      <th></th>\n      <th></th>\n      <th></th>\n      <th></th>\n      <th></th>\n      <th></th>\n      <th></th>\n      <th></th>\n      <th></th>\n      <th></th>\n      <th></th>\n      <th></th>\n      <th></th>\n      <th></th>\n    </tr>\n  </thead>\n  <tbody>\n    <tr>\n      <th>1072</th>\n      <td>1714</td>\n      <td>0</td>\n      <td>1</td>\n      <td>0</td>\n      <td>0</td>\n      <td>0</td>\n      <td>0</td>\n      <td>0</td>\n      <td>0</td>\n      <td>1</td>\n      <td>0</td>\n      <td>0</td>\n      <td>0</td>\n      <td>0</td>\n      <td>0</td>\n      <td>0</td>\n      <td>0</td>\n      <td>1</td>\n      <td>0</td>\n    </tr>\n    <tr>\n      <th>1201</th>\n      <td>1961</td>\n      <td>0</td>\n      <td>1</td>\n      <td>0</td>\n      <td>0</td>\n      <td>0</td>\n      <td>0</td>\n      <td>0</td>\n      <td>0</td>\n      <td>1</td>\n      <td>0</td>\n      <td>0</td>\n      <td>0</td>\n      <td>0</td>\n      <td>0</td>\n      <td>0</td>\n      <td>0</td>\n      <td>1</td>\n      <td>0</td>\n    </tr>\n    <tr>\n      <th>2719</th>\n      <td>5522</td>\n      <td>0</td>\n      <td>1</td>\n      <td>0</td>\n      <td>0</td>\n      <td>0</td>\n      <td>0</td>\n      <td>0</td>\n      <td>0</td>\n      <td>1</td>\n      <td>0</td>\n      <td>0</td>\n      <td>0</td>\n      <td>0</td>\n      <td>0</td>\n      <td>0</td>\n      <td>0</td>\n      <td>1</td>\n      <td>0</td>\n    </tr>\n    <tr>\n      <th>1290</th>\n      <td>2156</td>\n      <td>0</td>\n      <td>1</td>\n      <td>0</td>\n      <td>0</td>\n      <td>0</td>\n      <td>0</td>\n      <td>0</td>\n      <td>0</td>\n      <td>1</td>\n      <td>0</td>\n      <td>0</td>\n      <td>0</td>\n      <td>0</td>\n      <td>0</td>\n      <td>0</td>\n      <td>0</td>\n      <td>1</td>\n      <td>0</td>\n    </tr>\n    <tr>\n      <th>3221</th>\n      <td>19631</td>\n      <td>0</td>\n      <td>1</td>\n      <td>0</td>\n      <td>0</td>\n      <td>1</td>\n      <td>0</td>\n      <td>0</td>\n      <td>0</td>\n      <td>0</td>\n      <td>0</td>\n      <td>0</td>\n      <td>0</td>\n      <td>1</td>\n      <td>0</td>\n      <td>0</td>\n      <td>0</td>\n      <td>0</td>\n      <td>0</td>\n    </tr>\n  </tbody>\n</table>\n</div>"
          },
          "metadata": {}
        }
      ]
    },
    {
      "metadata": {
        "id": "K8Uv4H50zSr3",
        "colab_type": "code",
        "colab": {
          "autoexec": {
            "startup": false,
            "wait_interval": 0
          }
        },
        "trusted": true,
        "collapsed": true,
        "_uuid": "40e71fea05e8e2a54ec3bba9f767c2a94b07f4d8"
      },
      "cell_type": "code",
      "source": "# decision tree model\ndtree_model = DecisionTreeRegressor(random_state=42).fit(X_train, y_train)\n#linear_model = LinearRegression().fit(X_train,y_train)\n#svr_model = SVR().fit(X_train,y_train)",
      "execution_count": 110,
      "outputs": []
    },
    {
      "metadata": {
        "id": "8gXfuFUEzSr7",
        "colab_type": "code",
        "colab": {
          "autoexec": {
            "startup": false,
            "wait_interval": 0
          }
        },
        "trusted": true,
        "collapsed": true,
        "_uuid": "9c06bbf386a32651122d035a82b535c69abd67e4"
      },
      "cell_type": "code",
      "source": "# predicting values for crossvalidation 'y_test' set\n\ny_pred = dtree_model.predict(X_test)\ny_pred = pd.DataFrame(y_pred, index = y_test.index, columns=[7])\n#y_pred_linear = pd.DataFrame(linear_model.predict(X_test),index=y_test.index,columns=[7])\n#y_pred_svr = pd.DataFrame(svr_model.predict(X_test),index=y_test.index,columns=[7])\n#y_pred.rename(columns = )\n#y_test.iloc[7][7]",
      "execution_count": 111,
      "outputs": []
    },
    {
      "metadata": {
        "id": "PH8mhwnqzSr_",
        "colab_type": "code",
        "colab": {
          "autoexec": {
            "startup": false,
            "wait_interval": 0
          },
          "base_uri": "https://localhost:8080/",
          "height": 34
        },
        "outputId": "af2f7c54-9c78-42a7-db7c-262207e9b7a5",
        "executionInfo": {
          "status": "ok",
          "timestamp": 1527149404319,
          "user_tz": -330,
          "elapsed": 933,
          "user": {
            "displayName": "kunal goyal",
            "photoUrl": "//lh5.googleusercontent.com/-rcLjThBigII/AAAAAAAAAAI/AAAAAAAAATw/VeIoSWBx26c/s50-c-k-no/photo.jpg",
            "userId": "115961755730533780132"
          }
        },
        "trusted": true,
        "_uuid": "43256b6b925bd8867248830a392ff22a257eed55"
      },
      "cell_type": "code",
      "source": "summ = 0\nfor i in range (len(y_test)):\n    if(abs(y_pred.iloc[i][7]-y_test.iloc[i][7])<=3):\n        summ+=1\nsumm",
      "execution_count": 112,
      "outputs": [
        {
          "output_type": "execute_result",
          "execution_count": 112,
          "data": {
            "text/plain": "86"
          },
          "metadata": {}
        }
      ]
    },
    {
      "metadata": {
        "id": "AKADRhyvzSsC",
        "colab_type": "code",
        "colab": {
          "autoexec": {
            "startup": false,
            "wait_interval": 0
          },
          "base_uri": "https://localhost:8080/",
          "height": 51
        },
        "outputId": "a40fdf94-cd1f-4195-f74a-978c7a5cc556",
        "executionInfo": {
          "status": "ok",
          "timestamp": 1527149415283,
          "user_tz": -330,
          "elapsed": 10793,
          "user": {
            "displayName": "kunal goyal",
            "photoUrl": "//lh5.googleusercontent.com/-rcLjThBigII/AAAAAAAAAAI/AAAAAAAAATw/VeIoSWBx26c/s50-c-k-no/photo.jpg",
            "userId": "115961755730533780132"
          }
        },
        "trusted": true,
        "_uuid": "89dfbd38af14f2fd3a623253e302d8e0bab97958"
      },
      "cell_type": "code",
      "source": "# now we can make prediction according to rank, Alloted_category, course, candidate category.\nprint('What is your rank?')\nrank = input()\n",
      "execution_count": 113,
      "outputs": [
        {
          "output_type": "stream",
          "text": "What is your rank?\n89\n",
          "name": "stdout"
        }
      ]
    },
    {
      "metadata": {
        "id": "l0E7b5-YzSsF",
        "colab_type": "code",
        "colab": {
          "autoexec": {
            "startup": false,
            "wait_interval": 0
          },
          "base_uri": "https://localhost:8080/",
          "height": 187
        },
        "outputId": "a7036051-5370-43b9-ba07-dabe72e49b7d",
        "executionInfo": {
          "status": "ok",
          "timestamp": 1527149426911,
          "user_tz": -330,
          "elapsed": 11544,
          "user": {
            "displayName": "kunal goyal",
            "photoUrl": "//lh5.googleusercontent.com/-rcLjThBigII/AAAAAAAAAAI/AAAAAAAAATw/VeIoSWBx26c/s50-c-k-no/photo.jpg",
            "userId": "115961755730533780132"
          }
        },
        "trusted": true,
        "_uuid": "29ee9cae91245d3f4a9505d704012c06488d2799"
      },
      "cell_type": "code",
      "source": "print('Select the category which you want to be alloted(from options below)?')\nprint('1. UR \\n2. UR PH\\n3. OBC \\n4. OBC PH\\n5. SC\\n6. SC PH\\n7. ST\\n8. ST PH')\nalloted_cat = input()",
      "execution_count": 114,
      "outputs": [
        {
          "output_type": "stream",
          "text": "Select the category which you want to be alloted(from options below)?\n1. UR \n2. UR PH\n3. OBC \n4. OBC PH\n5. SC\n6. SC PH\n7. ST\n8. ST PH\nUR\n",
          "name": "stdout"
        }
      ]
    },
    {
      "metadata": {
        "id": "Akiw19SDEQBm",
        "colab_type": "text",
        "_uuid": "f50495a1376efadcaa4b5a7c55c235f623d36764"
      },
      "cell_type": "markdown",
      "source": ""
    },
    {
      "metadata": {
        "id": "22OJ7Yw31r2g",
        "colab_type": "code",
        "colab": {
          "autoexec": {
            "startup": false,
            "wait_interval": 0
          },
          "base_uri": "https://localhost:8080/",
          "height": 187
        },
        "outputId": "6218a9e7-b184-452e-d63a-385a477923b2",
        "executionInfo": {
          "status": "ok",
          "timestamp": 1527149432994,
          "user_tz": -330,
          "elapsed": 6015,
          "user": {
            "displayName": "kunal goyal",
            "photoUrl": "//lh5.googleusercontent.com/-rcLjThBigII/AAAAAAAAAAI/AAAAAAAAATw/VeIoSWBx26c/s50-c-k-no/photo.jpg",
            "userId": "115961755730533780132"
          }
        },
        "trusted": true,
        "_uuid": "2b27c89bd3c8aca60072cbd30e9fb6279ea2a2ff"
      },
      "cell_type": "code",
      "source": "print('Select the category which you belong to (from options below)?')\nprint('1. UR \\n2. UR PH\\n3. OBC \\n4. OBC PH\\n5. SC\\n6. SC PH\\n7. ST\\n8. ST PH')\ncandidate_cat = input()",
      "execution_count": 115,
      "outputs": [
        {
          "output_type": "stream",
          "text": "Select the category which you belong to (from options below)?\n1. UR \n2. UR PH\n3. OBC \n4. OBC PH\n5. SC\n6. SC PH\n7. ST\n8. ST PH\nUR\n",
          "name": "stdout"
        }
      ]
    },
    {
      "metadata": {
        "id": "bpX4xvE11z5O",
        "colab_type": "code",
        "colab": {
          "autoexec": {
            "startup": false,
            "wait_interval": 0
          },
          "base_uri": "https://localhost:8080/",
          "height": 85
        },
        "outputId": "e4ed9718-9394-44be-a0e1-daeea25039a4",
        "executionInfo": {
          "status": "ok",
          "timestamp": 1527149437911,
          "user_tz": -330,
          "elapsed": 4857,
          "user": {
            "displayName": "kunal goyal",
            "photoUrl": "//lh5.googleusercontent.com/-rcLjThBigII/AAAAAAAAAAI/AAAAAAAAATw/VeIoSWBx26c/s50-c-k-no/photo.jpg",
            "userId": "115961755730533780132"
          }
        },
        "trusted": true,
        "_uuid": "eead8dde38eb617a4a86414bc92e314fb96cc7ae"
      },
      "cell_type": "code",
      "source": "print('Select the course which you wana to take from options below)?')\nprint('1. MBBS \\n2. BDS')\ncourse = input()",
      "execution_count": 116,
      "outputs": [
        {
          "output_type": "stream",
          "text": "Select the course which you wana to take from options below)?\n1. MBBS \n2. BDS\nMBBS\n",
          "name": "stdout"
        }
      ]
    },
    {
      "metadata": {
        "id": "7owwy0gW6NUg",
        "colab_type": "code",
        "colab": {
          "autoexec": {
            "startup": false,
            "wait_interval": 0
          },
          "base_uri": "https://localhost:8080/",
          "height": 117
        },
        "outputId": "4bf4b45f-a444-46cd-dc41-f2a69a875478",
        "executionInfo": {
          "status": "ok",
          "timestamp": 1527149438920,
          "user_tz": -330,
          "elapsed": 928,
          "user": {
            "displayName": "kunal goyal",
            "photoUrl": "//lh5.googleusercontent.com/-rcLjThBigII/AAAAAAAAAAI/AAAAAAAAATw/VeIoSWBx26c/s50-c-k-no/photo.jpg",
            "userId": "115961755730533780132"
          }
        },
        "trusted": true,
        "_uuid": "b29bd455904c2a58f47a08a8981b88df50444472"
      },
      "cell_type": "code",
      "source": "clmns = ['3_BDS','3_MBBS','4_OBC','4_OBC PH','4_SC','4_SC PH','4_ST','4_ST PH','4_UR','4_UR PH','5_OBC','5_OBC PH','5_SC','5_SC PH','5_ST','5_ST PH','5_UR','5_UR PH']\ntest = pd.DataFrame({0:[1],1:[rank]})\nfor i in clmns:\n  test[i] = pd.Series(np.random.randint(1))\ntest",
      "execution_count": 117,
      "outputs": [
        {
          "output_type": "execute_result",
          "execution_count": 117,
          "data": {
            "text/plain": "   0   1  3_BDS  3_MBBS  4_OBC   ...     5_SC PH  5_ST  5_ST PH  5_UR  5_UR PH\n0  1  89      0       0      0   ...           0     0        0     0        0\n\n[1 rows x 20 columns]",
            "text/html": "<div>\n<style scoped>\n    .dataframe tbody tr th:only-of-type {\n        vertical-align: middle;\n    }\n\n    .dataframe tbody tr th {\n        vertical-align: top;\n    }\n\n    .dataframe thead th {\n        text-align: right;\n    }\n</style>\n<table border=\"1\" class=\"dataframe\">\n  <thead>\n    <tr style=\"text-align: right;\">\n      <th></th>\n      <th>0</th>\n      <th>1</th>\n      <th>3_BDS</th>\n      <th>3_MBBS</th>\n      <th>4_OBC</th>\n      <th>4_OBC PH</th>\n      <th>4_SC</th>\n      <th>4_SC PH</th>\n      <th>4_ST</th>\n      <th>4_ST PH</th>\n      <th>4_UR</th>\n      <th>4_UR PH</th>\n      <th>5_OBC</th>\n      <th>5_OBC PH</th>\n      <th>5_SC</th>\n      <th>5_SC PH</th>\n      <th>5_ST</th>\n      <th>5_ST PH</th>\n      <th>5_UR</th>\n      <th>5_UR PH</th>\n    </tr>\n  </thead>\n  <tbody>\n    <tr>\n      <th>0</th>\n      <td>1</td>\n      <td>89</td>\n      <td>0</td>\n      <td>0</td>\n      <td>0</td>\n      <td>0</td>\n      <td>0</td>\n      <td>0</td>\n      <td>0</td>\n      <td>0</td>\n      <td>0</td>\n      <td>0</td>\n      <td>0</td>\n      <td>0</td>\n      <td>0</td>\n      <td>0</td>\n      <td>0</td>\n      <td>0</td>\n      <td>0</td>\n      <td>0</td>\n    </tr>\n  </tbody>\n</table>\n</div>"
          },
          "metadata": {}
        }
      ]
    },
    {
      "metadata": {
        "id": "Gg9m65RjETnV",
        "colab_type": "code",
        "colab": {
          "autoexec": {
            "startup": false,
            "wait_interval": 0
          }
        },
        "trusted": true,
        "collapsed": true,
        "_uuid": "6a560ba21ab8ea65bf37a30bd2b78dbeec8e5024"
      },
      "cell_type": "code",
      "source": "test = test.set_index(0)",
      "execution_count": 118,
      "outputs": []
    },
    {
      "metadata": {
        "id": "CCPBpFRjEZ-t",
        "colab_type": "code",
        "colab": {
          "autoexec": {
            "startup": false,
            "wait_interval": 0
          },
          "base_uri": "https://localhost:8080/",
          "height": 148
        },
        "outputId": "791dfbe0-2750-44b6-9ff7-e1e1ca76a53b",
        "executionInfo": {
          "status": "ok",
          "timestamp": 1527149441465,
          "user_tz": -330,
          "elapsed": 766,
          "user": {
            "displayName": "kunal goyal",
            "photoUrl": "//lh5.googleusercontent.com/-rcLjThBigII/AAAAAAAAAAI/AAAAAAAAATw/VeIoSWBx26c/s50-c-k-no/photo.jpg",
            "userId": "115961755730533780132"
          }
        },
        "trusted": true,
        "_uuid": "73114db0de5a928a388729534fae8d379178b7d0"
      },
      "cell_type": "code",
      "source": "test['3_'+course] = 1\ntest['4_'+alloted_cat] = 1\ntest['5_'+candidate_cat] = 1\ntest",
      "execution_count": 119,
      "outputs": [
        {
          "output_type": "execute_result",
          "execution_count": 119,
          "data": {
            "text/plain": "    1  3_BDS  3_MBBS  4_OBC   ...     5_ST  5_ST PH  5_UR  5_UR PH\n0                             ...                                 \n1  89      0       1      0   ...        0        0     1        0\n\n[1 rows x 19 columns]",
            "text/html": "<div>\n<style scoped>\n    .dataframe tbody tr th:only-of-type {\n        vertical-align: middle;\n    }\n\n    .dataframe tbody tr th {\n        vertical-align: top;\n    }\n\n    .dataframe thead th {\n        text-align: right;\n    }\n</style>\n<table border=\"1\" class=\"dataframe\">\n  <thead>\n    <tr style=\"text-align: right;\">\n      <th></th>\n      <th>1</th>\n      <th>3_BDS</th>\n      <th>3_MBBS</th>\n      <th>4_OBC</th>\n      <th>4_OBC PH</th>\n      <th>4_SC</th>\n      <th>4_SC PH</th>\n      <th>4_ST</th>\n      <th>4_ST PH</th>\n      <th>4_UR</th>\n      <th>4_UR PH</th>\n      <th>5_OBC</th>\n      <th>5_OBC PH</th>\n      <th>5_SC</th>\n      <th>5_SC PH</th>\n      <th>5_ST</th>\n      <th>5_ST PH</th>\n      <th>5_UR</th>\n      <th>5_UR PH</th>\n    </tr>\n    <tr>\n      <th>0</th>\n      <th></th>\n      <th></th>\n      <th></th>\n      <th></th>\n      <th></th>\n      <th></th>\n      <th></th>\n      <th></th>\n      <th></th>\n      <th></th>\n      <th></th>\n      <th></th>\n      <th></th>\n      <th></th>\n      <th></th>\n      <th></th>\n      <th></th>\n      <th></th>\n      <th></th>\n    </tr>\n  </thead>\n  <tbody>\n    <tr>\n      <th>1</th>\n      <td>89</td>\n      <td>0</td>\n      <td>1</td>\n      <td>0</td>\n      <td>0</td>\n      <td>0</td>\n      <td>0</td>\n      <td>0</td>\n      <td>0</td>\n      <td>1</td>\n      <td>0</td>\n      <td>0</td>\n      <td>0</td>\n      <td>0</td>\n      <td>0</td>\n      <td>0</td>\n      <td>0</td>\n      <td>1</td>\n      <td>0</td>\n    </tr>\n  </tbody>\n</table>\n</div>"
          },
          "metadata": {}
        }
      ]
    },
    {
      "metadata": {
        "id": "luu7QRJrE7Bi",
        "colab_type": "code",
        "colab": {
          "autoexec": {
            "startup": false,
            "wait_interval": 0
          }
        },
        "trusted": true,
        "collapsed": true,
        "_uuid": "f0cda2252d01f0e6c51f4fc394cedbe9b4d399d9"
      },
      "cell_type": "code",
      "source": "dtree_model = DecisionTreeRegressor(random_state=42).fit(X, Y)",
      "execution_count": 120,
      "outputs": []
    },
    {
      "metadata": {
        "id": "1fS7AHojFJBu",
        "colab_type": "code",
        "colab": {
          "autoexec": {
            "startup": false,
            "wait_interval": 0
          }
        },
        "trusted": true,
        "collapsed": true,
        "_uuid": "605ba25bc038251c48b902c68bc9fdcde3afe8a6"
      },
      "cell_type": "code",
      "source": "ans = dtree_model.predict(test)\n",
      "execution_count": 121,
      "outputs": []
    },
    {
      "metadata": {
        "id": "7wmMyKX3FS97",
        "colab_type": "code",
        "colab": {
          "autoexec": {
            "startup": false,
            "wait_interval": 0
          },
          "base_uri": "https://localhost:8080/",
          "height": 170
        },
        "outputId": "80130dda-2544-4ce4-b97c-909bed76377c",
        "executionInfo": {
          "status": "ok",
          "timestamp": 1527149478765,
          "user_tz": -330,
          "elapsed": 797,
          "user": {
            "displayName": "kunal goyal",
            "photoUrl": "//lh5.googleusercontent.com/-rcLjThBigII/AAAAAAAAAAI/AAAAAAAAATw/VeIoSWBx26c/s50-c-k-no/photo.jpg",
            "userId": "115961755730533780132"
          }
        },
        "trusted": true,
        "_uuid": "dc3a328b91ab7fe28f8b6d65712df136a7836f6e"
      },
      "cell_type": "code",
      "source": "print('Model predicted colleges:\\n\\n')\n\nif int(ans[0])<3:\n  for i in range(6):\n    print(int_to_clg[i])\nelif int(ans[0])>213:\n  for i in range(211,216):\n    print(int_to_clg[i])\nelse:\n  for i in range(int(ans[0]),int(ans[0])+3):\n    print(int_to_clg[i])\n  for i in range(int(ans[0])-3,int(ans[0])):\n    print(int_to_clg[i])\n  ",
      "execution_count": 122,
      "outputs": [
        {
          "output_type": "stream",
          "text": "Model predicted colleges:\n\n\nUniversity College of Medical Sciences, Delhi\nGOVT. MEDICAL COLLEGE, KOZHIKODE\nVMMC AND SAFDARJUNG HOSPITAL, NEW DELHI\nGOVT.MEDICAL COLLEGE,THIRUVANANTHAPURAM\nIMS BHU, Varanasi, UP\nLADY HARDINGE MEDICAL COLLEGE, NEW DELHI\n",
          "name": "stdout"
        }
      ]
    }
  ],
  "metadata": {
    "colab": {
      "name": "notebook.ipynb",
      "version": "0.3.2",
      "views": {},
      "default_view": {},
      "provenance": [],
      "toc_visible": true
    },
    "kernelspec": {
      "display_name": "Python 3",
      "language": "python",
      "name": "python3"
    },
    "language_info": {
      "name": "python",
      "version": "3.6.5",
      "mimetype": "text/x-python",
      "codemirror_mode": {
        "name": "ipython",
        "version": 3
      },
      "pygments_lexer": "ipython3",
      "nbconvert_exporter": "python",
      "file_extension": ".py"
    }
  },
  "nbformat": 4,
  "nbformat_minor": 1
}