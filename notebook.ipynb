{
 "cells": [
  {
   "cell_type": "markdown",
   "metadata": {},
   "source": [
    "# Prediction based on All India Quota Under Graduate Allotment -2017"
   ]
  },
  {
   "cell_type": "code",
   "execution_count": null,
   "metadata": {},
   "outputs": [],
   "source": [
    "#importing various libraries needed for our model\n",
    "\n",
    "import numpy as np\n",
    "import pandas as pd\n",
    "from sklearn.model_selection import train_test_split\n",
    "from sklearn.tree import DecisionTreeRegressor\n",
    "from sklearn.metrics import confusion_matrix\n",
    "from sklearn.svm import SVR\n",
    "from sklearn.linear_model import LinearRegression"
   ]
  },
  {
   "cell_type": "code",
   "execution_count": null,
   "metadata": {},
   "outputs": [],
   "source": [
    "ls"
   ]
  },
  {
   "cell_type": "code",
   "execution_count": null,
   "metadata": {},
   "outputs": [],
   "source": [
    "# read csv\n",
    "\n",
    "data = pd.read_csv('round_1_alloted.csv',header=None)"
   ]
  },
  {
   "cell_type": "code",
   "execution_count": null,
   "metadata": {},
   "outputs": [],
   "source": [
    "data = data.set_index(0)\n",
    "#print(data)"
   ]
  },
  {
   "cell_type": "code",
   "execution_count": null,
   "metadata": {},
   "outputs": [],
   "source": [
    "data.head()\n"
   ]
  },
  {
   "cell_type": "code",
   "execution_count": null,
   "metadata": {},
   "outputs": [],
   "source": [
    "for idx,row in data.iterrows():\n",
    "    if(row[5] == 'UR PH1'):\n",
    "        data[5][idx] = 'UR PH'\n",
    "    if(row[5] == 'OBC PH1'):\n",
    "        data[5][idx] = 'OBC PH'\n",
    "    if(row[5] == 'SC PH1'):\n",
    "        data[5][idx] = 'SC PH'\n",
    "    if(row[5] == 'UR PH2'):\n",
    "        data[5][idx] = 'UR PH'\n",
    "    if(row[5] == 'OBC PH2'):\n",
    "        data[5][idx] = 'OBC PH'\n",
    "    if(row[5] == 'SC PH2'):\n",
    "        data[5][idx] = 'SC PH'\n",
    "    if(row[5] == 'ST PH1' or row[5] == 'ST PH2'):\n",
    "        data[5][idx] = 'ST PH'"
   ]
  },
  {
   "cell_type": "code",
   "execution_count": null,
   "metadata": {},
   "outputs": [],
   "source": [
    "#data.iloc[3837][5] = 'SC'\n",
    "data.iloc[3837][5]"
   ]
  },
  {
   "cell_type": "code",
   "execution_count": null,
   "metadata": {},
   "outputs": [],
   "source": [
    "# drop 6th coloumn as it only has 'Allotted' value.\n",
    "\n",
    "data = data.drop(6,axis=1)"
   ]
  },
  {
   "cell_type": "code",
   "execution_count": null,
   "metadata": {},
   "outputs": [],
   "source": [
    "# dictionary to map college to integer value\n",
    "\n",
    "from collections import defaultdict\n",
    "clg_to_int = defaultdict(str)\n",
    "idx = 0\n",
    "for i in data[2]:\n",
    "    if(i not in clg_to_int):\n",
    "        clg_to_int[i] = idx\n",
    "        idx+=1"
   ]
  },
  {
   "cell_type": "code",
   "execution_count": null,
   "metadata": {
    "scrolled": false
   },
   "outputs": [],
   "source": [
    "#clg_to_int\n",
    "# there are 217 colleges from 0 to 216 :-)"
   ]
  },
  {
   "cell_type": "code",
   "execution_count": null,
   "metadata": {},
   "outputs": [],
   "source": [
    "# map int to college through previous clg_to_int mapping\n",
    "\n",
    "int_to_clg = ['str']*218\n",
    "for value in clg_to_int:\n",
    "    #print(value)\n",
    "    int_to_clg[clg_to_int[value]] = value"
   ]
  },
  {
   "cell_type": "code",
   "execution_count": null,
   "metadata": {},
   "outputs": [],
   "source": [
    "# add extra coloumn to convert college name to previously mapped value\n",
    "\n",
    "data[7] = pd.Series(np.random.randint(len(data)), index=data.index)\n",
    "\n",
    "for i in range(len(data)):\n",
    "    #print(datar)\n",
    "    data.iloc[i,5]=int(clg_to_int[data.iloc[i,1]])\n",
    "data.head()"
   ]
  },
  {
   "cell_type": "code",
   "execution_count": null,
   "metadata": {},
   "outputs": [],
   "source": [
    "# now we can drop college name \n",
    "\n",
    "data = data.drop(2,axis = 1)\n",
    "data.head()"
   ]
  },
  {
   "cell_type": "code",
   "execution_count": null,
   "metadata": {},
   "outputs": [],
   "source": [
    "# partition X and Y \n",
    "\n",
    "X = data[[1,3,4,5]]\n",
    "Y = data[7]\n",
    "Y = pd.DataFrame(Y)"
   ]
  },
  {
   "cell_type": "code",
   "execution_count": null,
   "metadata": {},
   "outputs": [],
   "source": [
    "X.head()"
   ]
  },
  {
   "cell_type": "code",
   "execution_count": null,
   "metadata": {},
   "outputs": [],
   "source": [
    "Y.head(10)"
   ]
  },
  {
   "cell_type": "code",
   "execution_count": null,
   "metadata": {},
   "outputs": [],
   "source": [
    "# creating category of X\n",
    "\n",
    "category = [3,4,5]\n",
    "for cat in category:\n",
    "    dumm = pd.get_dummies(X[cat],prefix=cat)\n",
    "    X = pd.concat([X,dumm],axis=1)\n",
    "    X.drop(cat,axis=1,inplace = True)\n"
   ]
  },
  {
   "cell_type": "code",
   "execution_count": null,
   "metadata": {},
   "outputs": [],
   "source": [
    "# after category \n",
    "X.head()"
   ]
  },
  {
   "cell_type": "code",
   "execution_count": null,
   "metadata": {},
   "outputs": [],
   "source": [
    "# categorizing Y\n",
    "\n",
    "#dumm = pd.get_dummies(Y,prefix=None)"
   ]
  },
  {
   "cell_type": "code",
   "execution_count": null,
   "metadata": {},
   "outputs": [],
   "source": [
    "Y.head(10)"
   ]
  },
  {
   "cell_type": "code",
   "execution_count": null,
   "metadata": {},
   "outputs": [],
   "source": [
    "# spliting X and Y in crossvalidation and traing set\n",
    "\n",
    "X_train, X_test, y_train, y_test = train_test_split(X, Y, test_size=0.1, random_state=42)"
   ]
  },
  {
   "cell_type": "code",
   "execution_count": null,
   "metadata": {},
   "outputs": [],
   "source": [
    "print(X.shape)\n",
    "print(Y.shape)\n",
    "print(X_train.shape)\n",
    "print(X_test.shape)\n",
    "print(y_train.shape)\n",
    "print(y_test.shape)\n",
    "X_test.head()"
   ]
  },
  {
   "cell_type": "code",
   "execution_count": null,
   "metadata": {},
   "outputs": [],
   "source": [
    "# decision tree model\n",
    "dtree_model = DecisionTreeRegressor(random_state=42).fit(X_train, y_train)\n",
    "#linear_model = LinearRegression().fit(X_train,y_train)\n",
    "#svr_model = SVR().fit(X_train,y_train)"
   ]
  },
  {
   "cell_type": "code",
   "execution_count": null,
   "metadata": {},
   "outputs": [],
   "source": [
    "# predicting values for crossvalidation 'y_test' set\n",
    "\n",
    "y_pred = dtree_model.predict(X_test)\n",
    "y_pred = pd.DataFrame(y_pred, index = y_test.index, columns=[7])\n",
    "#y_pred_linear = pd.DataFrame(linear_model.predict(X_test),index=y_test.index,columns=[7])\n",
    "#y_pred_svr = pd.DataFrame(svr_model.predict(X_test),index=y_test.index,columns=[7])\n",
    "#y_pred.rename(columns = )\n",
    "#y_test.iloc[7][7]"
   ]
  },
  {
   "cell_type": "code",
   "execution_count": null,
   "metadata": {},
   "outputs": [],
   "source": [
    "summ = 0\n",
    "for i in range (len(y_test)):\n",
    "    if(abs(y_pred.iloc[i][7]-y_test.iloc[i][7])<=3):\n",
    "        summ+=1\n",
    "summ"
   ]
  },
  {
   "cell_type": "code",
   "execution_count": null,
   "metadata": {},
   "outputs": [],
   "source": [
    "# now we can make prediction according to rank, Alloted_category, course, candidate category.\n",
    "print('What is your rank?')\n",
    "a = input()\n",
    "print('Select the category which you want to be alloted(from options below)?')\n",
    "print('1. UR \\n2. UR PH ')"
   ]
  },
  {
   "cell_type": "code",
   "execution_count": null,
   "metadata": {},
   "outputs": [],
   "source": []
  }
 ],
 "metadata": {
  "kernelspec": {
   "display_name": "Python 3",
   "language": "python",
   "name": "python3"
  },
  "language_info": {
   "codemirror_mode": {
    "name": "ipython",
    "version": 3
   },
   "file_extension": ".py",
   "mimetype": "text/x-python",
   "name": "python",
   "nbconvert_exporter": "python",
   "pygments_lexer": "ipython3",
   "version": "3.6.3"
  }
 },
 "nbformat": 4,
 "nbformat_minor": 2
}
