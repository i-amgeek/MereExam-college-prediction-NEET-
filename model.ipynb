{
 "cells": [
  {
   "cell_type": "markdown",
   "metadata": {
    "_uuid": "28cd7d4f25f019b3424319fa74562ab56c2dadb6",
    "colab_type": "text",
    "id": "L3LY3FpwzSqP"
   },
   "source": [
    "# Prediction based on All India Quota Under Graduate Allotment -2017"
   ]
  },
  {
   "cell_type": "code",
   "execution_count": 1,
   "metadata": {
    "_uuid": "2557bd4bdb6e542560fb2fdac3252722a8579141",
    "colab": {
     "autoexec": {
      "startup": false,
      "wait_interval": 0
     }
    },
    "colab_type": "code",
    "collapsed": true,
    "id": "aICWr7HtzSqR"
   },
   "outputs": [],
   "source": [
    "#importing various libraries needed for our model\n",
    "\n",
    "import numpy as np\n",
    "import pandas as pd\n",
    "from sklearn.model_selection import train_test_split\n",
    "from sklearn.tree import DecisionTreeRegressor\n",
    "from sklearn.metrics import confusion_matrix\n",
    "from sklearn.svm import SVR\n",
    "from sklearn.linear_model import LinearRegression\n",
    "import re\n",
    "import matplotlib.pyplot as plt"
   ]
  },
  {
   "cell_type": "code",
   "execution_count": 2,
   "metadata": {
    "_uuid": "fc4efb6914e0e2ffb958270ac0ddb68b7c5aaeb1",
    "colab": {
     "autoexec": {
      "startup": false,
      "wait_interval": 0
     },
     "base_uri": "https://localhost:8080/",
     "height": 34
    },
    "colab_type": "code",
    "executionInfo": {
     "elapsed": 2830,
     "status": "ok",
     "timestamp": 1527151618158,
     "user": {
      "displayName": "Anuj Ratnam",
      "photoUrl": "//lh3.googleusercontent.com/-G7VrGRjl-1A/AAAAAAAAAAI/AAAAAAAAAHo/qZTBxEwayiU/s50-c-k-no/photo.jpg",
      "userId": "106856249305336310963"
     },
     "user_tz": -330
    },
    "id": "AHd12H6jzSqX",
    "outputId": "f98a34d2-ee3f-473d-b9b2-6f1c59a20a87"
   },
   "outputs": [
    {
     "name": "stdout",
     "output_type": "stream",
     "text": [
      "\u001b[0m\u001b[01;32mapp.py\u001b[0m*               out_data             round_2.ipynb\n",
      "deepak.csv            Procfile             tabula-deemed_college (1).csv\n",
      "dict.pickle           README.md            tabula-mccneet.csv\n",
      "notebook-Copy1.ipynb  refined_round_2.csv  vibhu.csv\n",
      "notebook.ipynb        round_1_alloted.csv\n",
      "notebook.py           round_1_alloted.pdf\n"
     ]
    }
   ],
   "source": [
    "ls"
   ]
  },
  {
   "cell_type": "code",
   "execution_count": 3,
   "metadata": {
    "_uuid": "dc09ccd9585f6135298ef7d3153ec30998e7bc63",
    "colab": {
     "autoexec": {
      "startup": false,
      "wait_interval": 0
     },
     "base_uri": "https://localhost:8080/",
     "height": 863
    },
    "colab_type": "code",
    "collapsed": true,
    "executionInfo": {
     "elapsed": 1781,
     "status": "error",
     "timestamp": 1527151625729,
     "user": {
      "displayName": "Anuj Ratnam",
      "photoUrl": "//lh3.googleusercontent.com/-G7VrGRjl-1A/AAAAAAAAAAI/AAAAAAAAAHo/qZTBxEwayiU/s50-c-k-no/photo.jpg",
      "userId": "106856249305336310963"
     },
     "user_tz": -330
    },
    "id": "vH30mr1-zSqe",
    "outputId": "9aba16b9-7c60-4d56-e654-2be3ebaaa0c6"
   },
   "outputs": [],
   "source": [
    "# read csv\n",
    "\n",
    "data = pd.read_csv('round_1_alloted.csv',header=None)"
   ]
  },
  {
   "cell_type": "code",
   "execution_count": 4,
   "metadata": {
    "_uuid": "d988035395f94298f044112c323871536d006c68",
    "colab": {
     "autoexec": {
      "startup": false,
      "wait_interval": 0
     }
    },
    "colab_type": "code",
    "collapsed": true,
    "id": "y4lTiHBRzSqi"
   },
   "outputs": [],
   "source": [
    "data = data.set_index(0)\n",
    "#print(data)"
   ]
  },
  {
   "cell_type": "code",
   "execution_count": 5,
   "metadata": {
    "_uuid": "3d022a474ebd93b18bdcae12708acbc3315a704e",
    "colab": {
     "autoexec": {
      "startup": false,
      "wait_interval": 0
     },
     "base_uri": "https://localhost:8080/",
     "height": 235
    },
    "colab_type": "code",
    "executionInfo": {
     "elapsed": 833,
     "status": "ok",
     "timestamp": 1527149366780,
     "user": {
      "displayName": "kunal goyal",
      "photoUrl": "//lh5.googleusercontent.com/-rcLjThBigII/AAAAAAAAAAI/AAAAAAAAATw/VeIoSWBx26c/s50-c-k-no/photo.jpg",
      "userId": "115961755730533780132"
     },
     "user_tz": -330
    },
    "id": "mWAHJwPazSql",
    "outputId": "b011bfa6-974d-4a5e-966e-ddaee69b9e6f"
   },
   "outputs": [
    {
     "data": {
      "text/html": [
       "<div>\n",
       "<style>\n",
       "    .dataframe thead tr:only-child th {\n",
       "        text-align: right;\n",
       "    }\n",
       "\n",
       "    .dataframe thead th {\n",
       "        text-align: left;\n",
       "    }\n",
       "\n",
       "    .dataframe tbody tr th {\n",
       "        vertical-align: top;\n",
       "    }\n",
       "</style>\n",
       "<table border=\"1\" class=\"dataframe\">\n",
       "  <thead>\n",
       "    <tr style=\"text-align: right;\">\n",
       "      <th></th>\n",
       "      <th>1</th>\n",
       "      <th>2</th>\n",
       "      <th>3</th>\n",
       "      <th>4</th>\n",
       "      <th>5</th>\n",
       "      <th>6</th>\n",
       "    </tr>\n",
       "    <tr>\n",
       "      <th>0</th>\n",
       "      <th></th>\n",
       "      <th></th>\n",
       "      <th></th>\n",
       "      <th></th>\n",
       "      <th></th>\n",
       "      <th></th>\n",
       "    </tr>\n",
       "  </thead>\n",
       "  <tbody>\n",
       "    <tr>\n",
       "      <th>1</th>\n",
       "      <td>1</td>\n",
       "      <td>MAULANA AZAD MEDICAL COLLEGE, NEW\\rDELHI</td>\n",
       "      <td>MBBS</td>\n",
       "      <td>UR</td>\n",
       "      <td>UR</td>\n",
       "      <td>Allotted</td>\n",
       "    </tr>\n",
       "    <tr>\n",
       "      <th>2</th>\n",
       "      <td>4</td>\n",
       "      <td>BANGALORE MED. COLLEGE,BANGALORE</td>\n",
       "      <td>MBBS</td>\n",
       "      <td>UR</td>\n",
       "      <td>UR</td>\n",
       "      <td>Allotted</td>\n",
       "    </tr>\n",
       "    <tr>\n",
       "      <th>3</th>\n",
       "      <td>7</td>\n",
       "      <td>MAULANA AZAD MEDICAL COLLEGE, NEW\\rDELHI</td>\n",
       "      <td>MBBS</td>\n",
       "      <td>UR</td>\n",
       "      <td>UR</td>\n",
       "      <td>Allotted</td>\n",
       "    </tr>\n",
       "    <tr>\n",
       "      <th>4</th>\n",
       "      <td>8</td>\n",
       "      <td>MAULANA AZAD MEDICAL COLLEGE, NEW\\rDELHI</td>\n",
       "      <td>MBBS</td>\n",
       "      <td>UR</td>\n",
       "      <td>UR</td>\n",
       "      <td>Allotted</td>\n",
       "    </tr>\n",
       "    <tr>\n",
       "      <th>5</th>\n",
       "      <td>10</td>\n",
       "      <td>MAULANA AZAD MEDICAL COLLEGE, NEW\\rDELHI</td>\n",
       "      <td>MBBS</td>\n",
       "      <td>UR</td>\n",
       "      <td>UR</td>\n",
       "      <td>Allotted</td>\n",
       "    </tr>\n",
       "  </tbody>\n",
       "</table>\n",
       "</div>"
      ],
      "text/plain": [
       "    1                                         2     3   4   5         6\n",
       "0                                                                      \n",
       "1   1  MAULANA AZAD MEDICAL COLLEGE, NEW\\rDELHI  MBBS  UR  UR  Allotted\n",
       "2   4          BANGALORE MED. COLLEGE,BANGALORE  MBBS  UR  UR  Allotted\n",
       "3   7  MAULANA AZAD MEDICAL COLLEGE, NEW\\rDELHI  MBBS  UR  UR  Allotted\n",
       "4   8  MAULANA AZAD MEDICAL COLLEGE, NEW\\rDELHI  MBBS  UR  UR  Allotted\n",
       "5  10  MAULANA AZAD MEDICAL COLLEGE, NEW\\rDELHI  MBBS  UR  UR  Allotted"
      ]
     },
     "execution_count": 5,
     "metadata": {},
     "output_type": "execute_result"
    }
   ],
   "source": [
    "data.head()\n"
   ]
  },
  {
   "cell_type": "code",
   "execution_count": 6,
   "metadata": {
    "_uuid": "964fcb05c7be30b57a7bf1d2ed169146be4278e6",
    "colab": {
     "autoexec": {
      "startup": false,
      "wait_interval": 0
     },
     "base_uri": "https://localhost:8080/",
     "height": 547
    },
    "colab_type": "code",
    "executionInfo": {
     "elapsed": 13262,
     "status": "ok",
     "timestamp": 1527149380197,
     "user": {
      "displayName": "kunal goyal",
      "photoUrl": "//lh5.googleusercontent.com/-rcLjThBigII/AAAAAAAAAAI/AAAAAAAAATw/VeIoSWBx26c/s50-c-k-no/photo.jpg",
      "userId": "115961755730533780132"
     },
     "user_tz": -330
    },
    "id": "UwwEAciPzSqr",
    "outputId": "e5d70d66-5c38-49cd-a42c-178f1bf97371"
   },
   "outputs": [
    {
     "name": "stderr",
     "output_type": "stream",
     "text": [
      "/home/anonymous/anaconda3/lib/python3.6/site-packages/ipykernel_launcher.py:6: SettingWithCopyWarning: \n",
      "A value is trying to be set on a copy of a slice from a DataFrame\n",
      "\n",
      "See the caveats in the documentation: http://pandas.pydata.org/pandas-docs/stable/indexing.html#indexing-view-versus-copy\n",
      "  \n",
      "/home/anonymous/anaconda3/lib/python3.6/site-packages/ipykernel_launcher.py:12: SettingWithCopyWarning: \n",
      "A value is trying to be set on a copy of a slice from a DataFrame\n",
      "\n",
      "See the caveats in the documentation: http://pandas.pydata.org/pandas-docs/stable/indexing.html#indexing-view-versus-copy\n",
      "  if sys.path[0] == '':\n",
      "/home/anonymous/anaconda3/lib/python3.6/site-packages/ipykernel_launcher.py:16: SettingWithCopyWarning: \n",
      "A value is trying to be set on a copy of a slice from a DataFrame\n",
      "\n",
      "See the caveats in the documentation: http://pandas.pydata.org/pandas-docs/stable/indexing.html#indexing-view-versus-copy\n",
      "  app.launch_new_instance()\n",
      "/home/anonymous/anaconda3/lib/python3.6/site-packages/ipykernel_launcher.py:10: SettingWithCopyWarning: \n",
      "A value is trying to be set on a copy of a slice from a DataFrame\n",
      "\n",
      "See the caveats in the documentation: http://pandas.pydata.org/pandas-docs/stable/indexing.html#indexing-view-versus-copy\n",
      "  # Remove the CWD from sys.path while we load stuff.\n",
      "/home/anonymous/anaconda3/lib/python3.6/site-packages/ipykernel_launcher.py:18: SettingWithCopyWarning: \n",
      "A value is trying to be set on a copy of a slice from a DataFrame\n",
      "\n",
      "See the caveats in the documentation: http://pandas.pydata.org/pandas-docs/stable/indexing.html#indexing-view-versus-copy\n",
      "/home/anonymous/anaconda3/lib/python3.6/site-packages/ipykernel_launcher.py:14: SettingWithCopyWarning: \n",
      "A value is trying to be set on a copy of a slice from a DataFrame\n",
      "\n",
      "See the caveats in the documentation: http://pandas.pydata.org/pandas-docs/stable/indexing.html#indexing-view-versus-copy\n",
      "  \n",
      "/home/anonymous/anaconda3/lib/python3.6/site-packages/ipykernel_launcher.py:20: SettingWithCopyWarning: \n",
      "A value is trying to be set on a copy of a slice from a DataFrame\n",
      "\n",
      "See the caveats in the documentation: http://pandas.pydata.org/pandas-docs/stable/indexing.html#indexing-view-versus-copy\n"
     ]
    }
   ],
   "source": [
    "categories = ['UR', 'OBC', 'SC']\n",
    "for idx,row in data.iterrows():\n",
    "    #print(idx)\n",
    "    for category in categories:\n",
    "        if f'{category} PH' in row[5]:\n",
    "            data[5][idx] = f'{category} PH'\n",
    "    \n",
    "    \n",
    "    if 'UR PH' in row[5]:\n",
    "        data[5][idx] = 'UR PH'\n",
    "    if 'OBC PH' in row[5] :\n",
    "        data[5][idx] = 'OBC PH'\n",
    "    if(row[5] == 'SC PH1'):\n",
    "        data[5][idx] = 'SC PH'\n",
    "    if(row[5] == 'OBC PH2'):\n",
    "        data[5][idx] = 'OBC PH'\n",
    "    if(row[5] == 'SC PH2'):\n",
    "        data[5][idx] = 'SC PH'\n",
    "    if(row[5] == 'ST PH1' or row[5] == 'ST PH2'):\n",
    "        data[5][idx] = 'ST PH'"
   ]
  },
  {
   "cell_type": "code",
   "execution_count": 7,
   "metadata": {
    "_uuid": "f1ab37450210147abd451bd74fa874e4eb2932be",
    "colab": {
     "autoexec": {
      "startup": false,
      "wait_interval": 0
     }
    },
    "colab_type": "code",
    "collapsed": true,
    "id": "oIES6pu0zSq2"
   },
   "outputs": [],
   "source": [
    "# drop 6th coloumn as it only has 'Allotted' value.\n",
    "\n",
    "data = data.drop(6,axis=1)"
   ]
  },
  {
   "cell_type": "code",
   "execution_count": 8,
   "metadata": {
    "_uuid": "a9b10c398fa243a68a49252eb58a5fb2e46addbb",
    "colab": {
     "autoexec": {
      "startup": false,
      "wait_interval": 0
     }
    },
    "colab_type": "code",
    "collapsed": true,
    "id": "xz180M2_zSq5"
   },
   "outputs": [],
   "source": [
    "# dictionary to map college to integer value\n",
    "\n",
    "from collections import defaultdict\n",
    "clg_to_int = defaultdict(str)\n",
    "idx = 0\n",
    "for i in data[2]:\n",
    "    if(i not in clg_to_int):\n",
    "        clg_to_int[i] = idx\n",
    "        idx+=1"
   ]
  },
  {
   "cell_type": "code",
   "execution_count": 9,
   "metadata": {
    "_uuid": "90937a768789a49f8a9cec2503bd8761f91fecef",
    "colab": {
     "autoexec": {
      "startup": false,
      "wait_interval": 0
     }
    },
    "colab_type": "code",
    "collapsed": true,
    "id": "PX6wtcD3zSq9"
   },
   "outputs": [
    {
     "data": {
      "text/html": [
       "<div>\n",
       "<style>\n",
       "    .dataframe thead tr:only-child th {\n",
       "        text-align: right;\n",
       "    }\n",
       "\n",
       "    .dataframe thead th {\n",
       "        text-align: left;\n",
       "    }\n",
       "\n",
       "    .dataframe tbody tr th {\n",
       "        vertical-align: top;\n",
       "    }\n",
       "</style>\n",
       "<table border=\"1\" class=\"dataframe\">\n",
       "  <thead>\n",
       "    <tr style=\"text-align: right;\">\n",
       "      <th></th>\n",
       "      <th>1</th>\n",
       "      <th>2</th>\n",
       "      <th>3</th>\n",
       "      <th>4</th>\n",
       "      <th>5</th>\n",
       "    </tr>\n",
       "    <tr>\n",
       "      <th>0</th>\n",
       "      <th></th>\n",
       "      <th></th>\n",
       "      <th></th>\n",
       "      <th></th>\n",
       "      <th></th>\n",
       "    </tr>\n",
       "  </thead>\n",
       "  <tbody>\n",
       "    <tr>\n",
       "      <th>1</th>\n",
       "      <td>1</td>\n",
       "      <td>MAULANA AZAD MEDICAL COLLEGE, NEW\\rDELHI</td>\n",
       "      <td>MBBS</td>\n",
       "      <td>UR</td>\n",
       "      <td>UR</td>\n",
       "    </tr>\n",
       "    <tr>\n",
       "      <th>2</th>\n",
       "      <td>4</td>\n",
       "      <td>BANGALORE MED. COLLEGE,BANGALORE</td>\n",
       "      <td>MBBS</td>\n",
       "      <td>UR</td>\n",
       "      <td>UR</td>\n",
       "    </tr>\n",
       "    <tr>\n",
       "      <th>3</th>\n",
       "      <td>7</td>\n",
       "      <td>MAULANA AZAD MEDICAL COLLEGE, NEW\\rDELHI</td>\n",
       "      <td>MBBS</td>\n",
       "      <td>UR</td>\n",
       "      <td>UR</td>\n",
       "    </tr>\n",
       "    <tr>\n",
       "      <th>4</th>\n",
       "      <td>8</td>\n",
       "      <td>MAULANA AZAD MEDICAL COLLEGE, NEW\\rDELHI</td>\n",
       "      <td>MBBS</td>\n",
       "      <td>UR</td>\n",
       "      <td>UR</td>\n",
       "    </tr>\n",
       "    <tr>\n",
       "      <th>5</th>\n",
       "      <td>10</td>\n",
       "      <td>MAULANA AZAD MEDICAL COLLEGE, NEW\\rDELHI</td>\n",
       "      <td>MBBS</td>\n",
       "      <td>UR</td>\n",
       "      <td>UR</td>\n",
       "    </tr>\n",
       "  </tbody>\n",
       "</table>\n",
       "</div>"
      ],
      "text/plain": [
       "    1                                         2     3   4   5\n",
       "0                                                            \n",
       "1   1  MAULANA AZAD MEDICAL COLLEGE, NEW\\rDELHI  MBBS  UR  UR\n",
       "2   4          BANGALORE MED. COLLEGE,BANGALORE  MBBS  UR  UR\n",
       "3   7  MAULANA AZAD MEDICAL COLLEGE, NEW\\rDELHI  MBBS  UR  UR\n",
       "4   8  MAULANA AZAD MEDICAL COLLEGE, NEW\\rDELHI  MBBS  UR  UR\n",
       "5  10  MAULANA AZAD MEDICAL COLLEGE, NEW\\rDELHI  MBBS  UR  UR"
      ]
     },
     "execution_count": 9,
     "metadata": {},
     "output_type": "execute_result"
    }
   ],
   "source": [
    "#clg_to_int\n",
    "#int_to_clg\n",
    "# there are 217 colleges from 0 to 216 :-)\n",
    "data.head()"
   ]
  },
  {
   "cell_type": "code",
   "execution_count": 10,
   "metadata": {
    "_uuid": "e0f6c70768d3406b5cbbcb29bade2f7e7f5f1dd9",
    "colab": {
     "autoexec": {
      "startup": false,
      "wait_interval": 0
     }
    },
    "colab_type": "code",
    "collapsed": true,
    "id": "GIC1erS5zSrC"
   },
   "outputs": [],
   "source": [
    "# map int to college through previous clg_to_int mapping\n",
    "\n",
    "int_to_clg = ['str']*218\n",
    "for value in clg_to_int:\n",
    "    #print(value)\n",
    "    int_to_clg[clg_to_int[value]] = value"
   ]
  },
  {
   "cell_type": "code",
   "execution_count": 11,
   "metadata": {
    "_uuid": "f438c182e2e50ed246ba70faed68c24612a9ccae",
    "colab": {
     "autoexec": {
      "startup": false,
      "wait_interval": 0
     }
    },
    "colab_type": "code",
    "collapsed": true,
    "id": "vDABgTjmLGT4"
   },
   "outputs": [],
   "source": [
    "for i in range(len(int_to_clg)):\n",
    "  int_to_clg[i]=re.sub('\\r',' ',int_to_clg[i])\n",
    "  int_to_clg[i]=re.sub('\\n',' ',int_to_clg[i])"
   ]
  },
  {
   "cell_type": "code",
   "execution_count": 12,
   "metadata": {
    "_uuid": "625c55bee7a0b5f9927971baf04cf984ee20c595",
    "colab": {
     "autoexec": {
      "startup": false,
      "wait_interval": 0
     },
     "base_uri": "https://localhost:8080/",
     "height": 235
    },
    "colab_type": "code",
    "executionInfo": {
     "elapsed": 3598,
     "status": "ok",
     "timestamp": 1527149390596,
     "user": {
      "displayName": "kunal goyal",
      "photoUrl": "//lh5.googleusercontent.com/-rcLjThBigII/AAAAAAAAAAI/AAAAAAAAATw/VeIoSWBx26c/s50-c-k-no/photo.jpg",
      "userId": "115961755730533780132"
     },
     "user_tz": -330
    },
    "id": "2RJf0jHdzSrH",
    "outputId": "7eb2bfde-59b1-48b0-b5e2-37d2d8593da2"
   },
   "outputs": [
    {
     "data": {
      "text/html": [
       "<div>\n",
       "<style>\n",
       "    .dataframe thead tr:only-child th {\n",
       "        text-align: right;\n",
       "    }\n",
       "\n",
       "    .dataframe thead th {\n",
       "        text-align: left;\n",
       "    }\n",
       "\n",
       "    .dataframe tbody tr th {\n",
       "        vertical-align: top;\n",
       "    }\n",
       "</style>\n",
       "<table border=\"1\" class=\"dataframe\">\n",
       "  <thead>\n",
       "    <tr style=\"text-align: right;\">\n",
       "      <th></th>\n",
       "      <th>1</th>\n",
       "      <th>2</th>\n",
       "      <th>3</th>\n",
       "      <th>4</th>\n",
       "      <th>5</th>\n",
       "      <th>7</th>\n",
       "    </tr>\n",
       "    <tr>\n",
       "      <th>0</th>\n",
       "      <th></th>\n",
       "      <th></th>\n",
       "      <th></th>\n",
       "      <th></th>\n",
       "      <th></th>\n",
       "      <th></th>\n",
       "    </tr>\n",
       "  </thead>\n",
       "  <tbody>\n",
       "    <tr>\n",
       "      <th>1</th>\n",
       "      <td>1</td>\n",
       "      <td>MAULANA AZAD MEDICAL COLLEGE, NEW\\rDELHI</td>\n",
       "      <td>MBBS</td>\n",
       "      <td>UR</td>\n",
       "      <td>UR</td>\n",
       "      <td>0</td>\n",
       "    </tr>\n",
       "    <tr>\n",
       "      <th>2</th>\n",
       "      <td>4</td>\n",
       "      <td>BANGALORE MED. COLLEGE,BANGALORE</td>\n",
       "      <td>MBBS</td>\n",
       "      <td>UR</td>\n",
       "      <td>UR</td>\n",
       "      <td>1</td>\n",
       "    </tr>\n",
       "    <tr>\n",
       "      <th>3</th>\n",
       "      <td>7</td>\n",
       "      <td>MAULANA AZAD MEDICAL COLLEGE, NEW\\rDELHI</td>\n",
       "      <td>MBBS</td>\n",
       "      <td>UR</td>\n",
       "      <td>UR</td>\n",
       "      <td>0</td>\n",
       "    </tr>\n",
       "    <tr>\n",
       "      <th>4</th>\n",
       "      <td>8</td>\n",
       "      <td>MAULANA AZAD MEDICAL COLLEGE, NEW\\rDELHI</td>\n",
       "      <td>MBBS</td>\n",
       "      <td>UR</td>\n",
       "      <td>UR</td>\n",
       "      <td>0</td>\n",
       "    </tr>\n",
       "    <tr>\n",
       "      <th>5</th>\n",
       "      <td>10</td>\n",
       "      <td>MAULANA AZAD MEDICAL COLLEGE, NEW\\rDELHI</td>\n",
       "      <td>MBBS</td>\n",
       "      <td>UR</td>\n",
       "      <td>UR</td>\n",
       "      <td>0</td>\n",
       "    </tr>\n",
       "  </tbody>\n",
       "</table>\n",
       "</div>"
      ],
      "text/plain": [
       "    1                                         2     3   4   5  7\n",
       "0                                                               \n",
       "1   1  MAULANA AZAD MEDICAL COLLEGE, NEW\\rDELHI  MBBS  UR  UR  0\n",
       "2   4          BANGALORE MED. COLLEGE,BANGALORE  MBBS  UR  UR  1\n",
       "3   7  MAULANA AZAD MEDICAL COLLEGE, NEW\\rDELHI  MBBS  UR  UR  0\n",
       "4   8  MAULANA AZAD MEDICAL COLLEGE, NEW\\rDELHI  MBBS  UR  UR  0\n",
       "5  10  MAULANA AZAD MEDICAL COLLEGE, NEW\\rDELHI  MBBS  UR  UR  0"
      ]
     },
     "execution_count": 12,
     "metadata": {},
     "output_type": "execute_result"
    }
   ],
   "source": [
    "# add extra coloumn to convert college name to previously mapped value\n",
    "\n",
    "data[7] = pd.Series(np.random.randint(len(data)), index=data.index)\n",
    "\n",
    "for i in range(len(data)):\n",
    "    #print(datar)\n",
    "    data.iloc[i,5]=int(clg_to_int[data.iloc[i,1]])\n",
    "data.head()"
   ]
  },
  {
   "cell_type": "code",
   "execution_count": 13,
   "metadata": {
    "_uuid": "7b953ab71368f4ffdcd65c1eb14dfeeef05a7940",
    "colab": {
     "autoexec": {
      "startup": false,
      "wait_interval": 0
     },
     "base_uri": "https://localhost:8080/",
     "height": 235
    },
    "colab_type": "code",
    "executionInfo": {
     "elapsed": 933,
     "status": "ok",
     "timestamp": 1527149391580,
     "user": {
      "displayName": "kunal goyal",
      "photoUrl": "//lh5.googleusercontent.com/-rcLjThBigII/AAAAAAAAAAI/AAAAAAAAATw/VeIoSWBx26c/s50-c-k-no/photo.jpg",
      "userId": "115961755730533780132"
     },
     "user_tz": -330
    },
    "id": "75rfTvTwzSrO",
    "outputId": "f8eb4787-c8e1-4da2-8210-c1f1b4b7996e"
   },
   "outputs": [
    {
     "data": {
      "text/html": [
       "<div>\n",
       "<style>\n",
       "    .dataframe thead tr:only-child th {\n",
       "        text-align: right;\n",
       "    }\n",
       "\n",
       "    .dataframe thead th {\n",
       "        text-align: left;\n",
       "    }\n",
       "\n",
       "    .dataframe tbody tr th {\n",
       "        vertical-align: top;\n",
       "    }\n",
       "</style>\n",
       "<table border=\"1\" class=\"dataframe\">\n",
       "  <thead>\n",
       "    <tr style=\"text-align: right;\">\n",
       "      <th></th>\n",
       "      <th>1</th>\n",
       "      <th>3</th>\n",
       "      <th>4</th>\n",
       "      <th>5</th>\n",
       "      <th>7</th>\n",
       "    </tr>\n",
       "    <tr>\n",
       "      <th>0</th>\n",
       "      <th></th>\n",
       "      <th></th>\n",
       "      <th></th>\n",
       "      <th></th>\n",
       "      <th></th>\n",
       "    </tr>\n",
       "  </thead>\n",
       "  <tbody>\n",
       "    <tr>\n",
       "      <th>1</th>\n",
       "      <td>1</td>\n",
       "      <td>MBBS</td>\n",
       "      <td>UR</td>\n",
       "      <td>UR</td>\n",
       "      <td>0</td>\n",
       "    </tr>\n",
       "    <tr>\n",
       "      <th>2</th>\n",
       "      <td>4</td>\n",
       "      <td>MBBS</td>\n",
       "      <td>UR</td>\n",
       "      <td>UR</td>\n",
       "      <td>1</td>\n",
       "    </tr>\n",
       "    <tr>\n",
       "      <th>3</th>\n",
       "      <td>7</td>\n",
       "      <td>MBBS</td>\n",
       "      <td>UR</td>\n",
       "      <td>UR</td>\n",
       "      <td>0</td>\n",
       "    </tr>\n",
       "    <tr>\n",
       "      <th>4</th>\n",
       "      <td>8</td>\n",
       "      <td>MBBS</td>\n",
       "      <td>UR</td>\n",
       "      <td>UR</td>\n",
       "      <td>0</td>\n",
       "    </tr>\n",
       "    <tr>\n",
       "      <th>5</th>\n",
       "      <td>10</td>\n",
       "      <td>MBBS</td>\n",
       "      <td>UR</td>\n",
       "      <td>UR</td>\n",
       "      <td>0</td>\n",
       "    </tr>\n",
       "  </tbody>\n",
       "</table>\n",
       "</div>"
      ],
      "text/plain": [
       "    1     3   4   5  7\n",
       "0                     \n",
       "1   1  MBBS  UR  UR  0\n",
       "2   4  MBBS  UR  UR  1\n",
       "3   7  MBBS  UR  UR  0\n",
       "4   8  MBBS  UR  UR  0\n",
       "5  10  MBBS  UR  UR  0"
      ]
     },
     "execution_count": 13,
     "metadata": {},
     "output_type": "execute_result"
    }
   ],
   "source": [
    "# now we can drop college name \n",
    "\n",
    "data = data.drop(2,axis = 1)\n",
    "data.head()"
   ]
  },
  {
   "cell_type": "code",
   "execution_count": 14,
   "metadata": {},
   "outputs": [
    {
     "data": {
      "text/plain": [
       "'MAHARAJA K.C. GAJAPATI M.C.,BRAHMAPUR'"
      ]
     },
     "execution_count": 14,
     "metadata": {},
     "output_type": "execute_result"
    }
   ],
   "source": [
    "la = np.logical_and\n",
    "urdata = data[la(la(data[4]=='UR',data[3]=='MBBS'),la(60 < data[7],data[7]<70))]\n",
    "rank = urdata[1]\n",
    "clgid = urdata[7]\n",
    "plt.scatter(rank,clgid,s=1)\n",
    "int_to_clg[55]"
   ]
  },
  {
   "cell_type": "code",
   "execution_count": 15,
   "metadata": {
    "_uuid": "80e6cc67a34cba99030f09db465b19507456e1cd",
    "colab": {
     "autoexec": {
      "startup": false,
      "wait_interval": 0
     }
    },
    "colab_type": "code",
    "collapsed": true,
    "id": "co_rnQ9bzSrT"
   },
   "outputs": [],
   "source": [
    "# partition X and Y \n",
    "\n",
    "X = data[[1,3,4,5]]\n",
    "Y = data[7]\n",
    "Y = pd.DataFrame(Y)"
   ]
  },
  {
   "cell_type": "code",
   "execution_count": 16,
   "metadata": {
    "_uuid": "b556c5607b50ca2cab150d68b9b0e596b0bd9954",
    "colab": {
     "autoexec": {
      "startup": false,
      "wait_interval": 0
     }
    },
    "colab_type": "code",
    "collapsed": true,
    "id": "8CGhzPjJzSrh"
   },
   "outputs": [],
   "source": [
    "# creating category of X\n",
    "\n",
    "category = [3,4,5]\n",
    "for cat in category:\n",
    "    dumm = pd.get_dummies(X[cat],prefix=cat)\n",
    "    X = pd.concat([X,dumm],axis=1)\n",
    "    X.drop(cat,axis=1,inplace = True)\n"
   ]
  },
  {
   "cell_type": "code",
   "execution_count": 17,
   "metadata": {
    "_uuid": "5cbc9cb703103e3f0357768e0cdae7b0f51e3904",
    "colab": {
     "autoexec": {
      "startup": false,
      "wait_interval": 0
     },
     "base_uri": "https://localhost:8080/",
     "height": 272
    },
    "colab_type": "code",
    "executionInfo": {
     "elapsed": 857,
     "status": "ok",
     "timestamp": 1527149396936,
     "user": {
      "displayName": "kunal goyal",
      "photoUrl": "//lh5.googleusercontent.com/-rcLjThBigII/AAAAAAAAAAI/AAAAAAAAATw/VeIoSWBx26c/s50-c-k-no/photo.jpg",
      "userId": "115961755730533780132"
     },
     "user_tz": -330
    },
    "id": "LhcsdK02zSrl",
    "outputId": "6d81eed9-a7cb-470d-8dba-289578dd4000"
   },
   "outputs": [
    {
     "data": {
      "text/html": [
       "<div>\n",
       "<style>\n",
       "    .dataframe thead tr:only-child th {\n",
       "        text-align: right;\n",
       "    }\n",
       "\n",
       "    .dataframe thead th {\n",
       "        text-align: left;\n",
       "    }\n",
       "\n",
       "    .dataframe tbody tr th {\n",
       "        vertical-align: top;\n",
       "    }\n",
       "</style>\n",
       "<table border=\"1\" class=\"dataframe\">\n",
       "  <thead>\n",
       "    <tr style=\"text-align: right;\">\n",
       "      <th></th>\n",
       "      <th>1</th>\n",
       "      <th>3_BDS</th>\n",
       "      <th>3_MBBS</th>\n",
       "      <th>4_OBC</th>\n",
       "      <th>4_OBC PH</th>\n",
       "      <th>4_SC</th>\n",
       "      <th>4_SC PH</th>\n",
       "      <th>4_ST</th>\n",
       "      <th>4_ST PH</th>\n",
       "      <th>4_UR</th>\n",
       "      <th>4_UR PH</th>\n",
       "      <th>5_OBC</th>\n",
       "      <th>5_OBC PH</th>\n",
       "      <th>5_SC</th>\n",
       "      <th>5_SC PH</th>\n",
       "      <th>5_ST</th>\n",
       "      <th>5_ST PH</th>\n",
       "      <th>5_UR</th>\n",
       "      <th>5_UR PH</th>\n",
       "    </tr>\n",
       "    <tr>\n",
       "      <th>0</th>\n",
       "      <th></th>\n",
       "      <th></th>\n",
       "      <th></th>\n",
       "      <th></th>\n",
       "      <th></th>\n",
       "      <th></th>\n",
       "      <th></th>\n",
       "      <th></th>\n",
       "      <th></th>\n",
       "      <th></th>\n",
       "      <th></th>\n",
       "      <th></th>\n",
       "      <th></th>\n",
       "      <th></th>\n",
       "      <th></th>\n",
       "      <th></th>\n",
       "      <th></th>\n",
       "      <th></th>\n",
       "      <th></th>\n",
       "    </tr>\n",
       "  </thead>\n",
       "  <tbody>\n",
       "    <tr>\n",
       "      <th>1</th>\n",
       "      <td>1</td>\n",
       "      <td>0</td>\n",
       "      <td>1</td>\n",
       "      <td>0</td>\n",
       "      <td>0</td>\n",
       "      <td>0</td>\n",
       "      <td>0</td>\n",
       "      <td>0</td>\n",
       "      <td>0</td>\n",
       "      <td>1</td>\n",
       "      <td>0</td>\n",
       "      <td>0</td>\n",
       "      <td>0</td>\n",
       "      <td>0</td>\n",
       "      <td>0</td>\n",
       "      <td>0</td>\n",
       "      <td>0</td>\n",
       "      <td>1</td>\n",
       "      <td>0</td>\n",
       "    </tr>\n",
       "    <tr>\n",
       "      <th>2</th>\n",
       "      <td>4</td>\n",
       "      <td>0</td>\n",
       "      <td>1</td>\n",
       "      <td>0</td>\n",
       "      <td>0</td>\n",
       "      <td>0</td>\n",
       "      <td>0</td>\n",
       "      <td>0</td>\n",
       "      <td>0</td>\n",
       "      <td>1</td>\n",
       "      <td>0</td>\n",
       "      <td>0</td>\n",
       "      <td>0</td>\n",
       "      <td>0</td>\n",
       "      <td>0</td>\n",
       "      <td>0</td>\n",
       "      <td>0</td>\n",
       "      <td>1</td>\n",
       "      <td>0</td>\n",
       "    </tr>\n",
       "    <tr>\n",
       "      <th>3</th>\n",
       "      <td>7</td>\n",
       "      <td>0</td>\n",
       "      <td>1</td>\n",
       "      <td>0</td>\n",
       "      <td>0</td>\n",
       "      <td>0</td>\n",
       "      <td>0</td>\n",
       "      <td>0</td>\n",
       "      <td>0</td>\n",
       "      <td>1</td>\n",
       "      <td>0</td>\n",
       "      <td>0</td>\n",
       "      <td>0</td>\n",
       "      <td>0</td>\n",
       "      <td>0</td>\n",
       "      <td>0</td>\n",
       "      <td>0</td>\n",
       "      <td>1</td>\n",
       "      <td>0</td>\n",
       "    </tr>\n",
       "    <tr>\n",
       "      <th>4</th>\n",
       "      <td>8</td>\n",
       "      <td>0</td>\n",
       "      <td>1</td>\n",
       "      <td>0</td>\n",
       "      <td>0</td>\n",
       "      <td>0</td>\n",
       "      <td>0</td>\n",
       "      <td>0</td>\n",
       "      <td>0</td>\n",
       "      <td>1</td>\n",
       "      <td>0</td>\n",
       "      <td>0</td>\n",
       "      <td>0</td>\n",
       "      <td>0</td>\n",
       "      <td>0</td>\n",
       "      <td>0</td>\n",
       "      <td>0</td>\n",
       "      <td>1</td>\n",
       "      <td>0</td>\n",
       "    </tr>\n",
       "    <tr>\n",
       "      <th>5</th>\n",
       "      <td>10</td>\n",
       "      <td>0</td>\n",
       "      <td>1</td>\n",
       "      <td>0</td>\n",
       "      <td>0</td>\n",
       "      <td>0</td>\n",
       "      <td>0</td>\n",
       "      <td>0</td>\n",
       "      <td>0</td>\n",
       "      <td>1</td>\n",
       "      <td>0</td>\n",
       "      <td>0</td>\n",
       "      <td>0</td>\n",
       "      <td>0</td>\n",
       "      <td>0</td>\n",
       "      <td>0</td>\n",
       "      <td>0</td>\n",
       "      <td>1</td>\n",
       "      <td>0</td>\n",
       "    </tr>\n",
       "  </tbody>\n",
       "</table>\n",
       "</div>"
      ],
      "text/plain": [
       "    1  3_BDS  3_MBBS  4_OBC  4_OBC PH  4_SC  4_SC PH  4_ST  4_ST PH  4_UR  \\\n",
       "0                                                                           \n",
       "1   1      0       1      0         0     0        0     0        0     1   \n",
       "2   4      0       1      0         0     0        0     0        0     1   \n",
       "3   7      0       1      0         0     0        0     0        0     1   \n",
       "4   8      0       1      0         0     0        0     0        0     1   \n",
       "5  10      0       1      0         0     0        0     0        0     1   \n",
       "\n",
       "   4_UR PH  5_OBC  5_OBC PH  5_SC  5_SC PH  5_ST  5_ST PH  5_UR  5_UR PH  \n",
       "0                                                                         \n",
       "1        0      0         0     0        0     0        0     1        0  \n",
       "2        0      0         0     0        0     0        0     1        0  \n",
       "3        0      0         0     0        0     0        0     1        0  \n",
       "4        0      0         0     0        0     0        0     1        0  \n",
       "5        0      0         0     0        0     0        0     1        0  "
      ]
     },
     "execution_count": 17,
     "metadata": {},
     "output_type": "execute_result"
    }
   ],
   "source": [
    "# after category \n",
    "X.head()"
   ]
  },
  {
   "cell_type": "code",
   "execution_count": 18,
   "metadata": {
    "_uuid": "3449bac66c46a4e522a023be1adbc38fd22bb521",
    "colab": {
     "autoexec": {
      "startup": false,
      "wait_interval": 0
     },
     "base_uri": "https://localhost:8080/",
     "height": 390
    },
    "colab_type": "code",
    "executionInfo": {
     "elapsed": 928,
     "status": "ok",
     "timestamp": 1527149398993,
     "user": {
      "displayName": "kunal goyal",
      "photoUrl": "//lh5.googleusercontent.com/-rcLjThBigII/AAAAAAAAAAI/AAAAAAAAATw/VeIoSWBx26c/s50-c-k-no/photo.jpg",
      "userId": "115961755730533780132"
     },
     "user_tz": -330
    },
    "id": "gT9ftBUszSru",
    "outputId": "ba8d82ea-4139-473e-dd32-ce77248776c8"
   },
   "outputs": [
    {
     "data": {
      "text/html": [
       "<div>\n",
       "<style>\n",
       "    .dataframe thead tr:only-child th {\n",
       "        text-align: right;\n",
       "    }\n",
       "\n",
       "    .dataframe thead th {\n",
       "        text-align: left;\n",
       "    }\n",
       "\n",
       "    .dataframe tbody tr th {\n",
       "        vertical-align: top;\n",
       "    }\n",
       "</style>\n",
       "<table border=\"1\" class=\"dataframe\">\n",
       "  <thead>\n",
       "    <tr style=\"text-align: right;\">\n",
       "      <th></th>\n",
       "      <th>7</th>\n",
       "    </tr>\n",
       "    <tr>\n",
       "      <th>0</th>\n",
       "      <th></th>\n",
       "    </tr>\n",
       "  </thead>\n",
       "  <tbody>\n",
       "    <tr>\n",
       "      <th>1</th>\n",
       "      <td>0</td>\n",
       "    </tr>\n",
       "    <tr>\n",
       "      <th>2</th>\n",
       "      <td>1</td>\n",
       "    </tr>\n",
       "    <tr>\n",
       "      <th>3</th>\n",
       "      <td>0</td>\n",
       "    </tr>\n",
       "    <tr>\n",
       "      <th>4</th>\n",
       "      <td>0</td>\n",
       "    </tr>\n",
       "    <tr>\n",
       "      <th>5</th>\n",
       "      <td>0</td>\n",
       "    </tr>\n",
       "  </tbody>\n",
       "</table>\n",
       "</div>"
      ],
      "text/plain": [
       "   7\n",
       "0   \n",
       "1  0\n",
       "2  1\n",
       "3  0\n",
       "4  0\n",
       "5  0"
      ]
     },
     "execution_count": 18,
     "metadata": {},
     "output_type": "execute_result"
    }
   ],
   "source": [
    "Y.head()"
   ]
  },
  {
   "cell_type": "code",
   "execution_count": 19,
   "metadata": {
    "_uuid": "3ad1c53df7960db52333378ef395cc1cdebceb72",
    "colab": {
     "autoexec": {
      "startup": false,
      "wait_interval": 0
     }
    },
    "colab_type": "code",
    "collapsed": true,
    "id": "NGNY1mj-zSrx"
   },
   "outputs": [],
   "source": [
    "# spliting X and Y in crossvalidation and traing set\n",
    "\n",
    "X_train, X_test, y_train, y_test = train_test_split(X, Y, test_size=0.1, random_state=42)"
   ]
  },
  {
   "cell_type": "code",
   "execution_count": 20,
   "metadata": {
    "_uuid": "0aa052ab0458b94db2a4a2bb36d212309abfa913",
    "colab": {
     "autoexec": {
      "startup": false,
      "wait_interval": 0
     },
     "base_uri": "https://localhost:8080/",
     "height": 374
    },
    "colab_type": "code",
    "executionInfo": {
     "elapsed": 766,
     "status": "ok",
     "timestamp": 1527149401114,
     "user": {
      "displayName": "kunal goyal",
      "photoUrl": "//lh5.googleusercontent.com/-rcLjThBigII/AAAAAAAAAAI/AAAAAAAAATw/VeIoSWBx26c/s50-c-k-no/photo.jpg",
      "userId": "115961755730533780132"
     },
     "user_tz": -330
    },
    "id": "uxly9OVizSr0",
    "outputId": "73b4a661-cdba-4ebc-f479-3ba80fc65636"
   },
   "outputs": [
    {
     "name": "stdout",
     "output_type": "stream",
     "text": [
      "(4018, 19)\n",
      "(4018, 1)\n",
      "(3616, 19)\n",
      "(402, 19)\n",
      "(3616, 1)\n",
      "(402, 1)\n"
     ]
    }
   ],
   "source": [
    "print(X.shape)\n",
    "print(Y.shape)\n",
    "print(X_train.shape)\n",
    "print(X_test.shape)\n",
    "print(y_train.shape)\n",
    "print(y_test.shape)"
   ]
  },
  {
   "cell_type": "code",
   "execution_count": 21,
   "metadata": {
    "_uuid": "40e71fea05e8e2a54ec3bba9f767c2a94b07f4d8",
    "colab": {
     "autoexec": {
      "startup": false,
      "wait_interval": 0
     }
    },
    "colab_type": "code",
    "collapsed": true,
    "id": "K8Uv4H50zSr3"
   },
   "outputs": [],
   "source": [
    "# decision tree model\n",
    "dtree_model = DecisionTreeRegressor(random_state=42).fit(X_train, y_train)\n",
    "#linear_model = LinearRegression().fit(X_train,y_train)\n",
    "#svr_model = SVR().fit(X,Y)"
   ]
  },
  {
   "cell_type": "code",
   "execution_count": 22,
   "metadata": {
    "_uuid": "9c06bbf386a32651122d035a82b535c69abd67e4",
    "colab": {
     "autoexec": {
      "startup": false,
      "wait_interval": 0
     }
    },
    "colab_type": "code",
    "collapsed": true,
    "id": "8gXfuFUEzSr7"
   },
   "outputs": [],
   "source": [
    "# predicting values for crossvalidation 'y_test' set\n",
    "\n",
    "y_pred = dtree_model.predict(X_test)\n",
    "y_pred = pd.DataFrame(y_pred, index = y_test.index, columns=[7])\n",
    "#y_pred_linear = pd.DataFrame(linear_model.predict(X_test),index=y_test.index,columns=[7])\n",
    "#y_pred_svr = pd.DataFrame(svr_model.predict(X_test),index=y_test.index,columns=[7])\n",
    "#y_pred.rename(columns = )\n",
    "#y_test.iloc[7][7]"
   ]
  },
  {
   "cell_type": "code",
   "execution_count": 23,
   "metadata": {},
   "outputs": [
    {
     "data": {
      "text/html": [
       "<div>\n",
       "<style>\n",
       "    .dataframe thead tr:only-child th {\n",
       "        text-align: right;\n",
       "    }\n",
       "\n",
       "    .dataframe thead th {\n",
       "        text-align: left;\n",
       "    }\n",
       "\n",
       "    .dataframe tbody tr th {\n",
       "        vertical-align: top;\n",
       "    }\n",
       "</style>\n",
       "<table border=\"1\" class=\"dataframe\">\n",
       "  <thead>\n",
       "    <tr style=\"text-align: right;\">\n",
       "      <th></th>\n",
       "      <th>1</th>\n",
       "      <th>3</th>\n",
       "      <th>4</th>\n",
       "      <th>5</th>\n",
       "      <th>7</th>\n",
       "    </tr>\n",
       "    <tr>\n",
       "      <th>0</th>\n",
       "      <th></th>\n",
       "      <th></th>\n",
       "      <th></th>\n",
       "      <th></th>\n",
       "      <th></th>\n",
       "    </tr>\n",
       "  </thead>\n",
       "  <tbody>\n",
       "    <tr>\n",
       "      <th>1</th>\n",
       "      <td>1</td>\n",
       "      <td>MBBS</td>\n",
       "      <td>UR</td>\n",
       "      <td>UR</td>\n",
       "      <td>0</td>\n",
       "    </tr>\n",
       "    <tr>\n",
       "      <th>2</th>\n",
       "      <td>4</td>\n",
       "      <td>MBBS</td>\n",
       "      <td>UR</td>\n",
       "      <td>UR</td>\n",
       "      <td>1</td>\n",
       "    </tr>\n",
       "    <tr>\n",
       "      <th>3</th>\n",
       "      <td>7</td>\n",
       "      <td>MBBS</td>\n",
       "      <td>UR</td>\n",
       "      <td>UR</td>\n",
       "      <td>0</td>\n",
       "    </tr>\n",
       "    <tr>\n",
       "      <th>4</th>\n",
       "      <td>8</td>\n",
       "      <td>MBBS</td>\n",
       "      <td>UR</td>\n",
       "      <td>UR</td>\n",
       "      <td>0</td>\n",
       "    </tr>\n",
       "    <tr>\n",
       "      <th>5</th>\n",
       "      <td>10</td>\n",
       "      <td>MBBS</td>\n",
       "      <td>UR</td>\n",
       "      <td>UR</td>\n",
       "      <td>0</td>\n",
       "    </tr>\n",
       "  </tbody>\n",
       "</table>\n",
       "</div>"
      ],
      "text/plain": [
       "    1     3   4   5  7\n",
       "0                     \n",
       "1   1  MBBS  UR  UR  0\n",
       "2   4  MBBS  UR  UR  1\n",
       "3   7  MBBS  UR  UR  0\n",
       "4   8  MBBS  UR  UR  0\n",
       "5  10  MBBS  UR  UR  0"
      ]
     },
     "execution_count": 23,
     "metadata": {},
     "output_type": "execute_result"
    }
   ],
   "source": [
    "#y_pred_svr\n",
    "data.head()"
   ]
  },
  {
   "cell_type": "code",
   "execution_count": 24,
   "metadata": {
    "_uuid": "43256b6b925bd8867248830a392ff22a257eed55",
    "colab": {
     "autoexec": {
      "startup": false,
      "wait_interval": 0
     },
     "base_uri": "https://localhost:8080/",
     "height": 34
    },
    "colab_type": "code",
    "executionInfo": {
     "elapsed": 933,
     "status": "ok",
     "timestamp": 1527149404319,
     "user": {
      "displayName": "kunal goyal",
      "photoUrl": "//lh5.googleusercontent.com/-rcLjThBigII/AAAAAAAAAAI/AAAAAAAAATw/VeIoSWBx26c/s50-c-k-no/photo.jpg",
      "userId": "115961755730533780132"
     },
     "user_tz": -330
    },
    "id": "PH8mhwnqzSr_",
    "outputId": "af2f7c54-9c78-42a7-db7c-262207e9b7a5"
   },
   "outputs": [],
   "source": [
    "# summ = 0\n",
    "# for i in range (len(y_test)):\n",
    "#     if(abs(y_pred.iloc[i][7]-y_test.iloc[i][7])<=3):\n",
    "#         summ+=1\n",
    "# summ"
   ]
  },
  {
   "cell_type": "code",
   "execution_count": 25,
   "metadata": {
    "_uuid": "89dfbd38af14f2fd3a623253e302d8e0bab97958",
    "colab": {
     "autoexec": {
      "startup": false,
      "wait_interval": 0
     },
     "base_uri": "https://localhost:8080/",
     "height": 51
    },
    "colab_type": "code",
    "executionInfo": {
     "elapsed": 10793,
     "status": "ok",
     "timestamp": 1527149415283,
     "user": {
      "displayName": "kunal goyal",
      "photoUrl": "//lh5.googleusercontent.com/-rcLjThBigII/AAAAAAAAAAI/AAAAAAAAATw/VeIoSWBx26c/s50-c-k-no/photo.jpg",
      "userId": "115961755730533780132"
     },
     "user_tz": -330
    },
    "id": "AKADRhyvzSsC",
    "outputId": "a40fdf94-cd1f-4195-f74a-978c7a5cc556"
   },
   "outputs": [
    {
     "name": "stdout",
     "output_type": "stream",
     "text": [
      "What is your rank?\n"
     ]
    }
   ],
   "source": [
    "# now we can make prediction according to rank, Alloted_category, course, candidate category.\n",
    "print('What is your rank?')\n",
    "rank = int(input())"
   ]
  },
  {
   "cell_type": "code",
   "execution_count": 26,
   "metadata": {
    "_uuid": "29ee9cae91245d3f4a9505d704012c06488d2799",
    "colab": {
     "autoexec": {
      "startup": false,
      "wait_interval": 0
     },
     "base_uri": "https://localhost:8080/",
     "height": 187
    },
    "colab_type": "code",
    "executionInfo": {
     "elapsed": 11544,
     "status": "ok",
     "timestamp": 1527149426911,
     "user": {
      "displayName": "kunal goyal",
      "photoUrl": "//lh5.googleusercontent.com/-rcLjThBigII/AAAAAAAAAAI/AAAAAAAAATw/VeIoSWBx26c/s50-c-k-no/photo.jpg",
      "userId": "115961755730533780132"
     },
     "user_tz": -330
    },
    "id": "l0E7b5-YzSsF",
    "outputId": "a7036051-5370-43b9-ba07-dabe72e49b7d"
   },
   "outputs": [
    {
     "name": "stdout",
     "output_type": "stream",
     "text": [
      "Select the category which you want to be alloted(from options below)?\n",
      "1. UR \n",
      "2. UR PH\n",
      "3. OBC \n",
      "4. OBC PH\n",
      "5. SC\n",
      "6. SC PH\n",
      "7. ST\n",
      "8. ST PH\n"
     ]
    }
   ],
   "source": [
    "print('Select the category which you want to be alloted(from options below)?')\n",
    "print('1. UR \\n2. UR PH\\n3. OBC \\n4. OBC PH\\n5. SC\\n6. SC PH\\n7. ST\\n8. ST PH')\n",
    "alloted_cat = input()"
   ]
  },
  {
   "cell_type": "markdown",
   "metadata": {
    "_uuid": "f50495a1376efadcaa4b5a7c55c235f623d36764",
    "colab_type": "text",
    "id": "Akiw19SDEQBm"
   },
   "source": []
  },
  {
   "cell_type": "code",
   "execution_count": 27,
   "metadata": {
    "_uuid": "2b27c89bd3c8aca60072cbd30e9fb6279ea2a2ff",
    "colab": {
     "autoexec": {
      "startup": false,
      "wait_interval": 0
     },
     "base_uri": "https://localhost:8080/",
     "height": 187
    },
    "colab_type": "code",
    "executionInfo": {
     "elapsed": 6015,
     "status": "ok",
     "timestamp": 1527149432994,
     "user": {
      "displayName": "kunal goyal",
      "photoUrl": "//lh5.googleusercontent.com/-rcLjThBigII/AAAAAAAAAAI/AAAAAAAAATw/VeIoSWBx26c/s50-c-k-no/photo.jpg",
      "userId": "115961755730533780132"
     },
     "user_tz": -330
    },
    "id": "22OJ7Yw31r2g",
    "outputId": "6218a9e7-b184-452e-d63a-385a477923b2"
   },
   "outputs": [
    {
     "name": "stdout",
     "output_type": "stream",
     "text": [
      "Select the category which you belong to (from options below)?\n",
      "1. UR \n",
      "2. UR PH\n",
      "3. OBC \n",
      "4. OBC PH\n",
      "5. SC\n",
      "6. SC PH\n",
      "7. ST\n",
      "8. ST PH\n"
     ]
    }
   ],
   "source": [
    "print('Select the category which you belong to (from options below)?')\n",
    "print('1. UR \\n2. UR PH\\n3. OBC \\n4. OBC PH\\n5. SC\\n6. SC PH\\n7. ST\\n8. ST PH')\n",
    "candidate_cat = input()"
   ]
  },
  {
   "cell_type": "code",
   "execution_count": 28,
   "metadata": {
    "_uuid": "eead8dde38eb617a4a86414bc92e314fb96cc7ae",
    "colab": {
     "autoexec": {
      "startup": false,
      "wait_interval": 0
     },
     "base_uri": "https://localhost:8080/",
     "height": 85
    },
    "colab_type": "code",
    "executionInfo": {
     "elapsed": 4857,
     "status": "ok",
     "timestamp": 1527149437911,
     "user": {
      "displayName": "kunal goyal",
      "photoUrl": "//lh5.googleusercontent.com/-rcLjThBigII/AAAAAAAAAAI/AAAAAAAAATw/VeIoSWBx26c/s50-c-k-no/photo.jpg",
      "userId": "115961755730533780132"
     },
     "user_tz": -330
    },
    "id": "bpX4xvE11z5O",
    "outputId": "e4ed9718-9394-44be-a0e1-daeea25039a4"
   },
   "outputs": [
    {
     "name": "stdout",
     "output_type": "stream",
     "text": [
      "Select the course which you wana to take from options below)?\n",
      "1. MBBS \n",
      "2. BDS\n"
     ]
    }
   ],
   "source": [
    "print('Select the course which you wana to take from options below)?')\n",
    "print('1. MBBS \\n2. BDS')\n",
    "course = input()"
   ]
  },
  {
   "cell_type": "code",
   "execution_count": 29,
   "metadata": {},
   "outputs": [],
   "source": [
    "# if alloted_cat=='UR' or alloted_cat=='OBC'):\n",
    "#     if course == 'MBBS':\n",
    "#         if rank > 6000:\n",
    "#             print('No college')\n",
    "#     if course == 'BDS':\n",
    "#         if rank>8400:\n",
    "#             print('No college')\n",
    "\n",
    "# if alloted_cat=='UR PH' or alloted_cat=='OBC PH':\n",
    "#     if rank > 72000:\n",
    "#         print('No college')\n",
    "# if alloted_cat=='SC':\n",
    "#     if course == 'MBBS':\n",
    "#         if rank > 6000:\n",
    "#             print('No college')\n",
    "#     if course == 'BDS':\n",
    "#         if rank>8400:\n",
    "#             print('No college')\n",
    "\n",
    "val = np.max(data[la(data[4]==alloted_cat,data[3]==course)][1])\n",
    "val += val*0.1\n",
    "if rank>val:\n",
    "    print('Sorry, according to previous counsellings you are not eligible to get any college for All India NEET couselling')\n",
    "    exit()"
   ]
  },
  {
   "cell_type": "code",
   "execution_count": 30,
   "metadata": {
    "_uuid": "b29bd455904c2a58f47a08a8981b88df50444472",
    "colab": {
     "autoexec": {
      "startup": false,
      "wait_interval": 0
     },
     "base_uri": "https://localhost:8080/",
     "height": 117
    },
    "colab_type": "code",
    "executionInfo": {
     "elapsed": 928,
     "status": "ok",
     "timestamp": 1527149438920,
     "user": {
      "displayName": "kunal goyal",
      "photoUrl": "//lh5.googleusercontent.com/-rcLjThBigII/AAAAAAAAAAI/AAAAAAAAATw/VeIoSWBx26c/s50-c-k-no/photo.jpg",
      "userId": "115961755730533780132"
     },
     "user_tz": -330
    },
    "id": "7owwy0gW6NUg",
    "outputId": "4bf4b45f-a444-46cd-dc41-f2a69a875478"
   },
   "outputs": [
    {
     "data": {
      "text/html": [
       "<div>\n",
       "<style>\n",
       "    .dataframe thead tr:only-child th {\n",
       "        text-align: right;\n",
       "    }\n",
       "\n",
       "    .dataframe thead th {\n",
       "        text-align: left;\n",
       "    }\n",
       "\n",
       "    .dataframe tbody tr th {\n",
       "        vertical-align: top;\n",
       "    }\n",
       "</style>\n",
       "<table border=\"1\" class=\"dataframe\">\n",
       "  <thead>\n",
       "    <tr style=\"text-align: right;\">\n",
       "      <th></th>\n",
       "      <th>0</th>\n",
       "      <th>1</th>\n",
       "      <th>3_BDS</th>\n",
       "      <th>3_MBBS</th>\n",
       "      <th>4_OBC</th>\n",
       "      <th>4_OBC PH</th>\n",
       "      <th>4_SC</th>\n",
       "      <th>4_SC PH</th>\n",
       "      <th>4_ST</th>\n",
       "      <th>4_ST PH</th>\n",
       "      <th>4_UR</th>\n",
       "      <th>4_UR PH</th>\n",
       "      <th>5_OBC</th>\n",
       "      <th>5_OBC PH</th>\n",
       "      <th>5_SC</th>\n",
       "      <th>5_SC PH</th>\n",
       "      <th>5_ST</th>\n",
       "      <th>5_ST PH</th>\n",
       "      <th>5_UR</th>\n",
       "      <th>5_UR PH</th>\n",
       "    </tr>\n",
       "  </thead>\n",
       "  <tbody>\n",
       "    <tr>\n",
       "      <th>0</th>\n",
       "      <td>1</td>\n",
       "      <td>5000</td>\n",
       "      <td>0</td>\n",
       "      <td>0</td>\n",
       "      <td>0</td>\n",
       "      <td>0</td>\n",
       "      <td>0</td>\n",
       "      <td>0</td>\n",
       "      <td>0</td>\n",
       "      <td>0</td>\n",
       "      <td>0</td>\n",
       "      <td>0</td>\n",
       "      <td>0</td>\n",
       "      <td>0</td>\n",
       "      <td>0</td>\n",
       "      <td>0</td>\n",
       "      <td>0</td>\n",
       "      <td>0</td>\n",
       "      <td>0</td>\n",
       "      <td>0</td>\n",
       "    </tr>\n",
       "  </tbody>\n",
       "</table>\n",
       "</div>"
      ],
      "text/plain": [
       "   0     1  3_BDS  3_MBBS  4_OBC  4_OBC PH  4_SC  4_SC PH  4_ST  4_ST PH  \\\n",
       "0  1  5000      0       0      0         0     0        0     0        0   \n",
       "\n",
       "   4_UR  4_UR PH  5_OBC  5_OBC PH  5_SC  5_SC PH  5_ST  5_ST PH  5_UR  5_UR PH  \n",
       "0     0        0      0         0     0        0     0        0     0        0  "
      ]
     },
     "execution_count": 30,
     "metadata": {},
     "output_type": "execute_result"
    }
   ],
   "source": [
    "clmns = ['3_BDS','3_MBBS','4_OBC','4_OBC PH','4_SC','4_SC PH','4_ST','4_ST PH','4_UR','4_UR PH','5_OBC','5_OBC PH','5_SC','5_SC PH','5_ST','5_ST PH','5_UR','5_UR PH']\n",
    "test = pd.DataFrame({0:[1],1:[rank]})\n",
    "for i in clmns:\n",
    "  test[i] = pd.Series(np.random.randint(1))\n",
    "test"
   ]
  },
  {
   "cell_type": "code",
   "execution_count": 31,
   "metadata": {
    "_uuid": "6a560ba21ab8ea65bf37a30bd2b78dbeec8e5024",
    "colab": {
     "autoexec": {
      "startup": false,
      "wait_interval": 0
     }
    },
    "colab_type": "code",
    "collapsed": true,
    "id": "Gg9m65RjETnV"
   },
   "outputs": [],
   "source": [
    "test = test.set_index(0)"
   ]
  },
  {
   "cell_type": "code",
   "execution_count": 32,
   "metadata": {
    "_uuid": "73114db0de5a928a388729534fae8d379178b7d0",
    "colab": {
     "autoexec": {
      "startup": false,
      "wait_interval": 0
     },
     "base_uri": "https://localhost:8080/",
     "height": 148
    },
    "colab_type": "code",
    "executionInfo": {
     "elapsed": 766,
     "status": "ok",
     "timestamp": 1527149441465,
     "user": {
      "displayName": "kunal goyal",
      "photoUrl": "//lh5.googleusercontent.com/-rcLjThBigII/AAAAAAAAAAI/AAAAAAAAATw/VeIoSWBx26c/s50-c-k-no/photo.jpg",
      "userId": "115961755730533780132"
     },
     "user_tz": -330
    },
    "id": "CCPBpFRjEZ-t",
    "outputId": "791dfbe0-2750-44b6-9ff7-e1e1ca76a53b"
   },
   "outputs": [
    {
     "data": {
      "text/html": [
       "<div>\n",
       "<style>\n",
       "    .dataframe thead tr:only-child th {\n",
       "        text-align: right;\n",
       "    }\n",
       "\n",
       "    .dataframe thead th {\n",
       "        text-align: left;\n",
       "    }\n",
       "\n",
       "    .dataframe tbody tr th {\n",
       "        vertical-align: top;\n",
       "    }\n",
       "</style>\n",
       "<table border=\"1\" class=\"dataframe\">\n",
       "  <thead>\n",
       "    <tr style=\"text-align: right;\">\n",
       "      <th></th>\n",
       "      <th>1</th>\n",
       "      <th>3_BDS</th>\n",
       "      <th>3_MBBS</th>\n",
       "      <th>4_OBC</th>\n",
       "      <th>4_OBC PH</th>\n",
       "      <th>4_SC</th>\n",
       "      <th>4_SC PH</th>\n",
       "      <th>4_ST</th>\n",
       "      <th>4_ST PH</th>\n",
       "      <th>4_UR</th>\n",
       "      <th>4_UR PH</th>\n",
       "      <th>5_OBC</th>\n",
       "      <th>5_OBC PH</th>\n",
       "      <th>5_SC</th>\n",
       "      <th>5_SC PH</th>\n",
       "      <th>5_ST</th>\n",
       "      <th>5_ST PH</th>\n",
       "      <th>5_UR</th>\n",
       "      <th>5_UR PH</th>\n",
       "    </tr>\n",
       "    <tr>\n",
       "      <th>0</th>\n",
       "      <th></th>\n",
       "      <th></th>\n",
       "      <th></th>\n",
       "      <th></th>\n",
       "      <th></th>\n",
       "      <th></th>\n",
       "      <th></th>\n",
       "      <th></th>\n",
       "      <th></th>\n",
       "      <th></th>\n",
       "      <th></th>\n",
       "      <th></th>\n",
       "      <th></th>\n",
       "      <th></th>\n",
       "      <th></th>\n",
       "      <th></th>\n",
       "      <th></th>\n",
       "      <th></th>\n",
       "      <th></th>\n",
       "    </tr>\n",
       "  </thead>\n",
       "  <tbody>\n",
       "    <tr>\n",
       "      <th>1</th>\n",
       "      <td>5000</td>\n",
       "      <td>0</td>\n",
       "      <td>1</td>\n",
       "      <td>0</td>\n",
       "      <td>0</td>\n",
       "      <td>0</td>\n",
       "      <td>0</td>\n",
       "      <td>0</td>\n",
       "      <td>0</td>\n",
       "      <td>1</td>\n",
       "      <td>0</td>\n",
       "      <td>0</td>\n",
       "      <td>0</td>\n",
       "      <td>0</td>\n",
       "      <td>0</td>\n",
       "      <td>0</td>\n",
       "      <td>0</td>\n",
       "      <td>1</td>\n",
       "      <td>0</td>\n",
       "    </tr>\n",
       "  </tbody>\n",
       "</table>\n",
       "</div>"
      ],
      "text/plain": [
       "      1  3_BDS  3_MBBS  4_OBC  4_OBC PH  4_SC  4_SC PH  4_ST  4_ST PH  4_UR  \\\n",
       "0                                                                             \n",
       "1  5000      0       1      0         0     0        0     0        0     1   \n",
       "\n",
       "   4_UR PH  5_OBC  5_OBC PH  5_SC  5_SC PH  5_ST  5_ST PH  5_UR  5_UR PH  \n",
       "0                                                                         \n",
       "1        0      0         0     0        0     0        0     1        0  "
      ]
     },
     "execution_count": 32,
     "metadata": {},
     "output_type": "execute_result"
    }
   ],
   "source": [
    "test['3_'+course] = 1\n",
    "test['4_'+alloted_cat] = 1\n",
    "test['5_'+candidate_cat] = 1\n",
    "test"
   ]
  },
  {
   "cell_type": "code",
   "execution_count": 33,
   "metadata": {
    "_uuid": "f0cda2252d01f0e6c51f4fc394cedbe9b4d399d9",
    "colab": {
     "autoexec": {
      "startup": false,
      "wait_interval": 0
     }
    },
    "colab_type": "code",
    "collapsed": true,
    "id": "luu7QRJrE7Bi"
   },
   "outputs": [],
   "source": [
    "dtree_model = DecisionTreeRegressor(random_state=42).fit(X, Y)"
   ]
  },
  {
   "cell_type": "code",
   "execution_count": 34,
   "metadata": {
    "_uuid": "605ba25bc038251c48b902c68bc9fdcde3afe8a6",
    "colab": {
     "autoexec": {
      "startup": false,
      "wait_interval": 0
     }
    },
    "colab_type": "code",
    "collapsed": true,
    "id": "1fS7AHojFJBu"
   },
   "outputs": [],
   "source": [
    "ans = dtree_model.predict(test)\n"
   ]
  },
  {
   "cell_type": "code",
   "execution_count": 35,
   "metadata": {
    "_uuid": "dc3a328b91ab7fe28f8b6d65712df136a7836f6e",
    "colab": {
     "autoexec": {
      "startup": false,
      "wait_interval": 0
     },
     "base_uri": "https://localhost:8080/",
     "height": 170
    },
    "colab_type": "code",
    "executionInfo": {
     "elapsed": 797,
     "status": "ok",
     "timestamp": 1527149478765,
     "user": {
      "displayName": "kunal goyal",
      "photoUrl": "//lh5.googleusercontent.com/-rcLjThBigII/AAAAAAAAAAI/AAAAAAAAATw/VeIoSWBx26c/s50-c-k-no/photo.jpg",
      "userId": "115961755730533780132"
     },
     "user_tz": -330
    },
    "id": "7wmMyKX3FS97",
    "outputId": "80130dda-2544-4ce4-b97c-909bed76377c"
   },
   "outputs": [
    {
     "name": "stdout",
     "output_type": "stream",
     "text": [
      "Model predicted colleges:\n",
      "\n",
      "\n",
      "Govt. Medical College and  Hospital, Chandrapur\n",
      "GMC, Jalaun, UP\n",
      "BANKURA SAMMILANI MED COLL,BANKURA\n",
      "GOVT. DHARAMAPURI MED COLL,DHARMAPURI\n",
      "Govt. Sivgangai M. C. Sivagangai\n",
      "GOVERNMENT MEDICAL COLLEGE, MIRAJ\n"
     ]
    }
   ],
   "source": [
    "print('Model predicted colleges:\\n\\n')\n",
    "\n",
    "if int(ans[0])<3:\n",
    "  for i in range(6):\n",
    "    print(int_to_clg[i])\n",
    "elif int(ans[0])>213:\n",
    "  for i in range(211,216):\n",
    "    print(int_to_clg[i])\n",
    "else:\n",
    "  for i in range(int(ans[0]),int(ans[0])+3):\n",
    "    print(int_to_clg[i])\n",
    "  for i in range(int(ans[0])-3,int(ans[0])):\n",
    "    print(int_to_clg[i])\n",
    "  "
   ]
  }
 ],
 "metadata": {
  "colab": {
   "default_view": {},
   "name": "notebook.ipynb",
   "provenance": [],
   "toc_visible": true,
   "version": "0.3.2",
   "views": {}
  },
  "kernelspec": {
   "display_name": "Python 3",
   "language": "python",
   "name": "python3"
  },
  "language_info": {
   "codemirror_mode": {
    "name": "ipython",
    "version": 3
   },
   "file_extension": ".py",
   "mimetype": "text/x-python",
   "name": "python",
   "nbconvert_exporter": "python",
   "pygments_lexer": "ipython3",
   "version": "3.6.3"
  }
 },
 "nbformat": 4,
 "nbformat_minor": 2
}
